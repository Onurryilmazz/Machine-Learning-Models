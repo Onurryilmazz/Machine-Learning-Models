{
  "nbformat": 4,
  "nbformat_minor": 0,
  "metadata": {
    "colab": {
      "name": "CarMarket.ipynb",
      "provenance": [],
      "collapsed_sections": [],
      "authorship_tag": "ABX9TyPat1e1I8X822lIpVuDmddo"
    },
    "kernelspec": {
      "name": "python3",
      "display_name": "Python 3"
    }
  },
  "cells": [
    {
      "cell_type": "code",
      "metadata": {
        "id": "ASMP496T4HBy",
        "colab_type": "code",
        "colab": {}
      },
      "source": [
        "import numpy as np\n",
        "import pandas as pd\n",
        "import seaborn as sns\n",
        "import io\n",
        "from google.colab import files\n",
        "from sklearn.preprocessing import LabelEncoder\n",
        "from sklearn.impute import KNNImputer\n",
        "from sklearn.model_selection import train_test_split, GridSearchCV,cross_val_score\n",
        "from sklearn.ensemble import RandomForestRegressor,GradientBoostingRegressor\n",
        "from sklearn.metrics import mean_squared_error, r2_score\n",
        "from sklearn import neighbors\n",
        "from sklearn.svm import SVR\n",
        "from warnings import filterwarnings\n",
        "filterwarnings('ignore')\n",
        "from lightgbm import LGBMRegressor\n",
        "from xgboost import XGBRegressor\n",
        "from sklearn.linear_model import LinearRegression, Lasso, ElasticNet, Ridge\n",
        "from sklearn import model_selection \n",
        "from sklearn.tree import DecisionTreeRegressor\n",
        "from sklearn.neighbors import KNeighborsRegressor\n",
        "from sklearn.neural_network import MLPRegressor\n"
      ],
      "execution_count": 5,
      "outputs": []
    },
    {
      "cell_type": "code",
      "metadata": {
        "id": "BZtDxz7SBBZW",
        "colab_type": "code",
        "colab": {}
      },
      "source": [
        "uploaded = files.upload()\n",
        "df=pd.read_csv(io.BytesIO(uploaded['turkey_car_market.csv']))"
      ],
      "execution_count": 87,
      "outputs": []
    },
    {
      "cell_type": "code",
      "metadata": {
        "id": "TxYjcEWWCCxK",
        "colab_type": "code",
        "colab": {
          "base_uri": "https://localhost:8080/",
          "height": 34
        },
        "outputId": "c771999e-c528-4a35-8b8c-3eb245a27d68"
      },
      "source": [
        "df.shape"
      ],
      "execution_count": 88,
      "outputs": [
        {
          "output_type": "execute_result",
          "data": {
            "text/plain": [
              "(9044, 15)"
            ]
          },
          "metadata": {
            "tags": []
          },
          "execution_count": 88
        }
      ]
    },
    {
      "cell_type": "code",
      "metadata": {
        "id": "98XAN4oUBYeZ",
        "colab_type": "code",
        "colab": {
          "base_uri": "https://localhost:8080/",
          "height": 306
        },
        "outputId": "596e1032-fac3-40f1-cfab-186700dc31df"
      },
      "source": [
        "df.head()"
      ],
      "execution_count": 89,
      "outputs": [
        {
          "output_type": "execute_result",
          "data": {
            "text/html": [
              "<div>\n",
              "<style scoped>\n",
              "    .dataframe tbody tr th:only-of-type {\n",
              "        vertical-align: middle;\n",
              "    }\n",
              "\n",
              "    .dataframe tbody tr th {\n",
              "        vertical-align: top;\n",
              "    }\n",
              "\n",
              "    .dataframe thead th {\n",
              "        text-align: right;\n",
              "    }\n",
              "</style>\n",
              "<table border=\"1\" class=\"dataframe\">\n",
              "  <thead>\n",
              "    <tr style=\"text-align: right;\">\n",
              "      <th></th>\n",
              "      <th>İlan Tarihi</th>\n",
              "      <th>Marka</th>\n",
              "      <th>Arac Tip Grubu</th>\n",
              "      <th>Arac Tip</th>\n",
              "      <th>Model Yıl</th>\n",
              "      <th>Yakıt Turu</th>\n",
              "      <th>Vites</th>\n",
              "      <th>CCM</th>\n",
              "      <th>Beygir Gucu</th>\n",
              "      <th>Renk</th>\n",
              "      <th>Kasa Tipi</th>\n",
              "      <th>Kimden</th>\n",
              "      <th>Durum</th>\n",
              "      <th>Km</th>\n",
              "      <th>Fiyat</th>\n",
              "    </tr>\n",
              "  </thead>\n",
              "  <tbody>\n",
              "    <tr>\n",
              "      <th>0</th>\n",
              "      <td>27/05/2020</td>\n",
              "      <td>Jaguar</td>\n",
              "      <td>XF</td>\n",
              "      <td>2.0 D Prestige Plus</td>\n",
              "      <td>2017.0</td>\n",
              "      <td>Dizel</td>\n",
              "      <td>Otomatik Vites</td>\n",
              "      <td>1801-2000 cc</td>\n",
              "      <td>176-200 BG</td>\n",
              "      <td>Lacivert</td>\n",
              "      <td>Hatchback 5 Kapı</td>\n",
              "      <td>Galeriden</td>\n",
              "      <td>2. El</td>\n",
              "      <td>26100</td>\n",
              "      <td>634500</td>\n",
              "    </tr>\n",
              "    <tr>\n",
              "      <th>1</th>\n",
              "      <td>16/06/2020</td>\n",
              "      <td>Acura</td>\n",
              "      <td>CL</td>\n",
              "      <td>-</td>\n",
              "      <td>2015.0</td>\n",
              "      <td>Dizel</td>\n",
              "      <td>Yarı Otomatik Vites</td>\n",
              "      <td>1301-1600 cc</td>\n",
              "      <td>101-125 BG</td>\n",
              "      <td>Mavi</td>\n",
              "      <td>Sedan</td>\n",
              "      <td>Sahibinden</td>\n",
              "      <td>2. El</td>\n",
              "      <td>127000</td>\n",
              "      <td>151500</td>\n",
              "    </tr>\n",
              "    <tr>\n",
              "      <th>2</th>\n",
              "      <td>14/06/2020</td>\n",
              "      <td>Acura</td>\n",
              "      <td>CL</td>\n",
              "      <td>2.2</td>\n",
              "      <td>1994.0</td>\n",
              "      <td>Benzin/LPG</td>\n",
              "      <td>Düz Vites</td>\n",
              "      <td>1301-1600 cc</td>\n",
              "      <td>101-125 BG</td>\n",
              "      <td>Turkuaz</td>\n",
              "      <td>Sedan</td>\n",
              "      <td>Sahibinden</td>\n",
              "      <td>2. El</td>\n",
              "      <td>175000</td>\n",
              "      <td>19750</td>\n",
              "    </tr>\n",
              "    <tr>\n",
              "      <th>3</th>\n",
              "      <td>11/06/2020</td>\n",
              "      <td>Acura</td>\n",
              "      <td>CL</td>\n",
              "      <td>-</td>\n",
              "      <td>2013.0</td>\n",
              "      <td>Dizel</td>\n",
              "      <td>Düz Vites</td>\n",
              "      <td>1301-1600 cc</td>\n",
              "      <td>76-100 BG</td>\n",
              "      <td>Kahverengi</td>\n",
              "      <td>Sedan</td>\n",
              "      <td>Sahibinden</td>\n",
              "      <td>2. El</td>\n",
              "      <td>325</td>\n",
              "      <td>52000</td>\n",
              "    </tr>\n",
              "    <tr>\n",
              "      <th>4</th>\n",
              "      <td>11/06/2020</td>\n",
              "      <td>Acura</td>\n",
              "      <td>CL</td>\n",
              "      <td>2.2</td>\n",
              "      <td>2010.0</td>\n",
              "      <td>Dizel</td>\n",
              "      <td>Otomatik Vites</td>\n",
              "      <td>1801-2000 cc</td>\n",
              "      <td>151-175 BG</td>\n",
              "      <td>Beyaz</td>\n",
              "      <td>Sedan</td>\n",
              "      <td>Sahibinden</td>\n",
              "      <td>2. El</td>\n",
              "      <td>207000</td>\n",
              "      <td>148750</td>\n",
              "    </tr>\n",
              "  </tbody>\n",
              "</table>\n",
              "</div>"
            ],
            "text/plain": [
              "  İlan Tarihi   Marka Arac Tip Grubu  ...  Durum      Km   Fiyat\n",
              "0  27/05/2020  Jaguar             XF  ...  2. El   26100  634500\n",
              "1  16/06/2020   Acura             CL  ...  2. El  127000  151500\n",
              "2  14/06/2020   Acura             CL  ...  2. El  175000   19750\n",
              "3  11/06/2020   Acura             CL  ...  2. El     325   52000\n",
              "4  11/06/2020   Acura             CL  ...  2. El  207000  148750\n",
              "\n",
              "[5 rows x 15 columns]"
            ]
          },
          "metadata": {
            "tags": []
          },
          "execution_count": 89
        }
      ]
    },
    {
      "cell_type": "code",
      "metadata": {
        "id": "SOMeJR3lB80a",
        "colab_type": "code",
        "colab": {
          "base_uri": "https://localhost:8080/",
          "height": 289
        },
        "outputId": "c423cd54-044b-4a2a-a564-c75ac4b98628"
      },
      "source": [
        "df.isnull().sum()"
      ],
      "execution_count": 90,
      "outputs": [
        {
          "output_type": "execute_result",
          "data": {
            "text/plain": [
              "İlan Tarihi       0\n",
              "Marka             0\n",
              "Arac Tip Grubu    0\n",
              "Arac Tip          0\n",
              "Model Yıl         0\n",
              "Yakıt Turu        0\n",
              "Vites             0\n",
              "CCM               0\n",
              "Beygir Gucu       0\n",
              "Renk              0\n",
              "Kasa Tipi         0\n",
              "Kimden            0\n",
              "Durum             0\n",
              "Km                0\n",
              "Fiyat             0\n",
              "dtype: int64"
            ]
          },
          "metadata": {
            "tags": []
          },
          "execution_count": 90
        }
      ]
    },
    {
      "cell_type": "code",
      "metadata": {
        "id": "JtitwfuICxp5",
        "colab_type": "code",
        "colab": {
          "base_uri": "https://localhost:8080/",
          "height": 391
        },
        "outputId": "6873801a-8bf1-4458-fb4e-e88a5cd05c97"
      },
      "source": [
        "df.info()"
      ],
      "execution_count": 91,
      "outputs": [
        {
          "output_type": "stream",
          "text": [
            "<class 'pandas.core.frame.DataFrame'>\n",
            "RangeIndex: 9044 entries, 0 to 9043\n",
            "Data columns (total 15 columns):\n",
            " #   Column          Non-Null Count  Dtype  \n",
            "---  ------          --------------  -----  \n",
            " 0   İlan Tarihi     9044 non-null   object \n",
            " 1   Marka           9044 non-null   object \n",
            " 2   Arac Tip Grubu  9044 non-null   object \n",
            " 3   Arac Tip        9044 non-null   object \n",
            " 4   Model Yıl       9044 non-null   float64\n",
            " 5   Yakıt Turu      9044 non-null   object \n",
            " 6   Vites           9044 non-null   object \n",
            " 7   CCM             9044 non-null   object \n",
            " 8   Beygir Gucu     9044 non-null   object \n",
            " 9   Renk            9044 non-null   object \n",
            " 10  Kasa Tipi       9044 non-null   object \n",
            " 11  Kimden          9044 non-null   object \n",
            " 12  Durum           9044 non-null   object \n",
            " 13  Km              9044 non-null   int64  \n",
            " 14  Fiyat           9044 non-null   int64  \n",
            "dtypes: float64(1), int64(2), object(12)\n",
            "memory usage: 1.0+ MB\n"
          ],
          "name": "stdout"
        }
      ]
    },
    {
      "cell_type": "code",
      "metadata": {
        "id": "KwWQdFhVC2MG",
        "colab_type": "code",
        "colab": {
          "base_uri": "https://localhost:8080/",
          "height": 136
        },
        "outputId": "bb1c62f5-261b-4f93-ab4d-726427ea9cfe"
      },
      "source": [
        "print(len(df['Marka'].unique()))\n",
        "markalar=df['Marka'].unique()\n",
        "markalar"
      ],
      "execution_count": 92,
      "outputs": [
        {
          "output_type": "stream",
          "text": [
            "36\n"
          ],
          "name": "stdout"
        },
        {
          "output_type": "execute_result",
          "data": {
            "text/plain": [
              "array(['Jaguar', 'Acura', 'Jeep', 'Hyundai', 'Alfa Romeo', 'Audi',\n",
              "       'Mercedes', 'Volkswagen', 'Land Rover', 'BMW', 'Dacia', 'Renault',\n",
              "       'Peugeot', 'Chevrolet', 'Chery', 'Citroen', 'Chrysler', 'Fiat',\n",
              "       'Ford', 'Honda', 'Geely', 'Infiniti', 'Isuzu', 'Kia', 'Lada',\n",
              "       'Maserati', 'Mazda', 'Mini', 'Mitsubishi', 'Nissan', 'Opel',\n",
              "       'Porsche', 'Rover', 'Seat', 'Skoda', 'Tofaş'], dtype=object)"
            ]
          },
          "metadata": {
            "tags": []
          },
          "execution_count": 92
        }
      ]
    },
    {
      "cell_type": "code",
      "metadata": {
        "id": "ECKdn9W-C846",
        "colab_type": "code",
        "colab": {
          "base_uri": "https://localhost:8080/",
          "height": 51
        },
        "outputId": "9da14da2-da26-4320-9944-cb4825ee539b"
      },
      "source": [
        "print(len(df['Arac Tip'].unique()))\n",
        "car_type=df['Arac Tip'].unique()\n",
        "print(car_type)"
      ],
      "execution_count": 93,
      "outputs": [
        {
          "output_type": "stream",
          "text": [
            "1759\n",
            "['2.0 D Prestige Plus' '-' '2.2' ... 'SLX ie' 'SL' 'L']\n"
          ],
          "name": "stdout"
        }
      ]
    },
    {
      "cell_type": "code",
      "metadata": {
        "id": "0YNh417SDIEd",
        "colab_type": "code",
        "colab": {
          "base_uri": "https://localhost:8080/",
          "height": 34
        },
        "outputId": "ad4546cf-2605-472c-9784-be1abca998f4"
      },
      "source": [
        "len(df[df['Arac Tip']=='-'])  #bilinmeyen kaç değer var ona bakıyoruz"
      ],
      "execution_count": 94,
      "outputs": [
        {
          "output_type": "execute_result",
          "data": {
            "text/plain": [
              "55"
            ]
          },
          "metadata": {
            "tags": []
          },
          "execution_count": 94
        }
      ]
    },
    {
      "cell_type": "code",
      "metadata": {
        "id": "DdIF17dKDKlf",
        "colab_type": "code",
        "colab": {
          "base_uri": "https://localhost:8080/",
          "height": 68
        },
        "outputId": "07446160-3b02-4070-dac2-99aeac203a01"
      },
      "source": [
        "print(len(df['Yakıt Turu'].unique()))\n",
        "yakıt_type=df['Yakıt Turu'].unique()\n",
        "yakıt_type"
      ],
      "execution_count": 95,
      "outputs": [
        {
          "output_type": "stream",
          "text": [
            "5\n"
          ],
          "name": "stdout"
        },
        {
          "output_type": "execute_result",
          "data": {
            "text/plain": [
              "array(['Dizel', 'Benzin/LPG', 'Hibrit', 'Benzin', 'Elektrik'],\n",
              "      dtype=object)"
            ]
          },
          "metadata": {
            "tags": []
          },
          "execution_count": 95
        }
      ]
    },
    {
      "cell_type": "code",
      "metadata": {
        "id": "mvE_80sfDQq1",
        "colab_type": "code",
        "colab": {
          "base_uri": "https://localhost:8080/",
          "height": 51
        },
        "outputId": "74b6b066-928f-4b75-bc1c-018eae2eaf46"
      },
      "source": [
        "print(len(df['Vites'].unique()))\n",
        "vites_type=df['Vites'].unique()\n",
        "vites_type"
      ],
      "execution_count": 96,
      "outputs": [
        {
          "output_type": "stream",
          "text": [
            "3\n"
          ],
          "name": "stdout"
        },
        {
          "output_type": "execute_result",
          "data": {
            "text/plain": [
              "array(['Otomatik Vites', 'Yarı Otomatik Vites', 'Düz Vites'], dtype=object)"
            ]
          },
          "metadata": {
            "tags": []
          },
          "execution_count": 96
        }
      ]
    },
    {
      "cell_type": "code",
      "metadata": {
        "id": "9ysrzvEWDTuN",
        "colab_type": "code",
        "colab": {
          "base_uri": "https://localhost:8080/",
          "height": 119
        },
        "outputId": "655fe474-93fe-4a89-ac08-8d0b2aea2c2f"
      },
      "source": [
        "print('Farklı CCM değer sayısı : ', len(df['CCM'].unique()))\n",
        "CCM_type=df['CCM'].unique()\n",
        "print(CCM_type)\n",
        "print('Bilmiyorum değeri girilmiş CCM sayısı : ', len(df[df['CCM']=='Bilmiyorum']))"
      ],
      "execution_count": 97,
      "outputs": [
        {
          "output_type": "stream",
          "text": [
            "Farklı CCM değer sayısı :  15\n",
            "['1801-2000 cc' '1301-1600 cc' '1601-1800 cc' '1300 cc ve altı'\n",
            " '2501-3000 cc' 'Bilmiyorum' '2001-2500 cc' '3501-4000 cc' '3001-3500 cc'\n",
            " '4001-4500 cc' '-' '6001 cc ve üzeri' '5501-6000 cc' '5001-5500 cc'\n",
            " '4501-5000 cc']\n",
            "Bilmiyorum değeri girilmiş CCM sayısı :  108\n"
          ],
          "name": "stdout"
        }
      ]
    },
    {
      "cell_type": "code",
      "metadata": {
        "id": "9NrZpWczDa8z",
        "colab_type": "code",
        "colab": {
          "base_uri": "https://localhost:8080/",
          "height": 119
        },
        "outputId": "1b4f6899-ec89-42b0-cf9e-8d952b5577ca"
      },
      "source": [
        "print('Farklı Beygir gucu değer sayısı : ', len(df['Beygir Gucu'].unique()))\n",
        "power=df['Beygir Gucu'].unique()\n",
        "print(power)\n",
        "print('Bilmiyorum değeri girilmiş Beygir Gucu sayısı : ', len(df[df['Beygir Gucu']=='Bilmiyorum']))"
      ],
      "execution_count": 98,
      "outputs": [
        {
          "output_type": "stream",
          "text": [
            "Farklı Beygir gucu değer sayısı :  19\n",
            "['176-200 BG' '101-125 BG' '76-100 BG' '151-175 BG' '100 BG ve altı'\n",
            " '201-225 BG' '126-150 BG' 'Bilmiyorum' '276-300 BG' '226-250 BG'\n",
            " '251-275 BG' '301-325 BG' '326-350 BG' '376-400 BG' '51-75 BG' '-'\n",
            " '601 BG ve üzeri' '50 BG ve altı' '451-475 BG']\n",
            "Bilmiyorum değeri girilmiş Beygir Gucu sayısı :  5549\n"
          ],
          "name": "stdout"
        }
      ]
    },
    {
      "cell_type": "code",
      "metadata": {
        "id": "w4dys1kAEDmE",
        "colab_type": "code",
        "colab": {
          "base_uri": "https://localhost:8080/",
          "height": 119
        },
        "outputId": "7aee0292-a943-4b37-ab28-3b633c5cdbec"
      },
      "source": [
        "df['car_age']=2020-df['Model Yıl']     #modelin yılı yerine yaşı ile işlem yapıcağız\n",
        "df['car_age'].head()"
      ],
      "execution_count": 99,
      "outputs": [
        {
          "output_type": "execute_result",
          "data": {
            "text/plain": [
              "0     3.0\n",
              "1     5.0\n",
              "2    26.0\n",
              "3     7.0\n",
              "4    10.0\n",
              "Name: car_age, dtype: float64"
            ]
          },
          "metadata": {
            "tags": []
          },
          "execution_count": 99
        }
      ]
    },
    {
      "cell_type": "code",
      "metadata": {
        "id": "MzrvfjOOEWIP",
        "colab_type": "code",
        "colab": {
          "base_uri": "https://localhost:8080/",
          "height": 85
        },
        "outputId": "5b554453-c9c8-4b98-bfdf-8fd1ac57c2cc"
      },
      "source": [
        "df.drop(['Model Yıl'], axis=1,inplace=True)    #işimize yaramayan kolonları siliyoruz\n",
        "df.drop(['İlan Tarihi'],axis=1,inplace=True)\n",
        "df.columns"
      ],
      "execution_count": 100,
      "outputs": [
        {
          "output_type": "execute_result",
          "data": {
            "text/plain": [
              "Index(['Marka', 'Arac Tip Grubu', 'Arac Tip', 'Yakıt Turu', 'Vites', 'CCM',\n",
              "       'Beygir Gucu', 'Renk', 'Kasa Tipi', 'Kimden', 'Durum', 'Km', 'Fiyat',\n",
              "       'car_age'],\n",
              "      dtype='object')"
            ]
          },
          "metadata": {
            "tags": []
          },
          "execution_count": 100
        }
      ]
    },
    {
      "cell_type": "code",
      "metadata": {
        "id": "yp9P4YwbEZzW",
        "colab_type": "code",
        "colab": {
          "base_uri": "https://localhost:8080/",
          "height": 51
        },
        "outputId": "9bcdf4c6-0762-4aa4-be11-37c8e8b56413"
      },
      "source": [
        "'''öncelikle araç tipindeki - ile girilmiş verileri düzenleyeceğiz. az sayıda bir veri var.\n",
        "ancak o kolonda birbirinden farklı çok değer olduğu için onları silmek yerine adını diğer olarak değiştireceğiz'''\n",
        "df['Arac Tip']=df['Arac Tip'].str.replace('-','Diger')\n",
        "print(len(df[df['Arac Tip']=='-']))\n",
        "len(df[df['Arac Tip']=='Diger'])"
      ],
      "execution_count": 101,
      "outputs": [
        {
          "output_type": "stream",
          "text": [
            "0\n"
          ],
          "name": "stdout"
        },
        {
          "output_type": "execute_result",
          "data": {
            "text/plain": [
              "55"
            ]
          },
          "metadata": {
            "tags": []
          },
          "execution_count": 101
        }
      ]
    },
    {
      "cell_type": "code",
      "metadata": {
        "id": "gKJv0Om_E6kl",
        "colab_type": "code",
        "colab": {}
      },
      "source": [
        "#CCM deki 108 tane eksik olan verilerin tamamen silinmesinin daha iyi olacağını düşünüyorum. Veri setimizin sayısına göre sorun yaratmayacak kadar az veri var.\n",
        "CCM_drop=df[df['CCM']=='Bilmiyorum'].index\n",
        "df.drop(CCM_drop,axis=0,inplace=True)"
      ],
      "execution_count": 102,
      "outputs": []
    },
    {
      "cell_type": "code",
      "metadata": {
        "id": "5v4e1NtLE_xi",
        "colab_type": "code",
        "colab": {
          "base_uri": "https://localhost:8080/",
          "height": 34
        },
        "outputId": "9d085f84-2785-4eaf-fe53-cd9d53b0a45e"
      },
      "source": [
        "df.shape"
      ],
      "execution_count": 103,
      "outputs": [
        {
          "output_type": "execute_result",
          "data": {
            "text/plain": [
              "(8936, 14)"
            ]
          },
          "metadata": {
            "tags": []
          },
          "execution_count": 103
        }
      ]
    },
    {
      "cell_type": "code",
      "metadata": {
        "id": "dm6H2b5THHxr",
        "colab_type": "code",
        "colab": {}
      },
      "source": [
        "l_encoder1=LabelEncoder()\n",
        "df['Marka']=l_encoder1.fit_transform(df['Marka'])"
      ],
      "execution_count": 104,
      "outputs": []
    },
    {
      "cell_type": "code",
      "metadata": {
        "id": "v55etx2IHYHo",
        "colab_type": "code",
        "colab": {}
      },
      "source": [
        "cars={}\n",
        "car_name = list(l_encoder1.inverse_transform([i for i in range(35)]))\n",
        "for i,x in enumerate(car_name):\n",
        "  if i not in cars.keys():\n",
        "    cars[i] =x"
      ],
      "execution_count": 105,
      "outputs": []
    },
    {
      "cell_type": "code",
      "metadata": {
        "id": "H6BmpHdzKK8G",
        "colab_type": "code",
        "colab": {
          "base_uri": "https://localhost:8080/",
          "height": 204
        },
        "outputId": "938156c4-5520-486b-f193-70036304cfdb"
      },
      "source": [
        "pd.DataFrame(cars.items(), columns=['label_values', 'car_name']).head()"
      ],
      "execution_count": 106,
      "outputs": [
        {
          "output_type": "execute_result",
          "data": {
            "text/html": [
              "<div>\n",
              "<style scoped>\n",
              "    .dataframe tbody tr th:only-of-type {\n",
              "        vertical-align: middle;\n",
              "    }\n",
              "\n",
              "    .dataframe tbody tr th {\n",
              "        vertical-align: top;\n",
              "    }\n",
              "\n",
              "    .dataframe thead th {\n",
              "        text-align: right;\n",
              "    }\n",
              "</style>\n",
              "<table border=\"1\" class=\"dataframe\">\n",
              "  <thead>\n",
              "    <tr style=\"text-align: right;\">\n",
              "      <th></th>\n",
              "      <th>label_values</th>\n",
              "      <th>car_name</th>\n",
              "    </tr>\n",
              "  </thead>\n",
              "  <tbody>\n",
              "    <tr>\n",
              "      <th>0</th>\n",
              "      <td>0</td>\n",
              "      <td>Acura</td>\n",
              "    </tr>\n",
              "    <tr>\n",
              "      <th>1</th>\n",
              "      <td>1</td>\n",
              "      <td>Alfa Romeo</td>\n",
              "    </tr>\n",
              "    <tr>\n",
              "      <th>2</th>\n",
              "      <td>2</td>\n",
              "      <td>Audi</td>\n",
              "    </tr>\n",
              "    <tr>\n",
              "      <th>3</th>\n",
              "      <td>3</td>\n",
              "      <td>BMW</td>\n",
              "    </tr>\n",
              "    <tr>\n",
              "      <th>4</th>\n",
              "      <td>4</td>\n",
              "      <td>Chevrolet</td>\n",
              "    </tr>\n",
              "  </tbody>\n",
              "</table>\n",
              "</div>"
            ],
            "text/plain": [
              "   label_values    car_name\n",
              "0             0       Acura\n",
              "1             1  Alfa Romeo\n",
              "2             2        Audi\n",
              "3             3         BMW\n",
              "4             4   Chevrolet"
            ]
          },
          "metadata": {
            "tags": []
          },
          "execution_count": 106
        }
      ]
    },
    {
      "cell_type": "code",
      "metadata": {
        "id": "j74Yamk-FD35",
        "colab_type": "code",
        "colab": {}
      },
      "source": [
        "l_encoder = LabelEncoder()\n",
        "columns = ['Arac Tip Grubu', 'Arac Tip','Yakıt Turu', 'Vites', 'CCM', 'Beygir Gucu', 'Renk', 'Kasa Tipi','Kimden', 'Durum']\n",
        "for i in columns:\n",
        "  df[i]=l_encoder.fit_transform(df[i])"
      ],
      "execution_count": 109,
      "outputs": []
    },
    {
      "cell_type": "code",
      "metadata": {
        "id": "H5TfIkUAFtkO",
        "colab_type": "code",
        "colab": {
          "base_uri": "https://localhost:8080/",
          "height": 204
        },
        "outputId": "af883d0f-a6a3-4525-9a37-5026e3305c17"
      },
      "source": [
        "df.head()"
      ],
      "execution_count": 112,
      "outputs": [
        {
          "output_type": "execute_result",
          "data": {
            "text/html": [
              "<div>\n",
              "<style scoped>\n",
              "    .dataframe tbody tr th:only-of-type {\n",
              "        vertical-align: middle;\n",
              "    }\n",
              "\n",
              "    .dataframe tbody tr th {\n",
              "        vertical-align: top;\n",
              "    }\n",
              "\n",
              "    .dataframe thead th {\n",
              "        text-align: right;\n",
              "    }\n",
              "</style>\n",
              "<table border=\"1\" class=\"dataframe\">\n",
              "  <thead>\n",
              "    <tr style=\"text-align: right;\">\n",
              "      <th></th>\n",
              "      <th>Marka</th>\n",
              "      <th>Arac Tip Grubu</th>\n",
              "      <th>Arac Tip</th>\n",
              "      <th>Yakıt Turu</th>\n",
              "      <th>Vites</th>\n",
              "      <th>CCM</th>\n",
              "      <th>Beygir Gucu</th>\n",
              "      <th>Renk</th>\n",
              "      <th>Kasa Tipi</th>\n",
              "      <th>Kimden</th>\n",
              "      <th>Durum</th>\n",
              "      <th>Km</th>\n",
              "      <th>Fiyat</th>\n",
              "      <th>car_age</th>\n",
              "    </tr>\n",
              "  </thead>\n",
              "  <tbody>\n",
              "    <tr>\n",
              "      <th>0</th>\n",
              "      <td>15</td>\n",
              "      <td>374</td>\n",
              "      <td>1082</td>\n",
              "      <td>2</td>\n",
              "      <td>1</td>\n",
              "      <td>4</td>\n",
              "      <td>5</td>\n",
              "      <td>17</td>\n",
              "      <td>5</td>\n",
              "      <td>0</td>\n",
              "      <td>1</td>\n",
              "      <td>26100</td>\n",
              "      <td>634500</td>\n",
              "      <td>3.0</td>\n",
              "    </tr>\n",
              "    <tr>\n",
              "      <th>1</th>\n",
              "      <td>0</td>\n",
              "      <td>126</td>\n",
              "      <td>1612</td>\n",
              "      <td>2</td>\n",
              "      <td>2</td>\n",
              "      <td>2</td>\n",
              "      <td>2</td>\n",
              "      <td>18</td>\n",
              "      <td>9</td>\n",
              "      <td>1</td>\n",
              "      <td>1</td>\n",
              "      <td>127000</td>\n",
              "      <td>151500</td>\n",
              "      <td>5.0</td>\n",
              "    </tr>\n",
              "    <tr>\n",
              "      <th>2</th>\n",
              "      <td>0</td>\n",
              "      <td>126</td>\n",
              "      <td>1171</td>\n",
              "      <td>1</td>\n",
              "      <td>0</td>\n",
              "      <td>2</td>\n",
              "      <td>2</td>\n",
              "      <td>23</td>\n",
              "      <td>9</td>\n",
              "      <td>1</td>\n",
              "      <td>1</td>\n",
              "      <td>175000</td>\n",
              "      <td>19750</td>\n",
              "      <td>26.0</td>\n",
              "    </tr>\n",
              "    <tr>\n",
              "      <th>3</th>\n",
              "      <td>0</td>\n",
              "      <td>126</td>\n",
              "      <td>1612</td>\n",
              "      <td>2</td>\n",
              "      <td>0</td>\n",
              "      <td>2</td>\n",
              "      <td>17</td>\n",
              "      <td>13</td>\n",
              "      <td>9</td>\n",
              "      <td>1</td>\n",
              "      <td>1</td>\n",
              "      <td>325</td>\n",
              "      <td>52000</td>\n",
              "      <td>7.0</td>\n",
              "    </tr>\n",
              "    <tr>\n",
              "      <th>4</th>\n",
              "      <td>0</td>\n",
              "      <td>126</td>\n",
              "      <td>1171</td>\n",
              "      <td>2</td>\n",
              "      <td>1</td>\n",
              "      <td>4</td>\n",
              "      <td>4</td>\n",
              "      <td>4</td>\n",
              "      <td>9</td>\n",
              "      <td>1</td>\n",
              "      <td>1</td>\n",
              "      <td>207000</td>\n",
              "      <td>148750</td>\n",
              "      <td>10.0</td>\n",
              "    </tr>\n",
              "  </tbody>\n",
              "</table>\n",
              "</div>"
            ],
            "text/plain": [
              "   Marka  Arac Tip Grubu  Arac Tip  Yakıt Turu  ...  Durum      Km   Fiyat  car_age\n",
              "0     15             374      1082           2  ...      1   26100  634500      3.0\n",
              "1      0             126      1612           2  ...      1  127000  151500      5.0\n",
              "2      0             126      1171           1  ...      1  175000   19750     26.0\n",
              "3      0             126      1612           2  ...      1     325   52000      7.0\n",
              "4      0             126      1171           2  ...      1  207000  148750     10.0\n",
              "\n",
              "[5 rows x 14 columns]"
            ]
          },
          "metadata": {
            "tags": []
          },
          "execution_count": 112
        }
      ]
    },
    {
      "cell_type": "code",
      "metadata": {
        "id": "9mHWW_jjF1k9",
        "colab_type": "code",
        "colab": {
          "base_uri": "https://localhost:8080/",
          "height": 374
        },
        "outputId": "d57973e9-8173-478e-ada4-fa413cef21df"
      },
      "source": [
        "df.info()"
      ],
      "execution_count": 113,
      "outputs": [
        {
          "output_type": "stream",
          "text": [
            "<class 'pandas.core.frame.DataFrame'>\n",
            "Int64Index: 8936 entries, 0 to 9043\n",
            "Data columns (total 14 columns):\n",
            " #   Column          Non-Null Count  Dtype  \n",
            "---  ------          --------------  -----  \n",
            " 0   Marka           8936 non-null   int64  \n",
            " 1   Arac Tip Grubu  8936 non-null   int64  \n",
            " 2   Arac Tip        8936 non-null   int64  \n",
            " 3   Yakıt Turu      8936 non-null   int64  \n",
            " 4   Vites           8936 non-null   int64  \n",
            " 5   CCM             8936 non-null   int64  \n",
            " 6   Beygir Gucu     8936 non-null   int64  \n",
            " 7   Renk            8936 non-null   int64  \n",
            " 8   Kasa Tipi       8936 non-null   int64  \n",
            " 9   Kimden          8936 non-null   int64  \n",
            " 10  Durum           8936 non-null   int64  \n",
            " 11  Km              8936 non-null   int64  \n",
            " 12  Fiyat           8936 non-null   int64  \n",
            " 13  car_age         8936 non-null   float64\n",
            "dtypes: float64(1), int64(13)\n",
            "memory usage: 1.0 MB\n"
          ],
          "name": "stdout"
        }
      ]
    },
    {
      "cell_type": "code",
      "metadata": {
        "id": "v3bq-E6uGEnx",
        "colab_type": "code",
        "colab": {
          "base_uri": "https://localhost:8080/",
          "height": 272
        },
        "outputId": "1f431651-b6a6-4edd-af11-8d2552c47cd2"
      },
      "source": [
        "df['Beygir Gucu']=df['Beygir Gucu'].replace(18,np.nan)  #18 bilmiyorumu ifade ediyor. onları ilk önce nan yapıyoruz. daha sonra komşularına göre dolduracağız\n",
        "df.isnull().sum()"
      ],
      "execution_count": 114,
      "outputs": [
        {
          "output_type": "execute_result",
          "data": {
            "text/plain": [
              "Marka                0\n",
              "Arac Tip Grubu       0\n",
              "Arac Tip             0\n",
              "Yakıt Turu           0\n",
              "Vites                0\n",
              "CCM                  0\n",
              "Beygir Gucu       5484\n",
              "Renk                 0\n",
              "Kasa Tipi            0\n",
              "Kimden               0\n",
              "Durum                0\n",
              "Km                   0\n",
              "Fiyat                0\n",
              "car_age              0\n",
              "dtype: int64"
            ]
          },
          "metadata": {
            "tags": []
          },
          "execution_count": 114
        }
      ]
    },
    {
      "cell_type": "code",
      "metadata": {
        "id": "3Ed9rPUQLxii",
        "colab_type": "code",
        "colab": {
          "base_uri": "https://localhost:8080/",
          "height": 272
        },
        "outputId": "da95310b-a1d2-4728-c9cf-6ab4aace9bc3"
      },
      "source": [
        "imputer = KNNImputer(n_neighbors=5)\n",
        "df['Beygir Gucu']=imputer.fit_transform(df[['Beygir Gucu']])\n",
        "df.isnull().sum()"
      ],
      "execution_count": 115,
      "outputs": [
        {
          "output_type": "execute_result",
          "data": {
            "text/plain": [
              "Marka             0\n",
              "Arac Tip Grubu    0\n",
              "Arac Tip          0\n",
              "Yakıt Turu        0\n",
              "Vites             0\n",
              "CCM               0\n",
              "Beygir Gucu       0\n",
              "Renk              0\n",
              "Kasa Tipi         0\n",
              "Kimden            0\n",
              "Durum             0\n",
              "Km                0\n",
              "Fiyat             0\n",
              "car_age           0\n",
              "dtype: int64"
            ]
          },
          "metadata": {
            "tags": []
          },
          "execution_count": 115
        }
      ]
    },
    {
      "cell_type": "code",
      "metadata": {
        "id": "XHPa59weNRB1",
        "colab_type": "code",
        "colab": {}
      },
      "source": [
        "df['Beygir Gucu'] = round(df['Beygir Gucu'])   #doldururken float olarak bıraktığı için tam değere yuvarlıyorum"
      ],
      "execution_count": 117,
      "outputs": []
    },
    {
      "cell_type": "code",
      "metadata": {
        "id": "_Am4OBr5NU7C",
        "colab_type": "code",
        "colab": {}
      },
      "source": [
        "q1 = df[\"Fiyat\"].quantile(0.25)\n",
        "q3 = df[\"Fiyat\"].quantile(0.75)      #aykırır değerleri siliyoruz\n",
        "\n",
        "IOC = q3 - q1\n",
        "\n",
        "alt_sınır = q1 - 1.5*IOC\n",
        "üst_sınır = q3 + 1.5*IOC\n",
        "\n",
        "sınır = (df[\"Fiyat\"] < alt_sınır) | (df[\"Fiyat\"] > üst_sınır)\n",
        "df[\"Aykırı_Deger\"] = sınır\n",
        "df = df.loc[df[\"Aykırı_Deger\"] == False]\n",
        "del df[\"Aykırı_Deger\"]"
      ],
      "execution_count": 119,
      "outputs": []
    },
    {
      "cell_type": "code",
      "metadata": {
        "id": "iB80_9QTOBI6",
        "colab_type": "code",
        "colab": {}
      },
      "source": [
        "y=df['Fiyat']\n",
        "x=df.drop(['Fiyat'],axis=1)"
      ],
      "execution_count": 121,
      "outputs": []
    },
    {
      "cell_type": "code",
      "metadata": {
        "id": "HE8AYaTZOYxw",
        "colab_type": "code",
        "colab": {
          "base_uri": "https://localhost:8080/",
          "height": 204
        },
        "outputId": "b1234774-97b2-4883-b6fd-48f484272a05"
      },
      "source": [
        "x_train, x_test, y_train, y_test = train_test_split(x, y, test_size = 0.30, random_state = 42)\n",
        "x_train.head()"
      ],
      "execution_count": 126,
      "outputs": [
        {
          "output_type": "execute_result",
          "data": {
            "text/html": [
              "<div>\n",
              "<style scoped>\n",
              "    .dataframe tbody tr th:only-of-type {\n",
              "        vertical-align: middle;\n",
              "    }\n",
              "\n",
              "    .dataframe tbody tr th {\n",
              "        vertical-align: top;\n",
              "    }\n",
              "\n",
              "    .dataframe thead th {\n",
              "        text-align: right;\n",
              "    }\n",
              "</style>\n",
              "<table border=\"1\" class=\"dataframe\">\n",
              "  <thead>\n",
              "    <tr style=\"text-align: right;\">\n",
              "      <th></th>\n",
              "      <th>Marka</th>\n",
              "      <th>Arac Tip Grubu</th>\n",
              "      <th>Arac Tip</th>\n",
              "      <th>Yakıt Turu</th>\n",
              "      <th>Vites</th>\n",
              "      <th>CCM</th>\n",
              "      <th>Beygir Gucu</th>\n",
              "      <th>Renk</th>\n",
              "      <th>Kasa Tipi</th>\n",
              "      <th>Kimden</th>\n",
              "      <th>Durum</th>\n",
              "      <th>Km</th>\n",
              "      <th>car_age</th>\n",
              "    </tr>\n",
              "  </thead>\n",
              "  <tbody>\n",
              "    <tr>\n",
              "      <th>2627</th>\n",
              "      <td>9</td>\n",
              "      <td>190</td>\n",
              "      <td>478</td>\n",
              "      <td>2</td>\n",
              "      <td>0</td>\n",
              "      <td>2</td>\n",
              "      <td>7.0</td>\n",
              "      <td>4</td>\n",
              "      <td>9</td>\n",
              "      <td>0</td>\n",
              "      <td>1</td>\n",
              "      <td>53000</td>\n",
              "      <td>2.0</td>\n",
              "    </tr>\n",
              "    <tr>\n",
              "      <th>7387</th>\n",
              "      <td>29</td>\n",
              "      <td>299</td>\n",
              "      <td>1736</td>\n",
              "      <td>1</td>\n",
              "      <td>0</td>\n",
              "      <td>2</td>\n",
              "      <td>7.0</td>\n",
              "      <td>4</td>\n",
              "      <td>9</td>\n",
              "      <td>0</td>\n",
              "      <td>1</td>\n",
              "      <td>68000</td>\n",
              "      <td>23.0</td>\n",
              "    </tr>\n",
              "    <tr>\n",
              "      <th>4361</th>\n",
              "      <td>22</td>\n",
              "      <td>78</td>\n",
              "      <td>1034</td>\n",
              "      <td>2</td>\n",
              "      <td>2</td>\n",
              "      <td>2</td>\n",
              "      <td>2.0</td>\n",
              "      <td>16</td>\n",
              "      <td>5</td>\n",
              "      <td>1</td>\n",
              "      <td>1</td>\n",
              "      <td>94500</td>\n",
              "      <td>5.0</td>\n",
              "    </tr>\n",
              "    <tr>\n",
              "      <th>5318</th>\n",
              "      <td>26</td>\n",
              "      <td>99</td>\n",
              "      <td>644</td>\n",
              "      <td>1</td>\n",
              "      <td>2</td>\n",
              "      <td>2</td>\n",
              "      <td>17.0</td>\n",
              "      <td>22</td>\n",
              "      <td>5</td>\n",
              "      <td>0</td>\n",
              "      <td>1</td>\n",
              "      <td>180000</td>\n",
              "      <td>14.0</td>\n",
              "    </tr>\n",
              "    <tr>\n",
              "      <th>5390</th>\n",
              "      <td>26</td>\n",
              "      <td>156</td>\n",
              "      <td>471</td>\n",
              "      <td>2</td>\n",
              "      <td>0</td>\n",
              "      <td>2</td>\n",
              "      <td>17.0</td>\n",
              "      <td>4</td>\n",
              "      <td>5</td>\n",
              "      <td>0</td>\n",
              "      <td>1</td>\n",
              "      <td>262000</td>\n",
              "      <td>20.0</td>\n",
              "    </tr>\n",
              "  </tbody>\n",
              "</table>\n",
              "</div>"
            ],
            "text/plain": [
              "      Marka  Arac Tip Grubu  Arac Tip  ...  Durum      Km  car_age\n",
              "2627      9             190       478  ...      1   53000      2.0\n",
              "7387     29             299      1736  ...      1   68000     23.0\n",
              "4361     22              78      1034  ...      1   94500      5.0\n",
              "5318     26              99       644  ...      1  180000     14.0\n",
              "5390     26             156       471  ...      1  262000     20.0\n",
              "\n",
              "[5 rows x 13 columns]"
            ]
          },
          "metadata": {
            "tags": []
          },
          "execution_count": 126
        }
      ]
    },
    {
      "cell_type": "code",
      "metadata": {
        "id": "YX69S1wdOm4A",
        "colab_type": "code",
        "colab": {
          "base_uri": "https://localhost:8080/",
          "height": 238
        },
        "outputId": "9b61a52a-861f-4fd7-e4f9-9a8171a256c0"
      },
      "source": [
        "def compML(alg,x_train,y_train,x_test,y_test):     #ilk önce tüm modellerde ilkel test hatasını buluyoruz\n",
        "    #modelleme\n",
        "    model=alg().fit(x_train,y_train)\n",
        "    y_pred=model.predict(x_test)\n",
        "    RMSE= np.sqrt(mean_squared_error(y_test,y_pred))\n",
        "    model_ismi= alg.__name__\n",
        "    print(model_ismi ,\" Modeli Test Hatası :\", RMSE)\n",
        "\n",
        "models=[LGBMRegressor, Lasso,\n",
        "        XGBRegressor, LinearRegression,\n",
        "        GradientBoostingRegressor,\n",
        "        RandomForestRegressor, ElasticNet,\n",
        "        DecisionTreeRegressor, Ridge,\n",
        "        MLPRegressor,\n",
        "        KNeighborsRegressor, \n",
        "        SVR]\n",
        "\n",
        "for i in models:\n",
        "    compML(i,x_train,y_train,x_test,y_test) "
      ],
      "execution_count": 127,
      "outputs": [
        {
          "output_type": "stream",
          "text": [
            "LGBMRegressor  Modeli Test Hatası : 15888.743047972348\n",
            "Lasso  Modeli Test Hatası : 35760.18269559875\n",
            "[22:55:46] WARNING: /workspace/src/objective/regression_obj.cu:152: reg:linear is now deprecated in favor of reg:squarederror.\n",
            "XGBRegressor  Modeli Test Hatası : 20546.39695071808\n",
            "LinearRegression  Modeli Test Hatası : 35760.30328951825\n",
            "GradientBoostingRegressor  Modeli Test Hatası : 20463.536331009487\n",
            "RandomForestRegressor  Modeli Test Hatası : 16692.84893224494\n",
            "ElasticNet  Modeli Test Hatası : 37071.78488704977\n",
            "DecisionTreeRegressor  Modeli Test Hatası : 23302.35177400624\n",
            "Ridge  Modeli Test Hatası : 35760.195674235736\n",
            "MLPRegressor  Modeli Test Hatası : 59858.182167508494\n",
            "KNeighborsRegressor  Modeli Test Hatası : 47182.32671526696\n",
            "SVR  Modeli Test Hatası : 62275.91736447188\n"
          ],
          "name": "stdout"
        }
      ]
    },
    {
      "cell_type": "code",
      "metadata": {
        "id": "YxSYUaa4PxX6",
        "colab_type": "code",
        "colab": {
          "base_uri": "https://localhost:8080/",
          "height": 51
        },
        "outputId": "9f13025f-50e0-491d-efd0-4789188f7a11"
      },
      "source": [
        "lgbm=LGBMRegressor()     #en iyi modeli seçiyoruz\n",
        "lgbm.fit(x_train,y_train)\n",
        "\n",
        "lgbm_tahmin = lgbm.predict(x_test)\n",
        "\n",
        "r2_skor = r2_score(y_test, lgbm_tahmin)\n",
        "hata_skor = np.sqrt(mean_squared_error(y_test, lgbm_tahmin))\n",
        "\n",
        "print(\"R2_skoru: \", r2_skor)\n",
        "print(\"Hata Kare: \", hata_skor)"
      ],
      "execution_count": 130,
      "outputs": [
        {
          "output_type": "stream",
          "text": [
            "R2_skoru:  0.9312280123179733\n",
            "Hata Kare:  15888.743047972348\n"
          ],
          "name": "stdout"
        }
      ]
    },
    {
      "cell_type": "code",
      "metadata": {
        "id": "zfAwXQRAOw7n",
        "colab_type": "code",
        "colab": {
          "base_uri": "https://localhost:8080/",
          "height": 204
        },
        "outputId": "419dc494-eb0c-47b0-eab6-34ec669041ad"
      },
      "source": [
        "lgbm_params={'learning_rate':[0.01, 0.1, 0.5],   #en iyi hiperparametreleri bulmaya çalışıyoruz\n",
        "            'n_estimators':[200,500,1000],\n",
        "            'max_depth':[5, 7, 10],\n",
        "             'colsample_bytree':[0.7, 0.9, 1.0],\n",
        "             'subsample': [0.5, 0.7, 0.6, 0.4]\n",
        "             }\n",
        "lgbm_cv_model=GridSearchCV(lgbm,lgbm_params,cv=10,n_jobs=-1,verbose=2).fit(x_train,y_train)"
      ],
      "execution_count": 131,
      "outputs": [
        {
          "output_type": "stream",
          "text": [
            "Fitting 10 folds for each of 324 candidates, totalling 3240 fits\n"
          ],
          "name": "stdout"
        },
        {
          "output_type": "stream",
          "text": [
            "[Parallel(n_jobs=-1)]: Using backend LokyBackend with 2 concurrent workers.\n",
            "[Parallel(n_jobs=-1)]: Done  37 tasks      | elapsed:    8.3s\n",
            "[Parallel(n_jobs=-1)]: Done 158 tasks      | elapsed:  1.1min\n",
            "[Parallel(n_jobs=-1)]: Done 361 tasks      | elapsed:  3.3min\n",
            "[Parallel(n_jobs=-1)]: Done 644 tasks      | elapsed:  5.1min\n",
            "[Parallel(n_jobs=-1)]: Done 1009 tasks      | elapsed:  7.9min\n",
            "[Parallel(n_jobs=-1)]: Done 1454 tasks      | elapsed: 12.3min\n",
            "[Parallel(n_jobs=-1)]: Done 1981 tasks      | elapsed: 16.2min\n",
            "[Parallel(n_jobs=-1)]: Done 2588 tasks      | elapsed: 22.3min\n",
            "[Parallel(n_jobs=-1)]: Done 3240 out of 3240 | elapsed: 28.4min finished\n"
          ],
          "name": "stderr"
        }
      ]
    },
    {
      "cell_type": "code",
      "metadata": {
        "id": "7dnMs0slPj8g",
        "colab_type": "code",
        "colab": {
          "base_uri": "https://localhost:8080/",
          "height": 102
        },
        "outputId": "9b647f9c-e5fa-424a-fc4d-ca02afca5a43"
      },
      "source": [
        "lgbm_cv_model.best_params_"
      ],
      "execution_count": 132,
      "outputs": [
        {
          "output_type": "execute_result",
          "data": {
            "text/plain": [
              "{'colsample_bytree': 0.7,\n",
              " 'learning_rate': 0.1,\n",
              " 'max_depth': 10,\n",
              " 'n_estimators': 500,\n",
              " 'subsample': 0.5}"
            ]
          },
          "metadata": {
            "tags": []
          },
          "execution_count": 132
        }
      ]
    },
    {
      "cell_type": "code",
      "metadata": {
        "id": "V2u4t6O4WwRW",
        "colab_type": "code",
        "colab": {
          "base_uri": "https://localhost:8080/",
          "height": 68
        },
        "outputId": "f7091c7b-9687-4789-c1c4-fbbe88db59d5"
      },
      "source": [
        "lgb_tuned=LGBMRegressor(learning_rate = lgbm_cv_model.best_params_['learning_rate'],\n",
        "                        max_depth = lgbm_cv_model.best_params_['max_depth'],\n",
        "                        n_estimators = lgbm_cv_model.best_params_['n_estimators'],\n",
        "                        colsample_bytree = lgbm_cv_model.best_params_['colsample_bytree'],\n",
        "                        subsample=lgbm_cv_model.best_params_['subsample']).fit(x_train,y_train)\n",
        "\n",
        "y_pred=lgb_tuned.predict(x_test)\n",
        "\n",
        "r2_skor = r2_score(y_test, y_pred)\n",
        "hata_skor = np.sqrt(mean_squared_error(y_test, y_pred))\n",
        "adjusted_r2_skor = 1 - (1-r2_skor)*(len(y_test)-1)/(len(y_test)-x_test.shape[1]-1)\n",
        "\n",
        "print(\"R2_skoru: \", r2_skor)\n",
        "print(\"Hata Kare: \", hata_skor)\n",
        "print(adjusted_r2_skor)"
      ],
      "execution_count": 138,
      "outputs": [
        {
          "output_type": "stream",
          "text": [
            "R2_skoru:  0.939771258425962\n",
            "Hata Kare:  14869.133060707172\n",
            "0.9394507616431284\n"
          ],
          "name": "stdout"
        }
      ]
    },
    {
      "cell_type": "code",
      "metadata": {
        "id": "yy9ZaGEfW1ML",
        "colab_type": "code",
        "colab": {
          "base_uri": "https://localhost:8080/",
          "height": 296
        },
        "outputId": "e0c9f442-2e37-4448-aea6-b3acc00adb6a"
      },
      "source": [
        "sns.scatterplot(x=y_test,y=y_pred)"
      ],
      "execution_count": 134,
      "outputs": [
        {
          "output_type": "execute_result",
          "data": {
            "text/plain": [
              "<matplotlib.axes._subplots.AxesSubplot at 0x7fddb3c59748>"
            ]
          },
          "metadata": {
            "tags": []
          },
          "execution_count": 134
        },
        {
          "output_type": "display_data",
          "data": {
            "image/png": "[encoded data removed]",
            "text/plain": [
              "<Figure size 432x288 with 1 Axes>"
            ]
          },
          "metadata": {
            "tags": [],
            "needs_background": "light"
          }
        }
      ]
    },
    {
      "cell_type": "code",
      "metadata": {
        "id": "OEWE3Xy8W9M9",
        "colab_type": "code",
        "colab": {
          "base_uri": "https://localhost:8080/",
          "height": 469
        },
        "outputId": "c3892c98-0d31-4e29-da99-4a39dabd2243"
      },
      "source": [
        "sns.jointplot(x=y_test, y=y_pred,  kind='reg',\n",
        "                  joint_kws={'line_kws':{'color':'cyan'}})"
      ],
      "execution_count": 135,
      "outputs": [
        {
          "output_type": "execute_result",
          "data": {
            "text/plain": [
              "<seaborn.axisgrid.JointGrid at 0x7fddb3c59c50>"
            ]
          },
          "metadata": {
            "tags": []
          },
          "execution_count": 135
        },
        {
          "output_type": "display_data",
          "data": {
            "image/png": "[encoded data removed]",
            "text/plain": [
              "<Figure size 432x432 with 3 Axes>"
            ]
          },
          "metadata": {
            "tags": [],
            "needs_background": "light"
          }
        }
      ]
    },
    {
      "cell_type": "code",
      "metadata": {
        "id": "kVMGcjJ9W_bw",
        "colab_type": "code",
        "colab": {
          "base_uri": "https://localhost:8080/",
          "height": 359
        },
        "outputId": "154e3594-55d3-4cec-9a67-eda36aadaf9b"
      },
      "source": [
        "sonuc = pd.DataFrame({'Gerçek Değerler': np.array(y_test).flatten(), 'Tahminler': y_pred.flatten(),'Fark':np.array(y_test).flatten()-y_pred.flatten()})\n",
        "sonuc.head(10)"
      ],
      "execution_count": 136,
      "outputs": [
        {
          "output_type": "execute_result",
          "data": {
            "text/html": [
              "<div>\n",
              "<style scoped>\n",
              "    .dataframe tbody tr th:only-of-type {\n",
              "        vertical-align: middle;\n",
              "    }\n",
              "\n",
              "    .dataframe tbody tr th {\n",
              "        vertical-align: top;\n",
              "    }\n",
              "\n",
              "    .dataframe thead th {\n",
              "        text-align: right;\n",
              "    }\n",
              "</style>\n",
              "<table border=\"1\" class=\"dataframe\">\n",
              "  <thead>\n",
              "    <tr style=\"text-align: right;\">\n",
              "      <th></th>\n",
              "      <th>Gerçek Değerler</th>\n",
              "      <th>Tahminler</th>\n",
              "      <th>Fark</th>\n",
              "    </tr>\n",
              "  </thead>\n",
              "  <tbody>\n",
              "    <tr>\n",
              "      <th>0</th>\n",
              "      <td>60000</td>\n",
              "      <td>58150.175038</td>\n",
              "      <td>1849.824962</td>\n",
              "    </tr>\n",
              "    <tr>\n",
              "      <th>1</th>\n",
              "      <td>79750</td>\n",
              "      <td>103576.349602</td>\n",
              "      <td>-23826.349602</td>\n",
              "    </tr>\n",
              "    <tr>\n",
              "      <th>2</th>\n",
              "      <td>64000</td>\n",
              "      <td>62545.507640</td>\n",
              "      <td>1454.492360</td>\n",
              "    </tr>\n",
              "    <tr>\n",
              "      <th>3</th>\n",
              "      <td>55900</td>\n",
              "      <td>56495.820476</td>\n",
              "      <td>-595.820476</td>\n",
              "    </tr>\n",
              "    <tr>\n",
              "      <th>4</th>\n",
              "      <td>79000</td>\n",
              "      <td>56573.387791</td>\n",
              "      <td>22426.612209</td>\n",
              "    </tr>\n",
              "    <tr>\n",
              "      <th>5</th>\n",
              "      <td>44500</td>\n",
              "      <td>38799.062596</td>\n",
              "      <td>5700.937404</td>\n",
              "    </tr>\n",
              "    <tr>\n",
              "      <th>6</th>\n",
              "      <td>197000</td>\n",
              "      <td>153002.203087</td>\n",
              "      <td>43997.796913</td>\n",
              "    </tr>\n",
              "    <tr>\n",
              "      <th>7</th>\n",
              "      <td>57500</td>\n",
              "      <td>53975.129005</td>\n",
              "      <td>3524.870995</td>\n",
              "    </tr>\n",
              "    <tr>\n",
              "      <th>8</th>\n",
              "      <td>76000</td>\n",
              "      <td>75910.337003</td>\n",
              "      <td>89.662997</td>\n",
              "    </tr>\n",
              "    <tr>\n",
              "      <th>9</th>\n",
              "      <td>134750</td>\n",
              "      <td>135513.097106</td>\n",
              "      <td>-763.097106</td>\n",
              "    </tr>\n",
              "  </tbody>\n",
              "</table>\n",
              "</div>"
            ],
            "text/plain": [
              "   Gerçek Değerler      Tahminler          Fark\n",
              "0            60000   58150.175038   1849.824962\n",
              "1            79750  103576.349602 -23826.349602\n",
              "2            64000   62545.507640   1454.492360\n",
              "3            55900   56495.820476   -595.820476\n",
              "4            79000   56573.387791  22426.612209\n",
              "5            44500   38799.062596   5700.937404\n",
              "6           197000  153002.203087  43997.796913\n",
              "7            57500   53975.129005   3524.870995\n",
              "8            76000   75910.337003     89.662997\n",
              "9           134750  135513.097106   -763.097106"
            ]
          },
          "metadata": {
            "tags": []
          },
          "execution_count": 136
        }
      ]
    },
    {
      "cell_type": "code",
      "metadata": {
        "id": "oHCzWV7dXFie",
        "colab_type": "code",
        "colab": {}
      },
      "source": [
        ""
      ],
      "execution_count": null,
      "outputs": []
    }
  ]
}