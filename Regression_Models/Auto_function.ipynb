{
 "cells": [
  {
   "cell_type": "markdown",
   "metadata": {},
   "source": [
    "MAKİNE ÖĞRENMESİ GÖREVLERİNİN OTOMATİKLEŞTİRİLMESİ"
   ]
  },
  {
   "cell_type": "code",
   "execution_count": 26,
   "metadata": {},
   "outputs": [],
   "source": [
    "import numpy as np\n",
    "import pandas as pd\n",
    "from sklearn.metrics import mean_squared_error,r2_score\n",
    "from sklearn.model_selection import train_test_split, GridSearchCV\n",
    "from sklearn import model_selection\n",
    "import matplotlib.pyplot as plt\n",
    "from sklearn.model_selection import cross_val_score\n",
    "from sklearn.preprocessing import StandardScaler  #standartlaştırma için eklendi\n",
    "from sklearn.preprocessing import scale\n",
    "from sklearn.linear_model import LinearRegression, Lasso, ElasticNet, Ridge\n",
    "from sklearn import model_selection \n",
    "from sklearn.tree import DecisionTreeRegressor\n",
    "from sklearn.neighbors import KNeighborsRegressor\n",
    "from sklearn.neural_network import MLPRegressor\n",
    "from sklearn.ensemble import RandomForestRegressor\n",
    "from sklearn.ensemble import GradientBoostingRegressor\n",
    "from sklearn import neighbors\n",
    "from sklearn.svm import SVR\n",
    "from warnings import filterwarnings\n",
    "filterwarnings('ignore')\n",
    "from lightgbm import LGBMRegressor\n",
    "from xgboost import XGBRegressor\n",
    "from catboost import CatBoostRegressor"
   ]
  },
  {
   "cell_type": "markdown",
   "metadata": {},
   "source": [
    "----------------------------------------------------------------------------------------------------------------"
   ]
  },
  {
   "cell_type": "code",
   "execution_count": 7,
   "metadata": {},
   "outputs": [],
   "source": [
    "df=pd.read_csv(r\"C:\\Users\\Onur\\Desktop\\Turkcell_Machinelearning\\Hitters.csv\")\n",
    "df=df.dropna()\n",
    "dms=pd.get_dummies(df[['League','Division','NewLeague']])\n"
   ]
  },
  {
   "cell_type": "code",
   "execution_count": 21,
   "metadata": {},
   "outputs": [],
   "source": [
    "def compML(df,y,alg):\n",
    "    #train-test ayrımı\n",
    "    y=df[y]\n",
    "    x_=df.drop(['Salary','League','Division','NewLeague'], axis=1).astype('float64')\n",
    "    x=pd.concat([x_,dms[['League_N','Division_W','NewLeague_N']]],axis=1)\n",
    "    x_train, x_test, y_train, y_test=train_test_split(x,y, test_size=0.25,random_state=42)\n",
    "    \n",
    "    #modelleme\n",
    "    model=alg().fit(x_train,y_train)\n",
    "    y_pred=model.predict(x_test)\n",
    "    RMSE= np.sqrt(mean_squared_error(y_test,y_pred))\n",
    "    model_ismi= alg.__name__\n",
    "    print(model_ismi ,\" Modeli Test Hatası :\", RMSE)"
   ]
  },
  {
   "cell_type": "code",
   "execution_count": 18,
   "metadata": {},
   "outputs": [
    {
     "name": "stdout",
     "output_type": "stream",
     "text": [
      "SVR : 460.0032657244849\n"
     ]
    }
   ],
   "source": [
    "compML(df,\"Salary\", SVR)"
   ]
  },
  {
   "cell_type": "code",
   "execution_count": 29,
   "metadata": {},
   "outputs": [],
   "source": [
    "models=[LGBMRegressor, Lasso,\n",
    "        XGBRegressor, LinearRegression,\n",
    "        GradientBoostingRegressor,\n",
    "        RandomForestRegressor, ElasticNet,\n",
    "        DecisionTreeRegressor, Ridge,\n",
    "        MLPRegressor,\n",
    "        KNeighborsRegressor, \n",
    "        SVR]"
   ]
  },
  {
   "cell_type": "code",
   "execution_count": 30,
   "metadata": {},
   "outputs": [
    {
     "name": "stdout",
     "output_type": "stream",
     "text": [
      "LGBMRegressor  Modeli Test Hatası : 363.8712087611089\n",
      "Lasso  Modeli Test Hatası : 356.0975884554033\n",
      "XGBRegressor  Modeli Test Hatası : 355.4651481224188\n",
      "LinearRegression  Modeli Test Hatası : 357.0532909460734\n",
      "GradientBoostingRegressor  Modeli Test Hatası : 352.3103280782228\n",
      "RandomForestRegressor  Modeli Test Hatası : 338.9899938795042\n",
      "ElasticNet  Modeli Test Hatası : 357.1676548181244\n",
      "DecisionTreeRegressor  Modeli Test Hatası : 526.6387497450941\n",
      "Ridge  Modeli Test Hatası : 356.8082905730239\n",
      "MLPRegressor  Modeli Test Hatası : 368.749463088579\n",
      "KNeighborsRegressor  Modeli Test Hatası : 426.6570764525201\n",
      "SVR  Modeli Test Hatası : 460.0032657244849\n"
     ]
    }
   ],
   "source": [
    "for i in models:\n",
    "    compML(df,\"Salary\", i)  "
   ]
  },
  {
   "cell_type": "code",
   "execution_count": null,
   "metadata": {},
   "outputs": [],
   "source": []
  }
 ],
 "metadata": {
  "kernelspec": {
   "display_name": "machinelearning",
   "language": "python",
   "name": "machinelearning"
  },
  "language_info": {
   "codemirror_mode": {
    "name": "ipython",
    "version": 3
   },
   "file_extension": ".py",
   "mimetype": "text/x-python",
   "name": "python",
   "nbconvert_exporter": "python",
   "pygments_lexer": "ipython3",
   "version": "3.8.3"
  }
 },
 "nbformat": 4,
 "nbformat_minor": 4
}
