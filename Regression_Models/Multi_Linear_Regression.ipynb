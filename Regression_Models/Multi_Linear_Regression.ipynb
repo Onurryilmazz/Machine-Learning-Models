{
 "cells": [
  {
   "cell_type": "code",
   "execution_count": 10,
   "metadata": {},
   "outputs": [
    {
     "data": {
      "text/html": [
       "<table class=\"simpletable\">\n",
       "<caption>OLS Regression Results</caption>\n",
       "<tr>\n",
       "  <th>Dep. Variable:</th>          <td>sales</td>      <th>  R-squared (uncentered):</th>      <td>   0.982</td> \n",
       "</tr>\n",
       "<tr>\n",
       "  <th>Model:</th>                   <td>OLS</td>       <th>  Adj. R-squared (uncentered):</th> <td>   0.982</td> \n",
       "</tr>\n",
       "<tr>\n",
       "  <th>Method:</th>             <td>Least Squares</td>  <th>  F-statistic:       </th>          <td>   3566.</td> \n",
       "</tr>\n",
       "<tr>\n",
       "  <th>Date:</th>             <td>Tue, 16 Jun 2020</td> <th>  Prob (F-statistic):</th>          <td>2.43e-171</td>\n",
       "</tr>\n",
       "<tr>\n",
       "  <th>Time:</th>                 <td>17:01:39</td>     <th>  Log-Likelihood:    </th>          <td> -423.54</td> \n",
       "</tr>\n",
       "<tr>\n",
       "  <th>No. Observations:</th>      <td>   200</td>      <th>  AIC:               </th>          <td>   853.1</td> \n",
       "</tr>\n",
       "<tr>\n",
       "  <th>Df Residuals:</th>          <td>   197</td>      <th>  BIC:               </th>          <td>   863.0</td> \n",
       "</tr>\n",
       "<tr>\n",
       "  <th>Df Model:</th>              <td>     3</td>      <th>                     </th>              <td> </td>    \n",
       "</tr>\n",
       "<tr>\n",
       "  <th>Covariance Type:</th>      <td>nonrobust</td>    <th>                     </th>              <td> </td>    \n",
       "</tr>\n",
       "</table>\n",
       "<table class=\"simpletable\">\n",
       "<tr>\n",
       "      <td></td>         <th>coef</th>     <th>std err</th>      <th>t</th>      <th>P>|t|</th>  <th>[0.025</th>    <th>0.975]</th>  \n",
       "</tr>\n",
       "<tr>\n",
       "  <th>TV</th>        <td>    0.0538</td> <td>    0.001</td> <td>   40.507</td> <td> 0.000</td> <td>    0.051</td> <td>    0.056</td>\n",
       "</tr>\n",
       "<tr>\n",
       "  <th>radio</th>     <td>    0.2222</td> <td>    0.009</td> <td>   23.595</td> <td> 0.000</td> <td>    0.204</td> <td>    0.241</td>\n",
       "</tr>\n",
       "<tr>\n",
       "  <th>newspaper</th> <td>    0.0168</td> <td>    0.007</td> <td>    2.517</td> <td> 0.013</td> <td>    0.004</td> <td>    0.030</td>\n",
       "</tr>\n",
       "</table>\n",
       "<table class=\"simpletable\">\n",
       "<tr>\n",
       "  <th>Omnibus:</th>       <td> 5.982</td> <th>  Durbin-Watson:     </th> <td>   2.038</td>\n",
       "</tr>\n",
       "<tr>\n",
       "  <th>Prob(Omnibus):</th> <td> 0.050</td> <th>  Jarque-Bera (JB):  </th> <td>   7.039</td>\n",
       "</tr>\n",
       "<tr>\n",
       "  <th>Skew:</th>          <td>-0.232</td> <th>  Prob(JB):          </th> <td>  0.0296</td>\n",
       "</tr>\n",
       "<tr>\n",
       "  <th>Kurtosis:</th>      <td> 3.794</td> <th>  Cond. No.          </th> <td>    12.6</td>\n",
       "</tr>\n",
       "</table><br/><br/>Warnings:<br/>[1] Standard Errors assume that the covariance matrix of the errors is correctly specified."
      ],
      "text/plain": [
       "<class 'statsmodels.iolib.summary.Summary'>\n",
       "\"\"\"\n",
       "                                 OLS Regression Results                                \n",
       "=======================================================================================\n",
       "Dep. Variable:                  sales   R-squared (uncentered):                   0.982\n",
       "Model:                            OLS   Adj. R-squared (uncentered):              0.982\n",
       "Method:                 Least Squares   F-statistic:                              3566.\n",
       "Date:                Tue, 16 Jun 2020   Prob (F-statistic):                   2.43e-171\n",
       "Time:                        17:01:39   Log-Likelihood:                         -423.54\n",
       "No. Observations:                 200   AIC:                                      853.1\n",
       "Df Residuals:                     197   BIC:                                      863.0\n",
       "Df Model:                           3                                                  \n",
       "Covariance Type:            nonrobust                                                  \n",
       "==============================================================================\n",
       "                 coef    std err          t      P>|t|      [0.025      0.975]\n",
       "------------------------------------------------------------------------------\n",
       "TV             0.0538      0.001     40.507      0.000       0.051       0.056\n",
       "radio          0.2222      0.009     23.595      0.000       0.204       0.241\n",
       "newspaper      0.0168      0.007      2.517      0.013       0.004       0.030\n",
       "==============================================================================\n",
       "Omnibus:                        5.982   Durbin-Watson:                   2.038\n",
       "Prob(Omnibus):                  0.050   Jarque-Bera (JB):                7.039\n",
       "Skew:                          -0.232   Prob(JB):                       0.0296\n",
       "Kurtosis:                       3.794   Cond. No.                         12.6\n",
       "==============================================================================\n",
       "\n",
       "Warnings:\n",
       "[1] Standard Errors assume that the covariance matrix of the errors is correctly specified.\n",
       "\"\"\""
      ]
     },
     "execution_count": 10,
     "metadata": {},
     "output_type": "execute_result"
    }
   ],
   "source": [
    "# -*- coding: utf-8 -*-\n",
    "\"\"\"\n",
    "Created on Sun Jun 14 14:45:32 2020\n",
    "\n",
    "@author: Onur\n",
    "\"\"\"\n",
    "\n",
    "\n",
    "import pandas as pd\n",
    "\n",
    "\n",
    "df=pd.read_csv(r\"C:\\Users\\Onur\\Desktop\\Turkcell_Machinelearning\\Advertising.csv\")\n",
    "df=df.iloc[:,1:len(df)]\n",
    "\n",
    "x=df.drop('sales',axis=1)\n",
    "y=df[[\"sales\"]]  #tek köşeli parantez olursa np array olarak gelir. ikili olursa pandas df olarak gelir\n",
    "\n",
    "\n",
    "#2 farklı model kurma taarzı olucak\n",
    "#%%\n",
    "#statsmodels ile model kurmak\n",
    "\n",
    "import statsmodels.api as sm\n",
    "\n",
    "lm=sm.OLS(y,x)  #ols regresyon modelini kurmak için gerekli olan fonksiyon.\n",
    "               #1. parametre bağımlı değişken ikinci parametre bağımsız değişkenler\n",
    "\n",
    "model=lm.fit()   #modeli fit ediyoruz. daha önceki kod satırında parametreleri verdiğimiz için şuan girmemize gerek yok\n",
    "\n",
    "model.summary() #modelin özetini veriyor\n",
    "\n",
    "\n"
   ]
  },
  {
   "cell_type": "code",
   "execution_count": 9,
   "metadata": {},
   "outputs": [
    {
     "data": {
      "text/plain": [
       "1.6768546736355836"
      ]
     },
     "execution_count": 9,
     "metadata": {},
     "output_type": "execute_result"
    }
   ],
   "source": []
  },
  {
   "cell_type": "code",
   "execution_count": 8,
   "metadata": {},
   "outputs": [
    {
     "data": {
      "text/plain": [
       "1.7854163438661466"
      ]
     },
     "execution_count": 8,
     "metadata": {},
     "output_type": "execute_result"
    }
   ],
   "source": [
    "#%% model turing(model doğrulama) k katlı model doğrulama vs\n",
    "#sınama testi\n",
    "\n",
    "from sklearn.model_selection import train_test_split\n",
    "\n",
    "x_train, x_test, y_train, y_test=train_test_split(x,y, test_size=0.20,random_state=1) #kaça kaç bölüceğimizi test size da belirliyoruz\n",
    "                                                    #her çalıştırdığımızda farklı değer gelmemesi için random state parametresini kullanıyoruz\n",
    "                                                    #random_state 99 ama şuanlık 1\n",
    "lm=LinearRegression()\n",
    "model=lm.fit(x_train,y_train)   #eğitim setimize göre model oluşturduk\n",
    "\n",
    "#eğitim hatasını buluyoruz(train hatası)\n",
    "np.sqrt(mean_squared_error(y_train,model.predict(x_train))) #1.72 eğitim modelimize göre hata oranını hesaplıyoruz\n",
    "\n",
    "\n",
    "#test hatası\n",
    "np.sqrt(mean_squared_error(y_test,model.predict(x_test))) #1.43\n",
    "\n",
    "\n",
    "#k-katlı cv \n",
    "#train setine  yönelik elde edeceğimiz hatayı daha doğru değerlendirebilmek adına kullanıcaz\n",
    "\n",
    "from sklearn.model_selection import cross_val_score\n",
    "\n",
    "cross_val_score(model,x_train,y_train,cv=10,scoring=\"neg_mean_squared_error\")   #birinci argümana modeli,ikinciye bağımsız değişkenleri,üçüncü bağımlı değişkeni\n",
    "                                       #cv ile kaç katlı olacağını söylüyoruz \n",
    "                                        #scoring parametresinede r kare veya mse değerini verebiliyoruz. elde ediyoruz\n",
    "\n",
    "#10 farklı hata bulundu. çünkü 10 katlı yaptık ve her test etmede bir parçayı denedi\n",
    "#- değerler döndüğü için başına - koyup ortalamasıbı alıcaz\n",
    "\n",
    "#cv mse =>\n",
    "np.mean(-cross_val_score(model,x_train,y_train,cv=10,scoring=\"neg_mean_squared_error\")) #ortalama hatayı bulduk\n",
    "#train setine yönelik ortalama hatayı bulduk\n",
    "\n",
    "#cv rmse =>\n",
    "np.sqrt(np.mean(-cross_val_score(model,x_train,y_train,cv=10,scoring=\"neg_mean_squared_error\")))\n"
   ]
  },
  {
   "cell_type": "code",
   "execution_count": null,
   "metadata": {},
   "outputs": [],
   "source": []
  }
 ],
 "metadata": {
  "kernelspec": {
   "display_name": "machinelearning",
   "language": "python",
   "name": "machinelearning"
  },
  "language_info": {
   "codemirror_mode": {
    "name": "ipython",
    "version": 3
   },
   "file_extension": ".py",
   "mimetype": "text/x-python",
   "name": "python",
   "nbconvert_exporter": "python",
   "pygments_lexer": "ipython3",
   "version": "3.8.3"
  }
 },
 "nbformat": 4,
 "nbformat_minor": 4
}
