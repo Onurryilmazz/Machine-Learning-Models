{
 "cells": [
  {
   "cell_type": "code",
   "execution_count": 5,
   "metadata": {},
   "outputs": [
    {
     "data": {
      "image/png": "[encoded data removed]",
      "text/plain": [
       "<Figure size 432x288 with 1 Axes>"
      ]
     },
     "metadata": {
      "needs_background": "light"
     },
     "output_type": "display_data"
    }
   ],
   "source": [
    "# -*- coding: utf-8 -*-\n",
    "\"\"\"\n",
    "Created on Sun Jun 14 16:57:45 2020\n",
    "\n",
    "@author: Onur\n",
    "\"\"\"\n",
    "\n",
    "\n",
    "import numpy as np\n",
    "import pandas as pd\n",
    "from sklearn.linear_model import Ridge\n",
    "from sklearn.metrics import mean_squared_error,r2_score\n",
    "from sklearn.model_selection import train_test_split\n",
    "from sklearn import model_selection\n",
    "import matplotlib.pyplot as plt\n",
    "from sklearn.linear_model import RidgeCV\n",
    "from sklearn.model_selection import cross_val_score\n",
    "\n",
    "df=pd.read_csv(r\"C:\\Users\\Onur\\Desktop\\Turkcell_Machinelearning\\Hitters.csv\")\n",
    "df=df.dropna()\n",
    "dms=pd.get_dummies(df[['League','Division','NewLeague']]) #kategorik değişkenleri dummiy değişkene çevirdik OneHotencoding yaklaşımı yaptık\n",
    "    \n",
    "y=df[\"Salary\"]\n",
    "x_=df.drop(['Salary','League','Division','NewLeague'], axis=1).astype('float64')\n",
    "\n",
    "x=pd.concat([x_,dms[['League_N','Division_W','NewLeague_N']]],axis=1) #concat ile df birleştiriyoruz\n",
    "\n",
    "x_train, x_test, y_train, y_test=train_test_split(x,y, test_size=0.25,random_state=42)\n",
    "ridge_model=Ridge(alpha=5).fit(x_train,y_train)\n",
    "\n",
    "ridge_model.coef_   #farklı lambda değerlerine karşı farklı kat sayılar oluşucak\n",
    "                    #hatalar ortaya çıkıcak incelenecek ve optimum alphaya(lambdaya) karar vericek\n",
    "ridge_model.intercept_ #sabit kat sayımız\n",
    "\n",
    "lambdalar=10**np.linspace(10,-2,100)*0.5\n",
    "ridge_model=Ridge()\n",
    "katsayilar=[]\n",
    "\n",
    "for i in lambdalar:\n",
    "    ridge_model.set_params(alpha=i) #parametreleri ayarlamak(set) için kullanılır.yakaladığı her i değerini modele aplha parametresi olarak atayacak\n",
    "    ridge_model.fit(x_train,y_train)\n",
    "    katsayilar.append(ridge_model.coef_) #her modelde oluşan katsayıları listeye ekleyecek\n",
    "    \n",
    "ax=plt.gca()\n",
    "ax.plot(lambdalar,katsayilar)\n",
    "ax.set_xscale(\"log\") #kat sayılar birbirinden farklı olabileceğinden dolayı hepsini gözlemleyebilmek adına ölçek değiştirme işlemi yapacağız\n"
   ]
  },
  {
   "cell_type": "code",
   "execution_count": 6,
   "metadata": {},
   "outputs": [],
   "source": [
    "#%%tahmin\n",
    "ridge_model=Ridge().fit(x_train,y_train)\n",
    "y_pred=ridge_model.predict(x_train)\n",
    "\n",
    "#train hatası\n",
    "RMSE=np.sqrt(mean_squared_error(y_train,y_pred)) #valide edilmemiş doğrulanmamış rmse değeri bu\n",
    "\n",
    "np.sqrt(np.mean(-cross_val_score(ridge_model,x_train,y_train,cv=10,scoring=\"neg_mean_squared_error\")))\n",
    "#ikinci bulduğumuz hata daha doğru hata\n",
    "\n",
    "#test hatası\n",
    "y_pred=ridge_model.predict(x_test)\n",
    "RMSE=np.sqrt(mean_squared_error(y_test,y_pred))"
   ]
  },
  {
   "cell_type": "code",
   "execution_count": 12,
   "metadata": {},
   "outputs": [
    {
     "data": {
      "text/plain": [
       "0.7599555414764666"
      ]
     },
     "execution_count": 12,
     "metadata": {},
     "output_type": "execute_result"
    }
   ],
   "source": [
    "#%% model tuning\n",
    "\n",
    "ridge_model=Ridge().fit(x_train,y_train)\n",
    "y_pred=ridge_model.predict(x_test)\n",
    "np.sqrt(mean_squared_error(y_test,y_pred))\n",
    "\n",
    "lambdalar1=np.random.randint(0,1000,100)\n",
    "lambdalar2=10**np.linspace(10,-2,100)*0.5\n",
    "\n",
    "ridgecv=RidgeCV(alphas=lambdalar2,scoring='neg_mean_squared_error',cv=10,normalize=True) #standartlaşma işlemi yapmasını istediğimiz için true değeri döndürdük\n",
    "ridgecv.fit(x_train,y_train)\n",
    "\n",
    "ridgecv.alpha_ #modelin optimum parametreyi böyle alıyoruz"
   ]
  },
  {
   "cell_type": "code",
   "execution_count": 11,
   "metadata": {},
   "outputs": [
    {
     "data": {
      "text/plain": [
       "356.35561769907827"
      ]
     },
     "execution_count": 11,
     "metadata": {},
     "output_type": "execute_result"
    }
   ],
   "source": [
    "#final modeli\n",
    "\n",
    "ridge_tuned= Ridge(alpha=ridgecv.alpha_).fit(x_train,y_train)\n",
    "\n",
    "y_pred=ridge_tuned.predict(x_test)\n",
    "np.sqrt(mean_squared_error(y_test,y_pred))\n",
    "\n",
    "#%%farklı lambda için denicez\n",
    "\n",
    "ridgecv=RidgeCV(alphas=lambdalar1,scoring='neg_mean_squared_error',cv=10,normalize=True) #standartlaşma işlemi yapmasını istediğimiz için true değeri döndürdük\n",
    "ridgecv.fit(x_train,y_train)\n",
    "\n",
    "ridgecv.alpha_\n",
    "\n",
    "ridge_tuned= Ridge(alpha=ridgecv.alpha_).fit(x_train,y_train)\n",
    "\n",
    "y_pred=ridge_tuned.predict(x_test)\n",
    "np.sqrt(mean_squared_error(y_test,y_pred))"
   ]
  },
  {
   "cell_type": "code",
   "execution_count": null,
   "metadata": {},
   "outputs": [],
   "source": []
  }
 ],
 "metadata": {
  "kernelspec": {
   "display_name": "machinelearning",
   "language": "python",
   "name": "machinelearning"
  },
  "language_info": {
   "codemirror_mode": {
    "name": "ipython",
    "version": 3
   },
   "file_extension": ".py",
   "mimetype": "text/x-python",
   "name": "python",
   "nbconvert_exporter": "python",
   "pygments_lexer": "ipython3",
   "version": "3.8.3"
  }
 },
 "nbformat": 4,
 "nbformat_minor": 4
}
