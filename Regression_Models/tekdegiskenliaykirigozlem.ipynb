{
 "cells": [
  {
   "cell_type": "code",
   "execution_count": 3,
   "metadata": {},
   "outputs": [
    {
     "name": "stderr",
     "output_type": "stream",
     "text": [
      "<ipython-input-3-2519abe25ff5>:56: SettingWithCopyWarning: \n",
      "A value is trying to be set on a copy of a slice from a DataFrame\n",
      "\n",
      "See the caveats in the documentation: https://pandas.pydata.org/pandas-docs/stable/user_guide/indexing.html#returning-a-view-versus-a-copy\n",
      "  df_table[aykırı_tf]=df_table.mean()  #aykırı verileri ortlama ile doldurduk\n",
      "<ipython-input-3-2519abe25ff5>:67: SettingWithCopyWarning: \n",
      "A value is trying to be set on a copy of a slice from a DataFrame\n",
      "\n",
      "See the caveats in the documentation: https://pandas.pydata.org/pandas-docs/stable/user_guide/indexing.html#returning-a-view-versus-a-copy\n",
      "  df_table[aykırı_tf]=alt_sinir #alt sınırın altında kalanları alt sınıra baskıladık\n"
     ]
    },
    {
     "data": {
      "image/png": "[encoded data removed]",
      "text/plain": [
       "<Figure size 432x288 with 1 Axes>"
      ]
     },
     "metadata": {
      "needs_background": "light"
     },
     "output_type": "display_data"
    }
   ],
   "source": [
    "# -*- coding: utf-8 -*-\n",
    "\"\"\"\n",
    "Created on Mon Jun 15 20:08:07 2020\n",
    "\n",
    "@author: Onur\n",
    "\"\"\"\n",
    "#Tek Değişkenli Aykırı Gözlem\n",
    "\n",
    "import seaborn as sns\n",
    "\n",
    "df=sns.load_dataset('diamonds')   #seaborn kütüphanesinden bu datayı çekiyoruz\n",
    "df=df.select_dtypes(include=['float64','int64'])  #sadece sayısal değişkenlere erişmek için tip seçimi\n",
    "df=df.dropna()\n",
    "\n",
    "df_table=df[\"table\"]\n",
    "\n",
    "sns.boxplot(df_table)  #kutu grafik oluştu. dışarda kalan noktalar aykırı veri\n",
    "\n",
    "#eşik değerleri bulmalıyız\n",
    "\n",
    "Q1=df_table.quantile(0.25)  #veriler k den b ye sıralandığında %25 ince indexi alıyor \n",
    "Q3=df_table.quantile(0.75)   #3.çeyrek değer\n",
    "\n",
    "IQR=Q3-Q1  #inter quartar\n",
    "\n",
    "alt_sinir=Q1-1.5*IQR   #eşik değeri buluyoruz bu bi formul\n",
    "ust_sinir=Q3+1.5*IQR\n",
    "\n",
    "#aykırı verilere ulaşıcaz\n",
    "\n",
    "(df_table < alt_sinir) |( df_table > ust_sinir)\n",
    "\n",
    "aykırı_tf=df_table < alt_sinir    #aykırı değerlerin true false değerini gösteriyor\n",
    "df_table[aykırı_tf]  #hangi değerlerin aykırı olduğuna bakıyoruz\n",
    "\n",
    "df_table[aykırı_tf].index  #Aykırı verilerin indexlerini bakıyoruz\n",
    "\n",
    "#%%aykırı değer problemini çözmek\n",
    "\n",
    "#1-silme yaklaşımı\n",
    "\n",
    "import pandas as pd\n",
    "\n",
    "df_table=pd.DataFrame(df_table)\n",
    "\n",
    "t_df=df_table[~((df_table < alt_sinir)|(df_table > ust_sinir)).any(axis=1)]     #temiz df anlamında. ~ koymamızın sebebi koşulu sağlamayanları al anlamına geliyor\n",
    "                                                              #any axis 1 in sebebi sütun bazında işlem yapmak\n",
    "#%%2- ortalama ile doldurma\n",
    "\n",
    "df=sns.load_dataset('diamonds')   \n",
    "df=df.select_dtypes(include=['float64','int64'])  \n",
    "df=df.dropna()\n",
    "\n",
    "df_table=df[\"table\"]\n",
    "\n",
    "df_table[aykırı_tf]=df_table.mean()  #aykırı verileri ortlama ile doldurduk\n",
    "\n",
    "#%% baskılama yöntemii\n",
    "\n",
    "#aykırılar yakalandıktan sonra sınır değerlerine eşitlenir\n",
    "\n",
    "df=sns.load_dataset('diamonds')   \n",
    "df=df.select_dtypes(include=['float64','int64'])  \n",
    "df=df.dropna()\n",
    "\n",
    "df_table=df[\"table\"]\n",
    "df_table[aykırı_tf]=alt_sinir #alt sınırın altında kalanları alt sınıra baskıladık\n",
    "\n",
    "\n",
    "\n",
    "\n",
    "\n",
    "\n",
    "\n"
   ]
  },
  {
   "cell_type": "code",
   "execution_count": 1,
   "metadata": {},
   "outputs": [
    {
     "data": {
      "text/plain": [
       "2"
      ]
     },
     "execution_count": 1,
     "metadata": {},
     "output_type": "execute_result"
    }
   ],
   "source": [
    "1+1"
   ]
  },
  {
   "cell_type": "code",
   "execution_count": null,
   "metadata": {},
   "outputs": [],
   "source": []
  }
 ],
 "metadata": {
  "kernelspec": {
   "display_name": "machinelearning",
   "language": "python",
   "name": "machinelearning"
  },
  "language_info": {
   "codemirror_mode": {
    "name": "ipython",
    "version": 3
   },
   "file_extension": ".py",
   "mimetype": "text/x-python",
   "name": "python",
   "nbconvert_exporter": "python",
   "pygments_lexer": "ipython3",
   "version": "3.8.3"
  }
 },
 "nbformat": 4,
 "nbformat_minor": 4
}
