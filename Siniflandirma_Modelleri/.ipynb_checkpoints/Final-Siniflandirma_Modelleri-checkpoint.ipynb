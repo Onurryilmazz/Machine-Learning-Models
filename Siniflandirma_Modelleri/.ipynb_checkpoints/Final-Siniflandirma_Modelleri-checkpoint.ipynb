{
 "cells": [
  {
   "cell_type": "code",
   "execution_count": 1,
   "metadata": {},
   "outputs": [],
   "source": [
    "# Tüm sınıflandırma modellerinin sonuçlarını birbirleriyle karşılaştırıyoruz. "
   ]
  },
  {
   "cell_type": "code",
   "execution_count": 2,
   "metadata": {},
   "outputs": [],
   "source": [
    "# Bunları tek tek yazmak yerine yazdığımız fonksiyon aracılığı ile yapıyoruz"
   ]
  },
  {
   "cell_type": "code",
   "execution_count": 3,
   "metadata": {},
   "outputs": [],
   "source": [
    "import numpy as np\n",
    "import pandas as pd\n",
    "import seaborn as sns\n",
    "import matplotlib.pyplot as plt\n",
    "from sklearn.preprocessing import scale , StandardScaler\n",
    "from sklearn.model_selection import GridSearchCV, train_test_split, cross_val_score\n",
    "from sklearn.metrics import confusion_matrix, accuracy_score, mean_squared_error, r2_score, roc_auc_score, roc_curve, classification_report\n",
    "from sklearn.linear_model import LogisticRegression\n",
    "from sklearn.neighbors import KNeighborsClassifier\n",
    "from sklearn.svm import SVC\n",
    "from sklearn.neural_network import MLPClassifier\n",
    "from sklearn.tree import DecisionTreeClassifier\n",
    "from sklearn.ensemble import RandomForestClassifier, GradientBoostingClassifier\n",
    "import warnings\n",
    "warnings.filterwarnings(\"ignore\",category=DeprecationWarning)\n",
    "warnings.filterwarnings(\"ignore\",category=FutureWarning)"
   ]
  },
  {
   "cell_type": "code",
   "execution_count": 4,
   "metadata": {},
   "outputs": [],
   "source": [
    "from catboost import CatBoostClassifier\n",
    "from lightgbm import LGBMClassifier\n",
    "from xgboost import XGBClassifier"
   ]
  },
  {
   "cell_type": "code",
   "execution_count": 5,
   "metadata": {},
   "outputs": [],
   "source": [
    "df=pd.read_csv(r\"C:\\Users\\Onur\\Desktop\\Turkcell_MachineLearning\\diabetes.csv\")\n",
    "y=df[\"Outcome\"]\n",
    "X=df.drop([\"Outcome\"],axis=1)\n",
    "X_train,X_test,y_train,y_test=train_test_split(X,y, test_size=0.30, random_state=42)"
   ]
  },
  {
   "cell_type": "code",
   "execution_count": 9,
   "metadata": {},
   "outputs": [],
   "source": [
    "#modellerin tamamını burda toplayacaz"
   ]
  },
  {
   "cell_type": "markdown",
   "metadata": {},
   "source": [
    "# KNN"
   ]
  },
  {
   "cell_type": "markdown",
   "metadata": {},
   "source": [
    "MODEL-TAHMİN"
   ]
  },
  {
   "cell_type": "code",
   "execution_count": 10,
   "metadata": {},
   "outputs": [],
   "source": [
    "knn_model=KNeighborsClassifier().fit(X_train,y_train)"
   ]
  },
  {
   "cell_type": "code",
   "execution_count": 11,
   "metadata": {},
   "outputs": [
    {
     "data": {
      "text/plain": [
       "KNeighborsClassifier(algorithm='auto', leaf_size=30, metric='minkowski',\n",
       "                     metric_params=None, n_jobs=None, n_neighbors=5, p=2,\n",
       "                     weights='uniform')"
      ]
     },
     "execution_count": 11,
     "metadata": {},
     "output_type": "execute_result"
    }
   ],
   "source": [
    "knn_model"
   ]
  },
  {
   "cell_type": "code",
   "execution_count": 12,
   "metadata": {},
   "outputs": [],
   "source": [
    "y_pred=knn_model.predict(X_test)"
   ]
  },
  {
   "cell_type": "code",
   "execution_count": 13,
   "metadata": {},
   "outputs": [
    {
     "data": {
      "text/plain": [
       "0.6883116883116883"
      ]
     },
     "execution_count": 13,
     "metadata": {},
     "output_type": "execute_result"
    }
   ],
   "source": [
    "accuracy_score(y_test,y_pred)"
   ]
  },
  {
   "cell_type": "code",
   "execution_count": 14,
   "metadata": {},
   "outputs": [
    {
     "name": "stdout",
     "output_type": "stream",
     "text": [
      "              precision    recall  f1-score   support\n",
      "\n",
      "           0       0.77      0.75      0.76       151\n",
      "           1       0.55      0.56      0.56        80\n",
      "\n",
      "    accuracy                           0.69       231\n",
      "   macro avg       0.66      0.66      0.66       231\n",
      "weighted avg       0.69      0.69      0.69       231\n",
      "\n"
     ]
    }
   ],
   "source": [
    "print(classification_report(y_test,y_pred))"
   ]
  },
  {
   "cell_type": "markdown",
   "metadata": {},
   "source": [
    "# MODEL TUNİNG"
   ]
  },
  {
   "cell_type": "code",
   "execution_count": 15,
   "metadata": {},
   "outputs": [],
   "source": [
    "knn=KNeighborsClassifier()"
   ]
  },
  {
   "cell_type": "code",
   "execution_count": 16,
   "metadata": {},
   "outputs": [
    {
     "data": {
      "text/plain": [
       "KNeighborsClassifier(algorithm='auto', leaf_size=30, metric='minkowski',\n",
       "                     metric_params=None, n_jobs=None, n_neighbors=5, p=2,\n",
       "                     weights='uniform')"
      ]
     },
     "execution_count": 16,
     "metadata": {},
     "output_type": "execute_result"
    }
   ],
   "source": [
    "knn"
   ]
  },
  {
   "cell_type": "code",
   "execution_count": 17,
   "metadata": {},
   "outputs": [],
   "source": [
    "knn_params={\"n_neighbors\":np.arange(1,50)}"
   ]
  },
  {
   "cell_type": "code",
   "execution_count": 18,
   "metadata": {},
   "outputs": [],
   "source": [
    "knn_cv_model=GridSearchCV(knn,knn_params,cv=10).fit(X_train,y_train)"
   ]
  },
  {
   "cell_type": "code",
   "execution_count": 19,
   "metadata": {},
   "outputs": [
    {
     "data": {
      "text/plain": [
       "0.748637316561845"
      ]
     },
     "execution_count": 19,
     "metadata": {},
     "output_type": "execute_result"
    }
   ],
   "source": [
    "knn_cv_model.best_score_  #k değerlerine karşılık best scoru görüyoruz"
   ]
  },
  {
   "cell_type": "code",
   "execution_count": 27,
   "metadata": {},
   "outputs": [
    {
     "data": {
      "text/plain": [
       "{'n_neighbors': 11}"
      ]
     },
     "execution_count": 27,
     "metadata": {},
     "output_type": "execute_result"
    }
   ],
   "source": [
    "knn_cv_model.best_params_"
   ]
  },
  {
   "cell_type": "code",
   "execution_count": 28,
   "metadata": {},
   "outputs": [],
   "source": [
    "#final modeli"
   ]
  },
  {
   "cell_type": "code",
   "execution_count": 29,
   "metadata": {},
   "outputs": [],
   "source": [
    "knn_tuned=KNeighborsClassifier(n_neighbors=11).fit(X_train,y_train)"
   ]
  },
  {
   "cell_type": "code",
   "execution_count": 30,
   "metadata": {},
   "outputs": [],
   "source": [
    "y_pred=knn_tuned.predict(X_test)"
   ]
  },
  {
   "cell_type": "code",
   "execution_count": 31,
   "metadata": {},
   "outputs": [
    {
     "data": {
      "text/plain": [
       "0.7316017316017316"
      ]
     },
     "execution_count": 31,
     "metadata": {},
     "output_type": "execute_result"
    }
   ],
   "source": [
    "accuracy_score(y_test,y_pred)"
   ]
  },
  {
   "cell_type": "code",
   "execution_count": 32,
   "metadata": {},
   "outputs": [],
   "source": [
    "#accuracy_scoru hesaplamak için farklı bir yaklaşım daha var"
   ]
  },
  {
   "cell_type": "code",
   "execution_count": 33,
   "metadata": {},
   "outputs": [
    {
     "data": {
      "text/plain": [
       "0.7316017316017316"
      ]
     },
     "execution_count": 33,
     "metadata": {},
     "output_type": "execute_result"
    }
   ],
   "source": [
    "knn_tuned.score(X_test,y_test)  #y_pred yazmadan bu şekilde de yapabiliyoruz"
   ]
  },
  {
   "cell_type": "markdown",
   "metadata": {},
   "source": [
    "# LOJ MODEL"
   ]
  },
  {
   "cell_type": "code",
   "execution_count": 10,
   "metadata": {},
   "outputs": [],
   "source": [
    "#MODEL TAHMİN"
   ]
  },
  {
   "cell_type": "code",
   "execution_count": 34,
   "metadata": {},
   "outputs": [
    {
     "data": {
      "text/plain": [
       "0    500\n",
       "1    268\n",
       "Name: Outcome, dtype: int64"
      ]
     },
     "execution_count": 34,
     "metadata": {},
     "output_type": "execute_result"
    }
   ],
   "source": [
    "df[\"Outcome\"].value_counts() #hangi sınıftan kaç tane olduğunu görürüz"
   ]
  },
  {
   "cell_type": "code",
   "execution_count": 35,
   "metadata": {},
   "outputs": [
    {
     "data": {
      "text/html": [
       "<div>\n",
       "<style scoped>\n",
       "    .dataframe tbody tr th:only-of-type {\n",
       "        vertical-align: middle;\n",
       "    }\n",
       "\n",
       "    .dataframe tbody tr th {\n",
       "        vertical-align: top;\n",
       "    }\n",
       "\n",
       "    .dataframe thead th {\n",
       "        text-align: right;\n",
       "    }\n",
       "</style>\n",
       "<table border=\"1\" class=\"dataframe\">\n",
       "  <thead>\n",
       "    <tr style=\"text-align: right;\">\n",
       "      <th></th>\n",
       "      <th>count</th>\n",
       "      <th>mean</th>\n",
       "      <th>std</th>\n",
       "      <th>min</th>\n",
       "      <th>25%</th>\n",
       "      <th>50%</th>\n",
       "      <th>75%</th>\n",
       "      <th>max</th>\n",
       "    </tr>\n",
       "  </thead>\n",
       "  <tbody>\n",
       "    <tr>\n",
       "      <th>Pregnancies</th>\n",
       "      <td>768.0</td>\n",
       "      <td>3.845052</td>\n",
       "      <td>3.369578</td>\n",
       "      <td>0.000</td>\n",
       "      <td>1.00000</td>\n",
       "      <td>3.0000</td>\n",
       "      <td>6.00000</td>\n",
       "      <td>17.00</td>\n",
       "    </tr>\n",
       "    <tr>\n",
       "      <th>Glucose</th>\n",
       "      <td>768.0</td>\n",
       "      <td>120.894531</td>\n",
       "      <td>31.972618</td>\n",
       "      <td>0.000</td>\n",
       "      <td>99.00000</td>\n",
       "      <td>117.0000</td>\n",
       "      <td>140.25000</td>\n",
       "      <td>199.00</td>\n",
       "    </tr>\n",
       "    <tr>\n",
       "      <th>BloodPressure</th>\n",
       "      <td>768.0</td>\n",
       "      <td>69.105469</td>\n",
       "      <td>19.355807</td>\n",
       "      <td>0.000</td>\n",
       "      <td>62.00000</td>\n",
       "      <td>72.0000</td>\n",
       "      <td>80.00000</td>\n",
       "      <td>122.00</td>\n",
       "    </tr>\n",
       "    <tr>\n",
       "      <th>SkinThickness</th>\n",
       "      <td>768.0</td>\n",
       "      <td>20.536458</td>\n",
       "      <td>15.952218</td>\n",
       "      <td>0.000</td>\n",
       "      <td>0.00000</td>\n",
       "      <td>23.0000</td>\n",
       "      <td>32.00000</td>\n",
       "      <td>99.00</td>\n",
       "    </tr>\n",
       "    <tr>\n",
       "      <th>Insulin</th>\n",
       "      <td>768.0</td>\n",
       "      <td>79.799479</td>\n",
       "      <td>115.244002</td>\n",
       "      <td>0.000</td>\n",
       "      <td>0.00000</td>\n",
       "      <td>30.5000</td>\n",
       "      <td>127.25000</td>\n",
       "      <td>846.00</td>\n",
       "    </tr>\n",
       "    <tr>\n",
       "      <th>BMI</th>\n",
       "      <td>768.0</td>\n",
       "      <td>31.992578</td>\n",
       "      <td>7.884160</td>\n",
       "      <td>0.000</td>\n",
       "      <td>27.30000</td>\n",
       "      <td>32.0000</td>\n",
       "      <td>36.60000</td>\n",
       "      <td>67.10</td>\n",
       "    </tr>\n",
       "    <tr>\n",
       "      <th>DiabetesPedigreeFunction</th>\n",
       "      <td>768.0</td>\n",
       "      <td>0.471876</td>\n",
       "      <td>0.331329</td>\n",
       "      <td>0.078</td>\n",
       "      <td>0.24375</td>\n",
       "      <td>0.3725</td>\n",
       "      <td>0.62625</td>\n",
       "      <td>2.42</td>\n",
       "    </tr>\n",
       "    <tr>\n",
       "      <th>Age</th>\n",
       "      <td>768.0</td>\n",
       "      <td>33.240885</td>\n",
       "      <td>11.760232</td>\n",
       "      <td>21.000</td>\n",
       "      <td>24.00000</td>\n",
       "      <td>29.0000</td>\n",
       "      <td>41.00000</td>\n",
       "      <td>81.00</td>\n",
       "    </tr>\n",
       "    <tr>\n",
       "      <th>Outcome</th>\n",
       "      <td>768.0</td>\n",
       "      <td>0.348958</td>\n",
       "      <td>0.476951</td>\n",
       "      <td>0.000</td>\n",
       "      <td>0.00000</td>\n",
       "      <td>0.0000</td>\n",
       "      <td>1.00000</td>\n",
       "      <td>1.00</td>\n",
       "    </tr>\n",
       "  </tbody>\n",
       "</table>\n",
       "</div>"
      ],
      "text/plain": [
       "                          count        mean         std     min       25%  \\\n",
       "Pregnancies               768.0    3.845052    3.369578   0.000   1.00000   \n",
       "Glucose                   768.0  120.894531   31.972618   0.000  99.00000   \n",
       "BloodPressure             768.0   69.105469   19.355807   0.000  62.00000   \n",
       "SkinThickness             768.0   20.536458   15.952218   0.000   0.00000   \n",
       "Insulin                   768.0   79.799479  115.244002   0.000   0.00000   \n",
       "BMI                       768.0   31.992578    7.884160   0.000  27.30000   \n",
       "DiabetesPedigreeFunction  768.0    0.471876    0.331329   0.078   0.24375   \n",
       "Age                       768.0   33.240885   11.760232  21.000  24.00000   \n",
       "Outcome                   768.0    0.348958    0.476951   0.000   0.00000   \n",
       "\n",
       "                               50%        75%     max  \n",
       "Pregnancies                 3.0000    6.00000   17.00  \n",
       "Glucose                   117.0000  140.25000  199.00  \n",
       "BloodPressure              72.0000   80.00000  122.00  \n",
       "SkinThickness              23.0000   32.00000   99.00  \n",
       "Insulin                    30.5000  127.25000  846.00  \n",
       "BMI                        32.0000   36.60000   67.10  \n",
       "DiabetesPedigreeFunction    0.3725    0.62625    2.42  \n",
       "Age                        29.0000   41.00000   81.00  \n",
       "Outcome                     0.0000    1.00000    1.00  "
      ]
     },
     "execution_count": 35,
     "metadata": {},
     "output_type": "execute_result"
    }
   ],
   "source": [
    "df.describe().T"
   ]
  },
  {
   "cell_type": "code",
   "execution_count": 36,
   "metadata": {},
   "outputs": [],
   "source": [
    "y=df[\"Outcome\"]\n",
    "X=df.drop([\"Outcome\"],axis=1)"
   ]
  },
  {
   "cell_type": "code",
   "execution_count": 37,
   "metadata": {},
   "outputs": [],
   "source": [
    "log_model=LogisticRegression(solver=\"liblinear\").fit(X,y)"
   ]
  },
  {
   "cell_type": "code",
   "execution_count": 38,
   "metadata": {},
   "outputs": [
    {
     "data": {
      "text/plain": [
       "array([-5.89159518])"
      ]
     },
     "execution_count": 38,
     "metadata": {},
     "output_type": "execute_result"
    }
   ],
   "source": [
    "log_model.intercept_"
   ]
  },
  {
   "cell_type": "code",
   "execution_count": 39,
   "metadata": {},
   "outputs": [
    {
     "data": {
      "text/plain": [
       "array([[ 1.17052230e-01,  2.83873955e-02, -1.68897224e-02,\n",
       "         7.55274087e-04, -6.42755924e-04,  5.97603789e-02,\n",
       "         6.77671880e-01,  7.23947807e-03]])"
      ]
     },
     "execution_count": 39,
     "metadata": {},
     "output_type": "execute_result"
    }
   ],
   "source": [
    "log_model.coef_"
   ]
  },
  {
   "cell_type": "code",
   "execution_count": 40,
   "metadata": {},
   "outputs": [
    {
     "data": {
      "text/plain": [
       "array([1, 0, 1, 0, 1, 0, 0, 1, 1, 0], dtype=int64)"
      ]
     },
     "execution_count": 40,
     "metadata": {},
     "output_type": "execute_result"
    }
   ],
   "source": [
    "log_model.predict(X)[0:10]"
   ]
  },
  {
   "cell_type": "code",
   "execution_count": 41,
   "metadata": {},
   "outputs": [
    {
     "data": {
      "text/plain": [
       "0    1\n",
       "1    0\n",
       "2    1\n",
       "3    0\n",
       "4    1\n",
       "5    0\n",
       "6    1\n",
       "7    0\n",
       "8    1\n",
       "9    1\n",
       "Name: Outcome, dtype: int64"
      ]
     },
     "execution_count": 41,
     "metadata": {},
     "output_type": "execute_result"
    }
   ],
   "source": [
    "y[0:10]"
   ]
  },
  {
   "cell_type": "code",
   "execution_count": 42,
   "metadata": {},
   "outputs": [],
   "source": [
    "y_pred=log_model.predict(X)"
   ]
  },
  {
   "cell_type": "code",
   "execution_count": 43,
   "metadata": {},
   "outputs": [],
   "source": [
    "#karmaşıklık matrixini kullanarak hatalarımızı değerlendireceğiz"
   ]
  },
  {
   "cell_type": "code",
   "execution_count": 44,
   "metadata": {},
   "outputs": [
    {
     "data": {
      "text/plain": [
       "array([[448,  52],\n",
       "       [121, 147]], dtype=int64)"
      ]
     },
     "execution_count": 44,
     "metadata": {},
     "output_type": "execute_result"
    }
   ],
   "source": [
    "confusion_matrix(y,y_pred) #bunun üzerinden yorum yapmak zor olabilir"
   ]
  },
  {
   "cell_type": "code",
   "execution_count": 45,
   "metadata": {},
   "outputs": [
    {
     "data": {
      "text/plain": [
       "0.7747395833333334"
      ]
     },
     "execution_count": 45,
     "metadata": {},
     "output_type": "execute_result"
    }
   ],
   "source": [
    "accuracy_score(y,y_pred)  #doğruluk başarılık oranını vericek"
   ]
  },
  {
   "cell_type": "code",
   "execution_count": 46,
   "metadata": {},
   "outputs": [
    {
     "name": "stdout",
     "output_type": "stream",
     "text": [
      "              precision    recall  f1-score   support\n",
      "\n",
      "           0       0.79      0.90      0.84       500\n",
      "           1       0.74      0.55      0.63       268\n",
      "\n",
      "    accuracy                           0.77       768\n",
      "   macro avg       0.76      0.72      0.73       768\n",
      "weighted avg       0.77      0.77      0.77       768\n",
      "\n"
     ]
    }
   ],
   "source": [
    "print(classification_report(y,y_pred)) #sınıflandırma raporu veriyor"
   ]
  },
  {
   "cell_type": "code",
   "execution_count": 47,
   "metadata": {},
   "outputs": [],
   "source": [
    "#yukarıda tahmin değerlerini 1 ve 0 oluştu. eğer bazı durumlarda bunu olasılık değerlerinin kendisinden almak istersek\n",
    "#(logistic regresyon bize 1 değerinin olma değerini veriyordu)\n",
    "#aşağıdaki fonksiyonu kullanabiliriz"
   ]
  },
  {
   "cell_type": "code",
   "execution_count": 48,
   "metadata": {},
   "outputs": [
    {
     "data": {
      "text/plain": [
       "array([[0.35040711, 0.64959289],\n",
       "       [0.91701929, 0.08298071],\n",
       "       [0.22474085, 0.77525915],\n",
       "       [0.92138876, 0.07861124],\n",
       "       [0.1672242 , 0.8327758 ],\n",
       "       [0.79898675, 0.20101325],\n",
       "       [0.88019106, 0.11980894],\n",
       "       [0.2781269 , 0.7218731 ],\n",
       "       [0.32060943, 0.67939057],\n",
       "       [0.92272884, 0.07727116]])"
      ]
     },
     "execution_count": 48,
     "metadata": {},
     "output_type": "execute_result"
    }
   ],
   "source": [
    "log_model.predict_proba(X)[0:10]"
   ]
  },
  {
   "cell_type": "code",
   "execution_count": 49,
   "metadata": {},
   "outputs": [],
   "source": [
    "#Roc Eğrisi (detayları başlangıç için önemli değil) = model başarımızı değerlendirmek üzere oluşturulan grafik. Eğri altındali alanla ilgileniyoruz\n",
    "#eğri altındaki alan ne kadar büyükse o kadar başarılıdır"
   ]
  },
  {
   "cell_type": "code",
   "execution_count": 50,
   "metadata": {},
   "outputs": [
    {
     "data": {
      "image/png": "[encoded data removed]",
      "text/plain": [
       "<Figure size 432x288 with 1 Axes>"
      ]
     },
     "metadata": {
      "needs_background": "light"
     },
     "output_type": "display_data"
    }
   ],
   "source": [
    "logit_roc_auc=roc_auc_score(y,log_model.predict(X))\n",
    "fpr,tpr,thresholds=roc_curve(y,log_model.predict_proba(X)[:,1])\n",
    "plt.figure()\n",
    "plt.plot(fpr,tpr,label=\"AUC (areaa=%0.2f)\" % logit_roc_auc)\n",
    "plt.plot([0,1],[0,1],'r--')\n",
    "plt.xlim([0.0,1.0])\n",
    "plt.ylim([0.0, 1.05])\n",
    "plt.xlabel(\"False Positive Rate\")\n",
    "plt.ylabel(\"True Positive Rate\")\n",
    "plt.title(\"Receiver operating characteristic\")\n",
    "plt.legend(loc=\"lower right\")\n",
    "plt.show()"
   ]
  },
  {
   "cell_type": "markdown",
   "metadata": {},
   "source": [
    "# MODEL TUNİNG/DOĞRULAMA/VALİDATİON"
   ]
  },
  {
   "cell_type": "code",
   "execution_count": 51,
   "metadata": {},
   "outputs": [],
   "source": [
    "X_train, X_test, y_train, y_test=train_test_split(X,y, test_size=0.30,random_state=42)"
   ]
  },
  {
   "cell_type": "code",
   "execution_count": 52,
   "metadata": {},
   "outputs": [],
   "source": [
    "log_model=LogisticRegression(solver=\"liblinear\").fit(X_train,y_train)"
   ]
  },
  {
   "cell_type": "code",
   "execution_count": 53,
   "metadata": {},
   "outputs": [],
   "source": [
    "y_pred=log_model.predict(X_test)"
   ]
  },
  {
   "cell_type": "code",
   "execution_count": 54,
   "metadata": {},
   "outputs": [
    {
     "name": "stdout",
     "output_type": "stream",
     "text": [
      "0.7532467532467533\n"
     ]
    }
   ],
   "source": [
    "print(accuracy_score(y_test,y_pred))"
   ]
  },
  {
   "cell_type": "code",
   "execution_count": 55,
   "metadata": {},
   "outputs": [
    {
     "data": {
      "text/plain": [
       "array([0.78723404, 0.82608696, 0.82608696, 0.69565217, 0.73913043])"
      ]
     },
     "execution_count": 55,
     "metadata": {},
     "output_type": "execute_result"
    }
   ],
   "source": [
    "cross_val_score(log_model,X_test,y_test) #hata hesaplama işlemi yaptı(5 katlı doğrulama yaptı varsayılanı o)"
   ]
  },
  {
   "cell_type": "code",
   "execution_count": 56,
   "metadata": {},
   "outputs": [
    {
     "data": {
      "text/plain": [
       "0.7704710144927536"
      ]
     },
     "execution_count": 56,
     "metadata": {},
     "output_type": "execute_result"
    }
   ],
   "source": [
    "cross_val_score(log_model,X_test,y_test, cv=10).mean()"
   ]
  },
  {
   "cell_type": "markdown",
   "metadata": {},
   "source": [
    "# svm"
   ]
  },
  {
   "cell_type": "markdown",
   "metadata": {},
   "source": [
    "# MODEL TAHMİN"
   ]
  },
  {
   "cell_type": "code",
   "execution_count": 57,
   "metadata": {},
   "outputs": [],
   "source": [
    "svm_model=SVC().fit(X_train,y_train)"
   ]
  },
  {
   "cell_type": "code",
   "execution_count": 58,
   "metadata": {},
   "outputs": [
    {
     "data": {
      "text/plain": [
       "SVC(C=1.0, break_ties=False, cache_size=200, class_weight=None, coef0=0.0,\n",
       "    decision_function_shape='ovr', degree=3, gamma='scale', kernel='rbf',\n",
       "    max_iter=-1, probability=False, random_state=None, shrinking=True,\n",
       "    tol=0.001, verbose=False)"
      ]
     },
     "execution_count": 58,
     "metadata": {},
     "output_type": "execute_result"
    }
   ],
   "source": [
    "svm_model  #kernel varsayılan değer olark rbf verilmiş yani doğrusal olmayan form"
   ]
  },
  {
   "cell_type": "code",
   "execution_count": 59,
   "metadata": {},
   "outputs": [],
   "source": [
    "svm_model=SVC(kernel='linear').fit(X_train,y_train)"
   ]
  },
  {
   "cell_type": "code",
   "execution_count": 60,
   "metadata": {},
   "outputs": [
    {
     "data": {
      "text/plain": [
       "SVC(C=1.0, break_ties=False, cache_size=200, class_weight=None, coef0=0.0,\n",
       "    decision_function_shape='ovr', degree=3, gamma='scale', kernel='linear',\n",
       "    max_iter=-1, probability=False, random_state=None, shrinking=True,\n",
       "    tol=0.001, verbose=False)"
      ]
     },
     "execution_count": 60,
     "metadata": {},
     "output_type": "execute_result"
    }
   ],
   "source": [
    "svm_model"
   ]
  },
  {
   "cell_type": "code",
   "execution_count": 61,
   "metadata": {},
   "outputs": [],
   "source": [
    "y_pred=svm_model.predict(X_test)"
   ]
  },
  {
   "cell_type": "code",
   "execution_count": 62,
   "metadata": {},
   "outputs": [
    {
     "data": {
      "text/plain": [
       "0.7445887445887446"
      ]
     },
     "execution_count": 62,
     "metadata": {},
     "output_type": "execute_result"
    }
   ],
   "source": [
    "accuracy_score(y_test,y_pred)"
   ]
  },
  {
   "cell_type": "markdown",
   "metadata": {},
   "source": [
    "# MODEL TUNİNG"
   ]
  },
  {
   "cell_type": "code",
   "execution_count": 63,
   "metadata": {},
   "outputs": [],
   "source": [
    "svm=SVC()"
   ]
  },
  {
   "cell_type": "code",
   "execution_count": 64,
   "metadata": {},
   "outputs": [],
   "source": [
    "svm_params={'C':np.arange(1,10),\n",
    "           'kernel':['linear','rbf']}"
   ]
  },
  {
   "cell_type": "code",
   "execution_count": 65,
   "metadata": {},
   "outputs": [
    {
     "name": "stdout",
     "output_type": "stream",
     "text": [
      "Fitting 5 folds for each of 18 candidates, totalling 90 fits\n"
     ]
    },
    {
     "name": "stderr",
     "output_type": "stream",
     "text": [
      "[Parallel(n_jobs=-1)]: Using backend LokyBackend with 4 concurrent workers.\n",
      "[Parallel(n_jobs=-1)]: Done  33 tasks      | elapsed:   52.8s\n",
      "[Parallel(n_jobs=-1)]: Done  90 out of  90 | elapsed:  5.4min finished\n"
     ]
    }
   ],
   "source": [
    "svm_cv_model=GridSearchCV(svm,svm_params,cv=5, n_jobs=-1,verbose=2).fit(X_train,y_train)"
   ]
  },
  {
   "cell_type": "code",
   "execution_count": 66,
   "metadata": {},
   "outputs": [
    {
     "data": {
      "text/plain": [
       "0.7839044652128765"
      ]
     },
     "execution_count": 66,
     "metadata": {},
     "output_type": "execute_result"
    }
   ],
   "source": [
    "svm_cv_model.best_score_"
   ]
  },
  {
   "cell_type": "code",
   "execution_count": 67,
   "metadata": {},
   "outputs": [
    {
     "data": {
      "text/plain": [
       "{'C': 2, 'kernel': 'linear'}"
      ]
     },
     "execution_count": 67,
     "metadata": {},
     "output_type": "execute_result"
    }
   ],
   "source": [
    "svm_cv_model.best_params_"
   ]
  },
  {
   "cell_type": "code",
   "execution_count": 68,
   "metadata": {},
   "outputs": [],
   "source": [
    "#final modeli"
   ]
  },
  {
   "cell_type": "code",
   "execution_count": 69,
   "metadata": {},
   "outputs": [],
   "source": [
    "svm_tuned=SVC(C=2,kernel='linear').fit(X_train,y_train)"
   ]
  },
  {
   "cell_type": "code",
   "execution_count": 70,
   "metadata": {},
   "outputs": [],
   "source": [
    "y_pred=svm_tuned.predict(X_test)"
   ]
  },
  {
   "cell_type": "code",
   "execution_count": 71,
   "metadata": {},
   "outputs": [
    {
     "data": {
      "text/plain": [
       "0.7445887445887446"
      ]
     },
     "execution_count": 71,
     "metadata": {},
     "output_type": "execute_result"
    }
   ],
   "source": [
    "accuracy_score(y_test,y_pred)"
   ]
  },
  {
   "cell_type": "markdown",
   "metadata": {},
   "source": [
    "# YAPAY SİNİR AĞLARI"
   ]
  },
  {
   "cell_type": "markdown",
   "metadata": {},
   "source": [
    "# model tahmin"
   ]
  },
  {
   "cell_type": "code",
   "execution_count": 72,
   "metadata": {},
   "outputs": [],
   "source": [
    "mlpc_mpdel=MLPClassifier().fit(X_train,y_train)"
   ]
  },
  {
   "cell_type": "code",
   "execution_count": 73,
   "metadata": {
    "collapsed": true,
    "jupyter": {
     "outputs_hidden": true
    }
   },
   "outputs": [
    {
     "data": {
      "text/plain": [
       "[array([[-2.11559089e-01, -5.59003661e-02, -1.15293601e-01,\n",
       "         -7.92588351e-13,  2.07345319e-01,  3.92560010e-02,\n",
       "          7.35275453e-03,  1.50207303e-01,  9.67303117e-03,\n",
       "          8.33323470e-02,  2.23860338e-01, -1.67416839e-01,\n",
       "          8.52768300e-03, -4.53126868e-03,  2.96273979e-01,\n",
       "         -5.43468977e-04,  9.12941269e-02,  7.79084280e-02,\n",
       "          1.25840876e-01,  3.54761508e-03,  2.19358947e-02,\n",
       "          1.86916045e-01,  1.06559954e-01,  2.93860614e-01,\n",
       "          1.23524973e-06, -1.35496021e-01, -9.73823043e-02,\n",
       "          1.32956751e-01, -6.53374890e-02,  1.65938774e-01,\n",
       "         -1.99681155e-01, -3.64972995e-02, -8.32722953e-02,\n",
       "         -7.13729107e-02,  2.18925648e-02, -2.00234052e-01,\n",
       "          2.90092196e-09,  1.78769692e-01, -1.09221900e-01,\n",
       "          1.41327774e-01, -6.33154177e-02, -1.09722724e-03,\n",
       "          1.22221932e-01, -1.32356554e-01, -1.81470965e-01,\n",
       "         -1.20139163e-01,  9.76593266e-02,  2.85835193e-01,\n",
       "          7.24971761e-02,  4.67781628e-10, -2.86014108e-02,\n",
       "          7.35224410e-02, -2.03468505e-01,  8.84895951e-02,\n",
       "          6.57192970e-02,  3.90891020e-03, -9.79552507e-02,\n",
       "         -1.95576619e-01,  1.40740692e-11,  4.50129129e-02,\n",
       "         -6.27103670e-03, -3.40259430e-02,  8.89510703e-02,\n",
       "         -9.28513576e-02,  5.60040413e-02, -1.48227206e-01,\n",
       "          2.22148762e-01, -1.25837184e-01,  1.94630801e-01,\n",
       "          6.11815132e-02,  3.02593214e-02, -2.07234795e-01,\n",
       "         -4.72032991e-07,  1.92388382e-01, -1.13140152e-05,\n",
       "         -1.73757766e-01,  1.01472673e-01,  2.74532328e-01,\n",
       "          2.22773567e-01, -2.30942292e-02, -1.42177191e-02,\n",
       "         -9.21150255e-02, -6.86030838e-02,  2.10548124e-01,\n",
       "         -7.90935734e-04, -2.92381311e-01,  2.14520628e-01,\n",
       "          1.19889789e-01, -2.66740603e-02,  1.89519692e-01,\n",
       "         -1.78404127e-01,  3.69900489e-05,  2.56180129e-01,\n",
       "          1.86728624e-01,  1.54749026e-01,  2.03776582e-01,\n",
       "          6.44226491e-03,  4.39678902e-02, -1.98070222e-01,\n",
       "         -2.24450487e-01],\n",
       "        [ 2.12812824e-01, -2.62220642e-02,  1.42360999e-01,\n",
       "          3.53378458e-14,  1.85205269e-01,  5.95267285e-03,\n",
       "          1.65694561e-01, -7.37491057e-02, -2.08620734e-01,\n",
       "          3.11864136e-03, -9.50812207e-03, -4.97610477e-02,\n",
       "         -1.26708575e-02, -4.83385377e-03, -2.20852262e-01,\n",
       "          6.59021138e-02, -7.07653381e-02,  8.10746443e-02,\n",
       "         -1.94282416e-01, -5.22177531e-03,  3.09557049e-02,\n",
       "         -5.32591622e-02, -1.95778724e-01, -1.76647629e-01,\n",
       "         -2.73467629e-03,  1.14353602e-02,  1.01825624e-01,\n",
       "         -1.74984458e-02, -5.28616245e-02,  1.65003459e-01,\n",
       "          2.48036409e-03, -1.63034755e-01, -6.26669716e-03,\n",
       "          2.13179669e-01, -5.15256564e-02,  1.54132253e-01,\n",
       "         -6.14479108e-03, -2.90851536e-02, -4.71801313e-02,\n",
       "          2.11017769e-01, -1.48096779e-01, -1.87662129e-02,\n",
       "          5.13621519e-02,  7.84361941e-02,  3.85218916e-02,\n",
       "          4.78145045e-02,  7.98674391e-02, -1.56658832e-01,\n",
       "         -6.33660647e-03, -5.04965098e-04,  9.69721311e-03,\n",
       "          4.98296159e-02, -9.51238847e-02, -1.64726404e-01,\n",
       "         -2.61095685e-03, -1.23495667e-02,  3.35517003e-02,\n",
       "         -1.10801924e-01, -1.64570243e-03, -1.35627221e-01,\n",
       "         -2.50656945e-03, -1.41971213e-01,  2.02299445e-02,\n",
       "         -3.19434280e-02,  5.14931594e-02, -4.34180373e-03,\n",
       "          2.08238686e-01,  1.96052047e-01, -5.05963025e-03,\n",
       "          2.18556589e-01, -1.29381846e-03,  7.23647213e-02,\n",
       "         -1.42033643e-03,  1.67254406e-01, -1.95142068e-02,\n",
       "         -4.84444795e-02, -1.35260797e-01, -1.46670137e-01,\n",
       "          1.72793474e-01, -3.30208838e-03,  1.22697259e-01,\n",
       "         -1.94805528e-01,  2.20728673e-01, -1.04170354e-01,\n",
       "         -5.32535156e-03, -8.31448145e-03, -6.60343633e-02,\n",
       "         -2.27940174e-01,  5.03321094e-02, -3.80872217e-01,\n",
       "          2.03113893e-01, -6.33067843e-03, -2.43678989e-01,\n",
       "         -4.02557902e-02, -2.18910098e-02,  7.37375305e-02,\n",
       "         -2.81360431e-03, -6.80539243e-02,  9.13524239e-02,\n",
       "         -6.30183121e-02],\n",
       "        [ 1.84656644e-01,  2.14331960e-01, -1.45165809e-02,\n",
       "         -4.20254723e-09, -7.70122050e-02, -1.34310730e-01,\n",
       "         -2.90995384e-02,  1.82092366e-01,  1.50621263e-01,\n",
       "         -1.68440740e-01,  1.70443840e-01,  6.05936009e-02,\n",
       "         -9.31615023e-02, -1.78743300e-02,  7.18913233e-02,\n",
       "          5.33811443e-02,  8.02675669e-02,  1.62620245e-01,\n",
       "          2.43544066e-01, -2.94186551e-03, -1.30003960e-01,\n",
       "          1.32292639e-01,  1.86330986e-02,  1.22238998e-01,\n",
       "         -4.04498586e-03, -7.45366137e-02,  2.12683002e-01,\n",
       "         -1.09128089e-01, -4.43010096e-02,  1.44065297e-01,\n",
       "          1.34779341e-01,  3.63474252e-02,  3.37992184e-02,\n",
       "          1.00618057e-01, -1.89981091e-01, -1.98344708e-01,\n",
       "         -2.79384884e-03,  1.20589581e-01,  6.21274042e-02,\n",
       "          2.14257550e-01,  1.09551108e-01, -2.79165484e-04,\n",
       "          1.76198515e-01, -1.77314525e-01,  2.86832390e-02,\n",
       "         -1.39877225e-01,  1.13364948e-01,  1.44091646e-01,\n",
       "          3.24412203e-02, -3.59357113e-03, -6.37905245e-02,\n",
       "         -1.19241175e-01, -1.17571022e-01, -2.04068954e-02,\n",
       "          1.49297285e-02, -1.85186527e-02, -1.15854351e-01,\n",
       "         -1.73624421e-01, -8.35523247e-04,  6.83636789e-02,\n",
       "         -1.48523458e-02, -1.12941797e-01,  1.54394726e-01,\n",
       "          1.65648612e-01, -3.98869628e-02, -1.04969349e-01,\n",
       "          2.15633875e-01, -5.27713824e-02,  7.84796379e-02,\n",
       "          8.64138921e-02, -1.31908119e-01,  1.20036292e-01,\n",
       "          2.11502439e-11, -2.04053423e-01, -1.34155359e-05,\n",
       "          1.62808743e-01,  2.48254343e-01,  3.47834140e-02,\n",
       "          5.52781812e-03, -2.16462590e-02,  7.54255405e-02,\n",
       "          1.40227325e-02, -1.51211541e-01, -6.88467394e-02,\n",
       "         -6.08338010e-11, -5.15541252e-02, -6.49384101e-02,\n",
       "          1.54362239e-01, -7.95627521e-02, -6.76545489e-02,\n",
       "         -2.04593640e-01, -7.18410252e-05,  4.87022629e-02,\n",
       "          3.61910226e-02, -1.63355592e-01, -8.74947529e-02,\n",
       "         -4.66971289e-05,  1.86764794e-01, -1.30401860e-01,\n",
       "          8.22309857e-02],\n",
       "        [-8.23674710e-02,  2.13005597e-02,  2.11834721e-01,\n",
       "          7.38533500e-08,  2.09755636e-01,  1.63183094e-01,\n",
       "          2.15374652e-01,  8.07895928e-02, -1.89239123e-01,\n",
       "          1.93977812e-01,  1.96528375e-01, -1.31369315e-01,\n",
       "         -9.65245556e-02, -1.35864884e-02, -1.80665880e-01,\n",
       "         -1.72167398e-01,  1.93669765e-01,  2.99904056e-02,\n",
       "         -1.07768696e-01,  1.52785964e-04, -1.90431967e-01,\n",
       "          2.19168843e-01,  1.96637396e-01,  1.35904550e-01,\n",
       "         -4.85213212e-03, -5.05709347e-02, -1.05671800e-01,\n",
       "          2.25242015e-01, -8.46963391e-02,  2.87403814e-02,\n",
       "          7.03004380e-02, -1.54922133e-01,  2.12731252e-01,\n",
       "         -4.47869735e-02,  3.44720234e-02,  7.34572775e-02,\n",
       "         -6.75790560e-03,  1.17513386e-01,  1.76660424e-01,\n",
       "         -5.05212452e-02, -2.46563765e-01, -7.62123628e-06,\n",
       "          4.85312015e-03,  1.57393968e-01, -2.43346894e-01,\n",
       "          1.89367513e-01, -1.67331484e-01, -1.57646865e-01,\n",
       "         -4.06295019e-02, -9.01179297e-07,  8.99191739e-02,\n",
       "          7.69966659e-02,  1.94919890e-01,  2.13566794e-01,\n",
       "          1.43860024e-02, -1.83330031e-02, -7.67078140e-02,\n",
       "          1.54458627e-01, -1.27813627e-03,  3.67038703e-02,\n",
       "         -1.23060468e-02,  2.07134223e-01,  1.21050182e-01,\n",
       "          1.15249803e-01, -4.94639166e-02,  1.85941939e-01,\n",
       "         -7.42467983e-02,  2.18767198e-02,  1.22529175e-02,\n",
       "         -2.33359703e-01, -5.64805574e-02, -7.00009503e-02,\n",
       "         -1.27799862e-06, -2.01841469e-01, -4.68296243e-03,\n",
       "         -2.08385390e-01,  1.82041269e-02,  1.71169068e-01,\n",
       "         -2.05035615e-01, -2.11223635e-02,  9.65215820e-02,\n",
       "          1.41199092e-01,  4.50298102e-02, -8.19669001e-06,\n",
       "         -7.32187362e-03,  2.13828148e-02,  1.25871186e-01,\n",
       "          9.83098281e-02, -2.19134083e-01,  1.56749670e-01,\n",
       "         -1.69174556e-01, -8.95327191e-06,  1.03792781e-01,\n",
       "          1.40813298e-01,  2.15652380e-01, -4.84222814e-02,\n",
       "          4.79259263e-13,  1.37642935e-02,  1.69159302e-01,\n",
       "         -1.39544789e-02],\n",
       "        [ 1.90599638e-01,  1.81657207e-01,  3.30450860e-02,\n",
       "          6.54330737e-12, -6.41784849e-02,  2.14062584e-01,\n",
       "         -1.87682199e-01,  2.85207406e-02, -1.82387505e-01,\n",
       "         -2.86329850e-01, -9.14577064e-02,  1.36533597e-02,\n",
       "          1.27861577e-01, -9.69925597e-05,  5.59865812e-02,\n",
       "         -2.93254207e-01,  2.24582847e-01,  8.61831546e-02,\n",
       "          4.46643570e-02, -1.13133454e-03, -2.07920578e-02,\n",
       "          1.12678819e-01,  1.23452315e-01,  7.60052804e-02,\n",
       "          4.06614831e-07,  6.37279815e-02, -6.67254627e-02,\n",
       "          2.38613668e-03, -2.20722031e-12,  5.82826007e-02,\n",
       "         -4.83817359e-02,  1.76852899e-01, -2.94557401e-01,\n",
       "          6.43190928e-02,  1.61867780e-01, -2.39800828e-02,\n",
       "         -2.33413793e-03,  1.25281154e-01, -1.18541782e-01,\n",
       "         -7.00698647e-02,  4.98487565e-02, -1.07487759e-04,\n",
       "         -9.93427810e-02, -2.69967342e-01,  2.58505899e-03,\n",
       "          1.20821114e-01,  7.50275398e-02, -5.00845050e-03,\n",
       "         -7.04593251e-02, -7.62401342e-07, -3.31795332e-03,\n",
       "         -1.89969350e-01,  7.17936447e-02,  1.76885575e-01,\n",
       "         -3.19410130e-02, -1.85167349e-02,  5.92898112e-02,\n",
       "          2.19612443e-01,  1.56304541e-08,  6.74743728e-02,\n",
       "         -4.97063905e-03,  2.10784033e-01,  9.64026025e-02,\n",
       "         -9.15717630e-02, -3.45882313e-02, -2.50545592e-02,\n",
       "          8.17680305e-03, -2.26259289e-01,  1.57417757e-02,\n",
       "          1.61391513e-01,  1.92358911e-01,  1.81782013e-01,\n",
       "         -3.02675326e-10,  2.01589603e-01, -3.20657369e-03,\n",
       "          1.76298003e-01, -1.23218527e-01,  7.13787853e-02,\n",
       "          1.87357990e-01, -1.51934990e-04,  2.70207458e-02,\n",
       "          1.79458367e-01, -1.62298311e-01, -2.33047288e-04,\n",
       "         -1.21884637e-03, -9.12915859e-03,  2.00688052e-01,\n",
       "          1.02250844e-01,  1.71166887e-01, -3.47534620e-01,\n",
       "         -1.87440875e-01, -3.03082997e-03, -1.79695880e-01,\n",
       "         -5.32151209e-02, -1.15990026e-01, -3.55035686e-03,\n",
       "         -4.58767729e-04, -2.58805280e-02, -9.91059118e-02,\n",
       "         -7.75989718e-03],\n",
       "        [-1.61939148e-02, -1.34631927e-01,  1.58164485e-01,\n",
       "          5.64208470e-10, -1.59081497e-01,  1.87523426e-02,\n",
       "          1.52145908e-01,  1.21228938e-01,  8.97068041e-02,\n",
       "          2.27874002e-01, -1.99483685e-01, -4.12559666e-02,\n",
       "          6.47861905e-02, -1.38622636e-02,  1.97542501e-02,\n",
       "         -4.84912490e-02, -1.22431550e-01, -8.97360054e-02,\n",
       "          9.96995860e-03, -4.30647587e-03, -1.14015168e-01,\n",
       "          2.03614341e-01,  5.04931541e-02,  2.06823641e-01,\n",
       "          5.57626357e-05,  4.24089538e-02,  1.05030286e-01,\n",
       "         -4.87769924e-03,  9.96952598e-02,  1.65433956e-02,\n",
       "          1.75944218e-01, -2.21862888e-01, -2.37113200e-01,\n",
       "         -2.09687744e-01, -8.15525416e-02, -5.52221705e-02,\n",
       "         -5.27150828e-04, -1.92671415e-01,  1.74876477e-01,\n",
       "         -2.11263779e-01,  2.01695666e-01, -1.87102756e-02,\n",
       "         -5.80820458e-02,  2.22545830e-01, -2.75631392e-02,\n",
       "         -3.29132385e-02, -8.20564958e-02,  5.58067292e-02,\n",
       "          2.09749946e-01, -9.89293310e-05, -1.44923661e-01,\n",
       "         -1.56719017e-01, -1.88320362e-01,  2.30021922e-01,\n",
       "         -8.54647211e-02, -2.86699642e-02,  2.36104178e-01,\n",
       "         -7.61291691e-02,  6.32809517e-06, -2.89359978e-01,\n",
       "         -1.23127244e-02, -3.38821342e-02,  1.75601147e-01,\n",
       "         -4.32435172e-02, -2.26620849e-02, -1.76207906e-01,\n",
       "          1.96646489e-01,  1.56727376e-01, -6.31657216e-02,\n",
       "         -1.55351210e-01, -1.95220304e-01, -5.56730372e-02,\n",
       "          1.29179665e-07,  1.80110220e-01, -1.84926745e-02,\n",
       "          1.45998935e-01,  7.69612905e-02,  2.29401004e-01,\n",
       "         -1.04767513e-01, -1.98090032e-02,  2.24582106e-01,\n",
       "          8.72404218e-03, -1.30605278e-01, -2.01561143e-01,\n",
       "          2.57491632e-12,  2.61389439e-01,  1.22227841e-01,\n",
       "          9.44556001e-02, -1.69644455e-01,  1.93342563e-01,\n",
       "          6.10554970e-02, -2.55560813e-03,  2.10795126e-01,\n",
       "         -2.13845058e-02, -4.20397207e-03, -1.75157732e-01,\n",
       "         -1.71554529e-03, -9.23864335e-02, -1.96495874e-01,\n",
       "         -1.16482347e-01],\n",
       "        [-2.21017989e-01, -9.66311587e-02,  2.33716485e-02,\n",
       "         -1.52260741e-04,  4.00748989e-02,  1.59832997e-01,\n",
       "          1.01786513e-01, -1.99769379e-01, -5.16370065e-03,\n",
       "          1.69567583e-01,  1.23976165e-01,  9.88107465e-02,\n",
       "         -1.56146976e-01, -1.28918237e-03, -1.73678658e-01,\n",
       "          1.44801952e-01,  1.75183286e-01,  9.55460356e-02,\n",
       "          9.59178430e-02, -6.50121401e-12,  1.84806943e-01,\n",
       "          2.28951009e-01, -1.52361207e-01,  4.13415102e-02,\n",
       "         -2.48945070e-03, -8.78749591e-02,  2.08741328e-01,\n",
       "         -1.94261277e-01, -6.24912770e-02,  2.05311854e-01,\n",
       "          1.57842109e-02,  6.82437775e-02, -5.91451316e-02,\n",
       "          1.94224382e-01,  2.55404955e-01, -2.02368963e-01,\n",
       "         -3.96481728e-08, -1.71675741e-01,  7.52994116e-02,\n",
       "         -1.55462606e-01, -1.74333320e-01, -5.03014098e-03,\n",
       "          4.85622760e-03, -1.99671686e-01,  2.10716909e-01,\n",
       "          6.94150197e-02,  1.82511919e-01,  1.80731827e-01,\n",
       "          2.03879142e-01, -7.73664319e-05, -2.48620847e-01,\n",
       "         -1.73908497e-01, -1.67770706e-01,  1.92060831e-02,\n",
       "          1.43299862e-01,  1.28139347e-02, -9.66643833e-02,\n",
       "         -1.60423041e-02, -1.72659235e-03, -3.63463363e-01,\n",
       "         -1.40305764e-02,  9.34889455e-02, -1.21812276e-01,\n",
       "         -4.11509289e-02, -1.58971463e-01,  1.43130321e-01,\n",
       "          3.49085776e-02, -7.15158503e-02,  1.28020809e-01,\n",
       "          1.72846963e-01, -2.49862134e-01, -1.65183297e-02,\n",
       "         -1.58513598e-03, -1.37030956e-01, -1.74689607e-02,\n",
       "          1.29056384e-01,  1.72620851e-01, -2.16916885e-02,\n",
       "         -7.76095232e-02, -1.00592832e-02,  2.42921748e-01,\n",
       "         -1.10703445e-01,  2.37134765e-02,  7.32786879e-02,\n",
       "          3.25977280e-03, -5.72724525e-02, -1.05043252e-01,\n",
       "         -2.83134960e-02,  4.19436616e-02,  2.68169295e-01,\n",
       "         -5.43996226e-02,  2.86495822e-05,  2.19813797e-01,\n",
       "         -3.06228580e-01, -4.11591002e-02,  1.16424646e-01,\n",
       "         -1.02351687e-08,  1.82829095e-01, -2.08285422e-01,\n",
       "          5.88228883e-02],\n",
       "        [-2.46659924e-02, -2.06015379e-01, -8.00783761e-02,\n",
       "         -4.70706654e-03,  2.10843671e-01, -2.36106940e-01,\n",
       "         -5.46739545e-02, -1.47704852e-01,  2.11454378e-01,\n",
       "          4.51467649e-02,  1.02208510e-01,  1.12640811e-01,\n",
       "         -1.41814988e-01, -1.37860872e-02,  9.51406807e-02,\n",
       "          3.68330538e-02,  1.38658830e-01, -5.52464313e-02,\n",
       "          2.18836153e-01, -3.56003511e-07,  1.76669931e-01,\n",
       "         -1.58982403e-01,  8.08932758e-03, -8.05141190e-02,\n",
       "         -1.32897334e-12, -8.31725013e-03, -1.48113259e-01,\n",
       "          8.47092147e-02, -1.52024471e-03,  2.09257365e-01,\n",
       "         -9.86053964e-02,  1.72440134e-02,  2.11879346e-01,\n",
       "          1.12216101e-01, -1.21263938e-01,  2.04221692e-01,\n",
       "         -1.32598512e-03,  3.42644407e-02, -1.69768733e-01,\n",
       "         -1.40551309e-01,  1.32018652e-01, -2.06622835e-02,\n",
       "          8.06387402e-02,  3.06469565e-02, -2.13112000e-01,\n",
       "          2.16387283e-01,  3.45685224e-02,  5.44260661e-02,\n",
       "         -8.30241398e-02, -1.36852567e-03, -4.24228694e-02,\n",
       "          5.65083722e-02, -4.73002323e-02,  4.13383284e-02,\n",
       "          1.28292909e-01, -2.19715569e-02, -2.26881822e-01,\n",
       "         -1.67286589e-01, -1.11216179e-05,  1.55402550e-01,\n",
       "         -1.31412754e-02, -8.85979490e-02,  1.67880402e-01,\n",
       "         -3.80723799e-02,  1.76179122e-02,  8.03344685e-02,\n",
       "         -6.28573826e-02, -6.35077576e-02, -1.05539142e-01,\n",
       "         -2.15186782e-01,  1.21824754e-01,  2.38966939e-01,\n",
       "         -1.02779017e-04,  1.01284266e-01, -1.83156050e-02,\n",
       "          6.63605567e-02, -1.64958535e-02, -3.91784658e-02,\n",
       "          1.16248016e-01, -2.10120821e-02,  2.23079648e-01,\n",
       "         -8.79408279e-02, -6.75473385e-02,  2.05833628e-01,\n",
       "          1.23975759e-03, -2.63876987e-01,  7.44375684e-02,\n",
       "          7.90367969e-02, -4.82180230e-02,  3.17144935e-01,\n",
       "          1.44403398e-01, -2.89861359e-09,  2.10338727e-01,\n",
       "          3.65944600e-02,  1.00180304e-01, -2.29983672e-01,\n",
       "          1.49311618e-04, -1.92523373e-01,  2.36850757e-01,\n",
       "         -1.02336892e-01]]),\n",
       " array([[ 9.51439785e-02],\n",
       "        [-2.40272914e-01],\n",
       "        [ 2.00472555e-01],\n",
       "        [ 1.16077523e-07],\n",
       "        [-1.93064480e-01],\n",
       "        [-6.41455735e-02],\n",
       "        [ 5.27346688e-02],\n",
       "        [-2.12028818e-01],\n",
       "        [-2.59154191e-01],\n",
       "        [ 1.39997940e-01],\n",
       "        [ 9.94258422e-02],\n",
       "        [ 1.41819788e-01],\n",
       "        [-2.56581798e-01],\n",
       "        [-1.35442009e-02],\n",
       "        [ 5.86070282e-02],\n",
       "        [ 2.20414123e-01],\n",
       "        [-1.14702662e-01],\n",
       "        [ 1.64888900e-01],\n",
       "        [ 6.86714560e-02],\n",
       "        [-1.44583007e-12],\n",
       "        [-4.94404169e-02],\n",
       "        [-1.13981729e-01],\n",
       "        [ 2.19146180e-01],\n",
       "        [ 1.20659887e-01],\n",
       "        [-2.28811325e-08],\n",
       "        [-2.42804409e-01],\n",
       "        [-1.63148534e-01],\n",
       "        [-2.30640277e-01],\n",
       "        [ 1.36173386e-04],\n",
       "        [-1.06514651e-01],\n",
       "        [ 1.05148919e-01],\n",
       "        [-2.30162783e-01],\n",
       "        [ 1.47943472e-01],\n",
       "        [ 1.90472444e-01],\n",
       "        [-1.63324894e-01],\n",
       "        [-2.42315759e-01],\n",
       "        [-2.76174859e-13],\n",
       "        [-1.02980248e-01],\n",
       "        [-1.01018548e-01],\n",
       "        [ 7.35304766e-02],\n",
       "        [ 4.88601624e-02],\n",
       "        [-1.01257527e-02],\n",
       "        [ 2.11789561e-02],\n",
       "        [ 1.87919713e-01],\n",
       "        [ 1.50660946e-01],\n",
       "        [ 2.13486963e-01],\n",
       "        [-2.18966765e-01],\n",
       "        [-2.51430116e-01],\n",
       "        [ 1.26384915e-01],\n",
       "        [ 5.18221922e-03],\n",
       "        [ 1.85656267e-01],\n",
       "        [-3.37497113e-02],\n",
       "        [ 8.39826888e-02],\n",
       "        [-2.37213598e-01],\n",
       "        [-2.04405501e-01],\n",
       "        [-2.00058731e-02],\n",
       "        [-1.89077543e-02],\n",
       "        [ 1.61981496e-01],\n",
       "        [ 4.89314751e-04],\n",
       "        [ 9.20267313e-02],\n",
       "        [ 1.09976156e-02],\n",
       "        [ 2.16795593e-01],\n",
       "        [ 6.29303817e-02],\n",
       "        [-1.52040766e-01],\n",
       "        [-2.01489976e-01],\n",
       "        [ 1.27154730e-01],\n",
       "        [ 8.33662330e-02],\n",
       "        [-2.07582508e-01],\n",
       "        [ 2.20836721e-01],\n",
       "        [-6.74606350e-02],\n",
       "        [ 2.10253780e-01],\n",
       "        [-1.18479703e-01],\n",
       "        [-1.46441340e-14],\n",
       "        [ 1.53185021e-01],\n",
       "        [ 6.79039320e-03],\n",
       "        [-1.94743975e-01],\n",
       "        [-2.52049169e-02],\n",
       "        [ 1.87436929e-01],\n",
       "        [ 1.54911666e-01],\n",
       "        [-1.30354726e-02],\n",
       "        [-8.39606218e-02],\n",
       "        [-1.90578818e-01],\n",
       "        [-2.02672141e-01],\n",
       "        [ 1.74625522e-01],\n",
       "        [ 2.86655339e-14],\n",
       "        [ 5.05714954e-01],\n",
       "        [ 4.93695812e-03],\n",
       "        [ 2.20155706e-01],\n",
       "        [ 1.55076530e-01],\n",
       "        [ 1.93873599e-01],\n",
       "        [ 3.63925316e-02],\n",
       "        [-4.83229708e-03],\n",
       "        [ 2.36776814e-01],\n",
       "        [-5.90234582e-02],\n",
       "        [-4.98174184e-01],\n",
       "        [-5.16822422e-02],\n",
       "        [ 3.36270793e-03],\n",
       "        [-3.64463341e-01],\n",
       "        [-1.69932728e-02],\n",
       "        [ 8.81230845e-02]])]"
      ]
     },
     "execution_count": 73,
     "metadata": {},
     "output_type": "execute_result"
    }
   ],
   "source": [
    "mlpc_mpdel.coefs_  #sinir ağlarında kullanılan kat sayılar"
   ]
  },
  {
   "cell_type": "code",
   "execution_count": 74,
   "metadata": {
    "collapsed": true,
    "jupyter": {
     "outputs_hidden": true
    }
   },
   "outputs": [
    {
     "data": {
      "text/plain": [
       "\u001b[1;31mType:\u001b[0m        MLPClassifier\n",
       "\u001b[1;31mString form:\u001b[0m\n",
       "MLPClassifier(activation='relu', alpha=0.0001, batch_size='auto', beta_1=0.9,\n",
       "           beta_ <...>               tol=0.0001, validation_fraction=0.1, verbose=False,\n",
       "           warm_start=False)\n",
       "\u001b[1;31mFile:\u001b[0m        c:\\users\\onur\\anaconda3\\envs\\test_conda_env\\lib\\site-packages\\sklearn\\neural_network\\_multilayer_perceptron.py\n",
       "\u001b[1;31mDocstring:\u001b[0m  \n",
       "Multi-layer Perceptron classifier.\n",
       "\n",
       "This model optimizes the log-loss function using LBFGS or stochastic\n",
       "gradient descent.\n",
       "\n",
       ".. versionadded:: 0.18\n",
       "\n",
       "Parameters\n",
       "----------\n",
       "hidden_layer_sizes : tuple, length = n_layers - 2, default=(100,)\n",
       "    The ith element represents the number of neurons in the ith\n",
       "    hidden layer.\n",
       "\n",
       "activation : {'identity', 'logistic', 'tanh', 'relu'}, default='relu'\n",
       "    Activation function for the hidden layer.\n",
       "\n",
       "    - 'identity', no-op activation, useful to implement linear bottleneck,\n",
       "      returns f(x) = x\n",
       "\n",
       "    - 'logistic', the logistic sigmoid function,\n",
       "      returns f(x) = 1 / (1 + exp(-x)).\n",
       "\n",
       "    - 'tanh', the hyperbolic tan function,\n",
       "      returns f(x) = tanh(x).\n",
       "\n",
       "    - 'relu', the rectified linear unit function,\n",
       "      returns f(x) = max(0, x)\n",
       "\n",
       "solver : {'lbfgs', 'sgd', 'adam'}, default='adam'\n",
       "    The solver for weight optimization.\n",
       "\n",
       "    - 'lbfgs' is an optimizer in the family of quasi-Newton methods.\n",
       "\n",
       "    - 'sgd' refers to stochastic gradient descent.\n",
       "\n",
       "    - 'adam' refers to a stochastic gradient-based optimizer proposed\n",
       "      by Kingma, Diederik, and Jimmy Ba\n",
       "\n",
       "    Note: The default solver 'adam' works pretty well on relatively\n",
       "    large datasets (with thousands of training samples or more) in terms of\n",
       "    both training time and validation score.\n",
       "    For small datasets, however, 'lbfgs' can converge faster and perform\n",
       "    better.\n",
       "\n",
       "alpha : float, default=0.0001\n",
       "    L2 penalty (regularization term) parameter.\n",
       "\n",
       "batch_size : int, default='auto'\n",
       "    Size of minibatches for stochastic optimizers.\n",
       "    If the solver is 'lbfgs', the classifier will not use minibatch.\n",
       "    When set to \"auto\", `batch_size=min(200, n_samples)`\n",
       "\n",
       "learning_rate : {'constant', 'invscaling', 'adaptive'}, default='constant'\n",
       "    Learning rate schedule for weight updates.\n",
       "\n",
       "    - 'constant' is a constant learning rate given by\n",
       "      'learning_rate_init'.\n",
       "\n",
       "    - 'invscaling' gradually decreases the learning rate at each\n",
       "      time step 't' using an inverse scaling exponent of 'power_t'.\n",
       "      effective_learning_rate = learning_rate_init / pow(t, power_t)\n",
       "\n",
       "    - 'adaptive' keeps the learning rate constant to\n",
       "      'learning_rate_init' as long as training loss keeps decreasing.\n",
       "      Each time two consecutive epochs fail to decrease training loss by at\n",
       "      least tol, or fail to increase validation score by at least tol if\n",
       "      'early_stopping' is on, the current learning rate is divided by 5.\n",
       "\n",
       "    Only used when ``solver='sgd'``.\n",
       "\n",
       "learning_rate_init : double, default=0.001\n",
       "    The initial learning rate used. It controls the step-size\n",
       "    in updating the weights. Only used when solver='sgd' or 'adam'.\n",
       "\n",
       "power_t : double, default=0.5\n",
       "    The exponent for inverse scaling learning rate.\n",
       "    It is used in updating effective learning rate when the learning_rate\n",
       "    is set to 'invscaling'. Only used when solver='sgd'.\n",
       "\n",
       "max_iter : int, default=200\n",
       "    Maximum number of iterations. The solver iterates until convergence\n",
       "    (determined by 'tol') or this number of iterations. For stochastic\n",
       "    solvers ('sgd', 'adam'), note that this determines the number of epochs\n",
       "    (how many times each data point will be used), not the number of\n",
       "    gradient steps.\n",
       "\n",
       "shuffle : bool, default=True\n",
       "    Whether to shuffle samples in each iteration. Only used when\n",
       "    solver='sgd' or 'adam'.\n",
       "\n",
       "random_state : int, RandomState instance or None, default=None\n",
       "    If int, random_state is the seed used by the random number generator;\n",
       "    If RandomState instance, random_state is the random number generator;\n",
       "    If None, the random number generator is the RandomState instance used\n",
       "    by `np.random`.\n",
       "\n",
       "tol : float, default=1e-4\n",
       "    Tolerance for the optimization. When the loss or score is not improving\n",
       "    by at least ``tol`` for ``n_iter_no_change`` consecutive iterations,\n",
       "    unless ``learning_rate`` is set to 'adaptive', convergence is\n",
       "    considered to be reached and training stops.\n",
       "\n",
       "verbose : bool, default=False\n",
       "    Whether to print progress messages to stdout.\n",
       "\n",
       "warm_start : bool, default=False\n",
       "    When set to True, reuse the solution of the previous\n",
       "    call to fit as initialization, otherwise, just erase the\n",
       "    previous solution. See :term:`the Glossary <warm_start>`.\n",
       "\n",
       "momentum : float, default=0.9\n",
       "    Momentum for gradient descent update. Should be between 0 and 1. Only\n",
       "    used when solver='sgd'.\n",
       "\n",
       "nesterovs_momentum : boolean, default=True\n",
       "    Whether to use Nesterov's momentum. Only used when solver='sgd' and\n",
       "    momentum > 0.\n",
       "\n",
       "early_stopping : bool, default=False\n",
       "    Whether to use early stopping to terminate training when validation\n",
       "    score is not improving. If set to true, it will automatically set\n",
       "    aside 10% of training data as validation and terminate training when\n",
       "    validation score is not improving by at least tol for\n",
       "    ``n_iter_no_change`` consecutive epochs. The split is stratified,\n",
       "    except in a multilabel setting.\n",
       "    Only effective when solver='sgd' or 'adam'\n",
       "\n",
       "validation_fraction : float, default=0.1\n",
       "    The proportion of training data to set aside as validation set for\n",
       "    early stopping. Must be between 0 and 1.\n",
       "    Only used if early_stopping is True\n",
       "\n",
       "beta_1 : float, default=0.9\n",
       "    Exponential decay rate for estimates of first moment vector in adam,\n",
       "    should be in [0, 1). Only used when solver='adam'\n",
       "\n",
       "beta_2 : float, default=0.999\n",
       "    Exponential decay rate for estimates of second moment vector in adam,\n",
       "    should be in [0, 1). Only used when solver='adam'\n",
       "\n",
       "epsilon : float, default=1e-8\n",
       "    Value for numerical stability in adam. Only used when solver='adam'\n",
       "\n",
       "n_iter_no_change : int, default=10\n",
       "    Maximum number of epochs to not meet ``tol`` improvement.\n",
       "    Only effective when solver='sgd' or 'adam'\n",
       "\n",
       "    .. versionadded:: 0.20\n",
       "\n",
       "max_fun : int, default=15000\n",
       "    Only used when solver='lbfgs'. Maximum number of loss function calls.\n",
       "    The solver iterates until convergence (determined by 'tol'), number\n",
       "    of iterations reaches max_iter, or this number of loss function calls.\n",
       "    Note that number of loss function calls will be greater than or equal\n",
       "    to the number of iterations for the `MLPClassifier`.\n",
       "\n",
       "    .. versionadded:: 0.22\n",
       "\n",
       "Attributes\n",
       "----------\n",
       "classes_ : ndarray or list of ndarray of shape (n_classes,)\n",
       "    Class labels for each output.\n",
       "\n",
       "loss_ : float\n",
       "    The current loss computed with the loss function.\n",
       "\n",
       "coefs_ : list, length n_layers - 1\n",
       "    The ith element in the list represents the weight matrix corresponding\n",
       "    to layer i.\n",
       "\n",
       "intercepts_ : list, length n_layers - 1\n",
       "    The ith element in the list represents the bias vector corresponding to\n",
       "    layer i + 1.\n",
       "\n",
       "n_iter_ : int,\n",
       "    The number of iterations the solver has ran.\n",
       "\n",
       "n_layers_ : int\n",
       "    Number of layers.\n",
       "\n",
       "n_outputs_ : int\n",
       "    Number of outputs.\n",
       "\n",
       "out_activation_ : string\n",
       "    Name of the output activation function.\n",
       "\n",
       "Notes\n",
       "-----\n",
       "MLPClassifier trains iteratively since at each time step\n",
       "the partial derivatives of the loss function with respect to the model\n",
       "parameters are computed to update the parameters.\n",
       "\n",
       "It can also have a regularization term added to the loss function\n",
       "that shrinks model parameters to prevent overfitting.\n",
       "\n",
       "This implementation works with data represented as dense numpy arrays or\n",
       "sparse scipy arrays of floating point values.\n",
       "\n",
       "References\n",
       "----------\n",
       "Hinton, Geoffrey E.\n",
       "    \"Connectionist learning procedures.\" Artificial intelligence 40.1\n",
       "    (1989): 185-234.\n",
       "\n",
       "Glorot, Xavier, and Yoshua Bengio. \"Understanding the difficulty of\n",
       "    training deep feedforward neural networks.\" International Conference\n",
       "    on Artificial Intelligence and Statistics. 2010.\n",
       "\n",
       "He, Kaiming, et al. \"Delving deep into rectifiers: Surpassing human-level\n",
       "    performance on imagenet classification.\" arXiv preprint\n",
       "    arXiv:1502.01852 (2015).\n",
       "\n",
       "Kingma, Diederik, and Jimmy Ba. \"Adam: A method for stochastic\n",
       "    optimization.\" arXiv preprint arXiv:1412.6980 (2014).\n"
      ]
     },
     "metadata": {},
     "output_type": "display_data"
    }
   ],
   "source": [
    "?mlpc_mpdel"
   ]
  },
  {
   "cell_type": "code",
   "execution_count": 75,
   "metadata": {},
   "outputs": [],
   "source": [
    "y_pred=mlpc_mpdel.predict(X_test)"
   ]
  },
  {
   "cell_type": "code",
   "execution_count": 76,
   "metadata": {},
   "outputs": [
    {
     "data": {
      "text/plain": [
       "0.7056277056277056"
      ]
     },
     "execution_count": 76,
     "metadata": {},
     "output_type": "execute_result"
    }
   ],
   "source": [
    "accuracy_score(y_test,y_pred)"
   ]
  },
  {
   "cell_type": "code",
   "execution_count": 77,
   "metadata": {},
   "outputs": [
    {
     "data": {
      "text/plain": [
       "MLPClassifier(activation='relu', alpha=0.0001, batch_size='auto', beta_1=0.9,\n",
       "              beta_2=0.999, early_stopping=False, epsilon=1e-08,\n",
       "              hidden_layer_sizes=(100,), learning_rate='constant',\n",
       "              learning_rate_init=0.001, max_fun=15000, max_iter=200,\n",
       "              momentum=0.9, n_iter_no_change=10, nesterovs_momentum=True,\n",
       "              power_t=0.5, random_state=None, shuffle=True, solver='adam',\n",
       "              tol=0.0001, validation_fraction=0.1, verbose=False,\n",
       "              warm_start=False)"
      ]
     },
     "execution_count": 77,
     "metadata": {},
     "output_type": "execute_result"
    }
   ],
   "source": [
    "mlpc_mpdel"
   ]
  },
  {
   "cell_type": "markdown",
   "metadata": {},
   "source": [
    "# model tuning"
   ]
  },
  {
   "cell_type": "code",
   "execution_count": 78,
   "metadata": {},
   "outputs": [],
   "source": [
    "mlpc_params={\"alpha\":[1,5,0.1,0.01,0.03,0.005,0.0001],\n",
    "            \"hidden_layer_sizes\":[(10,10),(100,100,100),(100,100),(3,5)]}"
   ]
  },
  {
   "cell_type": "code",
   "execution_count": 79,
   "metadata": {},
   "outputs": [],
   "source": [
    "mlpc=MLPClassifier(solver='lbfgs')"
   ]
  },
  {
   "cell_type": "code",
   "execution_count": 80,
   "metadata": {},
   "outputs": [
    {
     "name": "stdout",
     "output_type": "stream",
     "text": [
      "Fitting 10 folds for each of 28 candidates, totalling 280 fits\n"
     ]
    },
    {
     "name": "stderr",
     "output_type": "stream",
     "text": [
      "[Parallel(n_jobs=-1)]: Using backend LokyBackend with 4 concurrent workers.\n",
      "[Parallel(n_jobs=-1)]: Done  83 tasks      | elapsed:    7.9s\n",
      "[Parallel(n_jobs=-1)]: Done 220 tasks      | elapsed:   26.3s\n",
      "[Parallel(n_jobs=-1)]: Done 273 out of 280 | elapsed:   31.6s remaining:    0.7s\n",
      "[Parallel(n_jobs=-1)]: Done 280 out of 280 | elapsed:   33.5s finished\n"
     ]
    }
   ],
   "source": [
    "mlpc_cv_model=GridSearchCV(mlpc,mlpc_params,cv=10,n_jobs=-1,verbose=2).fit(X_train,y_train)"
   ]
  },
  {
   "cell_type": "code",
   "execution_count": 81,
   "metadata": {},
   "outputs": [
    {
     "data": {
      "text/plain": [
       "GridSearchCV(cv=10, error_score=nan,\n",
       "             estimator=MLPClassifier(activation='relu', alpha=0.0001,\n",
       "                                     batch_size='auto', beta_1=0.9,\n",
       "                                     beta_2=0.999, early_stopping=False,\n",
       "                                     epsilon=1e-08, hidden_layer_sizes=(100,),\n",
       "                                     learning_rate='constant',\n",
       "                                     learning_rate_init=0.001, max_fun=15000,\n",
       "                                     max_iter=200, momentum=0.9,\n",
       "                                     n_iter_no_change=10,\n",
       "                                     nesterovs_momentum=True, power_t=0.5,\n",
       "                                     random_state=None, shuffle=True,\n",
       "                                     solver='lbfgs', tol=0.0001,\n",
       "                                     validation_fraction=0.1, verbose=False,\n",
       "                                     warm_start=False),\n",
       "             iid='deprecated', n_jobs=-1,\n",
       "             param_grid={'alpha': [1, 5, 0.1, 0.01, 0.03, 0.005, 0.0001],\n",
       "                         'hidden_layer_sizes': [(10, 10), (100, 100, 100),\n",
       "                                                (100, 100), (3, 5)]},\n",
       "             pre_dispatch='2*n_jobs', refit=True, return_train_score=False,\n",
       "             scoring=None, verbose=2)"
      ]
     },
     "execution_count": 81,
     "metadata": {},
     "output_type": "execute_result"
    }
   ],
   "source": [
    "mlpc_cv_model"
   ]
  },
  {
   "cell_type": "code",
   "execution_count": 82,
   "metadata": {},
   "outputs": [
    {
     "data": {
      "text/plain": [
       "{'alpha': 1, 'hidden_layer_sizes': (100, 100, 100)}"
      ]
     },
     "execution_count": 82,
     "metadata": {},
     "output_type": "execute_result"
    }
   ],
   "source": [
    "mlpc_cv_model.best_params_"
   ]
  },
  {
   "cell_type": "code",
   "execution_count": 83,
   "metadata": {},
   "outputs": [],
   "source": [
    "#final modeli"
   ]
  },
  {
   "cell_type": "code",
   "execution_count": 84,
   "metadata": {},
   "outputs": [],
   "source": [
    "mlpc_tuned=MLPClassifier(alpha=1,hidden_layer_sizes=(3,5),solver='lbfgs').fit(X_train,y_train)"
   ]
  },
  {
   "cell_type": "code",
   "execution_count": 85,
   "metadata": {},
   "outputs": [],
   "source": [
    "y_pred=mlpc_tuned.predict(X_test)"
   ]
  },
  {
   "cell_type": "code",
   "execution_count": 86,
   "metadata": {},
   "outputs": [
    {
     "data": {
      "text/plain": [
       "0.6536796536796536"
      ]
     },
     "execution_count": 86,
     "metadata": {},
     "output_type": "execute_result"
    }
   ],
   "source": [
    "accuracy_score(y_test,y_pred)"
   ]
  },
  {
   "cell_type": "code",
   "execution_count": 87,
   "metadata": {},
   "outputs": [],
   "source": [
    "#aktivasyon fonksiyonunu logistic olarak denicez bir de. sınıflandırılmada kullanılması gereken budur"
   ]
  },
  {
   "cell_type": "code",
   "execution_count": 88,
   "metadata": {},
   "outputs": [],
   "source": [
    "mlpc_params={\"alpha\":[1,5,0.1,0.01,0.03,0.005,0.0001],\n",
    "            \"hidden_layer_sizes\":[(10,10),(100,100,100),(100,100),(3,5)]}"
   ]
  },
  {
   "cell_type": "code",
   "execution_count": 89,
   "metadata": {},
   "outputs": [],
   "source": [
    "mlpc=MLPClassifier(solver='lbfgs',activation='logistic')"
   ]
  },
  {
   "cell_type": "code",
   "execution_count": 90,
   "metadata": {},
   "outputs": [
    {
     "name": "stdout",
     "output_type": "stream",
     "text": [
      "Fitting 10 folds for each of 28 candidates, totalling 280 fits\n"
     ]
    },
    {
     "name": "stderr",
     "output_type": "stream",
     "text": [
      "[Parallel(n_jobs=-1)]: Using backend LokyBackend with 4 concurrent workers.\n",
      "[Parallel(n_jobs=-1)]: Done  33 tasks      | elapsed:   10.4s\n",
      "[Parallel(n_jobs=-1)]: Done 154 tasks      | elapsed:  1.0min\n",
      "[Parallel(n_jobs=-1)]: Done 280 out of 280 | elapsed:  2.0min finished\n",
      "C:\\Users\\Onur\\anaconda3\\envs\\test_conda_env\\lib\\site-packages\\sklearn\\neural_network\\_multilayer_perceptron.py:470: ConvergenceWarning: lbfgs failed to converge (status=1):\n",
      "STOP: TOTAL NO. of ITERATIONS REACHED LIMIT.\n",
      "\n",
      "Increase the number of iterations (max_iter) or scale the data as shown in:\n",
      "    https://scikit-learn.org/stable/modules/preprocessing.html\n",
      "  self.n_iter_ = _check_optimize_result(\"lbfgs\", opt_res, self.max_iter)\n"
     ]
    }
   ],
   "source": [
    "mlpc_cv_model=GridSearchCV(mlpc,mlpc_params,cv=10,n_jobs=-1,verbose=2).fit(X_train,y_train)"
   ]
  },
  {
   "cell_type": "code",
   "execution_count": 91,
   "metadata": {},
   "outputs": [
    {
     "data": {
      "text/plain": [
       "GridSearchCV(cv=10, error_score=nan,\n",
       "             estimator=MLPClassifier(activation='logistic', alpha=0.0001,\n",
       "                                     batch_size='auto', beta_1=0.9,\n",
       "                                     beta_2=0.999, early_stopping=False,\n",
       "                                     epsilon=1e-08, hidden_layer_sizes=(100,),\n",
       "                                     learning_rate='constant',\n",
       "                                     learning_rate_init=0.001, max_fun=15000,\n",
       "                                     max_iter=200, momentum=0.9,\n",
       "                                     n_iter_no_change=10,\n",
       "                                     nesterovs_momentum=True, power_t=0.5,\n",
       "                                     random_state=None, shuffle=True,\n",
       "                                     solver='lbfgs', tol=0.0001,\n",
       "                                     validation_fraction=0.1, verbose=False,\n",
       "                                     warm_start=False),\n",
       "             iid='deprecated', n_jobs=-1,\n",
       "             param_grid={'alpha': [1, 5, 0.1, 0.01, 0.03, 0.005, 0.0001],\n",
       "                         'hidden_layer_sizes': [(10, 10), (100, 100, 100),\n",
       "                                                (100, 100), (3, 5)]},\n",
       "             pre_dispatch='2*n_jobs', refit=True, return_train_score=False,\n",
       "             scoring=None, verbose=2)"
      ]
     },
     "execution_count": 91,
     "metadata": {},
     "output_type": "execute_result"
    }
   ],
   "source": [
    "mlpc_cv_model"
   ]
  },
  {
   "cell_type": "code",
   "execution_count": 92,
   "metadata": {},
   "outputs": [
    {
     "data": {
      "text/plain": [
       "{'alpha': 5, 'hidden_layer_sizes': (100, 100)}"
      ]
     },
     "execution_count": 92,
     "metadata": {},
     "output_type": "execute_result"
    }
   ],
   "source": [
    "mlpc_cv_model.best_params_"
   ]
  },
  {
   "cell_type": "code",
   "execution_count": 93,
   "metadata": {},
   "outputs": [],
   "source": [
    "#final modeli"
   ]
  },
  {
   "cell_type": "code",
   "execution_count": 94,
   "metadata": {},
   "outputs": [
    {
     "name": "stderr",
     "output_type": "stream",
     "text": [
      "C:\\Users\\Onur\\anaconda3\\envs\\test_conda_env\\lib\\site-packages\\sklearn\\neural_network\\_multilayer_perceptron.py:470: ConvergenceWarning: lbfgs failed to converge (status=1):\n",
      "STOP: TOTAL NO. of ITERATIONS REACHED LIMIT.\n",
      "\n",
      "Increase the number of iterations (max_iter) or scale the data as shown in:\n",
      "    https://scikit-learn.org/stable/modules/preprocessing.html\n",
      "  self.n_iter_ = _check_optimize_result(\"lbfgs\", opt_res, self.max_iter)\n"
     ]
    }
   ],
   "source": [
    "mlpc_tuned=MLPClassifier(alpha=5,hidden_layer_sizes=(100,100),solver='lbfgs',activation='logistic').fit(X_train,y_train)"
   ]
  },
  {
   "cell_type": "code",
   "execution_count": 95,
   "metadata": {},
   "outputs": [],
   "source": [
    "y_pred=mlpc_tuned.predict(X_test)"
   ]
  },
  {
   "cell_type": "code",
   "execution_count": 96,
   "metadata": {},
   "outputs": [
    {
     "data": {
      "text/plain": [
       "0.7229437229437229"
      ]
     },
     "execution_count": 96,
     "metadata": {},
     "output_type": "execute_result"
    }
   ],
   "source": [
    "accuracy_score(y_test,y_pred)"
   ]
  },
  {
   "cell_type": "markdown",
   "metadata": {},
   "source": [
    "# Değişkenlerin Dönüştürülmesi"
   ]
  },
  {
   "cell_type": "code",
   "execution_count": 97,
   "metadata": {},
   "outputs": [],
   "source": [
    "#standaartlaştırma işlemi"
   ]
  },
  {
   "cell_type": "code",
   "execution_count": 98,
   "metadata": {},
   "outputs": [],
   "source": [
    "scaler=StandardScaler()"
   ]
  },
  {
   "cell_type": "code",
   "execution_count": 99,
   "metadata": {},
   "outputs": [],
   "source": [
    "scaler.fit(X_train)\n",
    "X_train=scaler.transform(X_train)"
   ]
  },
  {
   "cell_type": "code",
   "execution_count": 100,
   "metadata": {},
   "outputs": [],
   "source": [
    "scaler.fit(X_test)\n",
    "X_test=scaler.transform(X_test)"
   ]
  },
  {
   "cell_type": "code",
   "execution_count": 101,
   "metadata": {},
   "outputs": [],
   "source": [
    "mlpc_params={\"alpha\":[1,5,0.1,0.01,0.03,0.005,0.0001],\n",
    "            \"hidden_layer_sizes\":[(10,10),(100,100,100),(100,100),(3,5)]}"
   ]
  },
  {
   "cell_type": "code",
   "execution_count": 102,
   "metadata": {},
   "outputs": [],
   "source": [
    "mlpc=MLPClassifier(solver='lbfgs',activation='logistic')"
   ]
  },
  {
   "cell_type": "code",
   "execution_count": 103,
   "metadata": {},
   "outputs": [
    {
     "name": "stdout",
     "output_type": "stream",
     "text": [
      "Fitting 10 folds for each of 28 candidates, totalling 280 fits\n"
     ]
    },
    {
     "name": "stderr",
     "output_type": "stream",
     "text": [
      "[Parallel(n_jobs=-1)]: Using backend LokyBackend with 4 concurrent workers.\n",
      "[Parallel(n_jobs=-1)]: Done  33 tasks      | elapsed:    9.7s\n",
      "[Parallel(n_jobs=-1)]: Done 154 tasks      | elapsed:   58.0s\n",
      "[Parallel(n_jobs=-1)]: Done 280 out of 280 | elapsed:  2.0min finished\n"
     ]
    }
   ],
   "source": [
    "mlpc_cv_model=GridSearchCV(mlpc,mlpc_params,cv=10,n_jobs=-1,verbose=2).fit(X_train,y_train)"
   ]
  },
  {
   "cell_type": "code",
   "execution_count": 104,
   "metadata": {},
   "outputs": [
    {
     "data": {
      "text/plain": [
       "GridSearchCV(cv=10, error_score=nan,\n",
       "             estimator=MLPClassifier(activation='logistic', alpha=0.0001,\n",
       "                                     batch_size='auto', beta_1=0.9,\n",
       "                                     beta_2=0.999, early_stopping=False,\n",
       "                                     epsilon=1e-08, hidden_layer_sizes=(100,),\n",
       "                                     learning_rate='constant',\n",
       "                                     learning_rate_init=0.001, max_fun=15000,\n",
       "                                     max_iter=200, momentum=0.9,\n",
       "                                     n_iter_no_change=10,\n",
       "                                     nesterovs_momentum=True, power_t=0.5,\n",
       "                                     random_state=None, shuffle=True,\n",
       "                                     solver='lbfgs', tol=0.0001,\n",
       "                                     validation_fraction=0.1, verbose=False,\n",
       "                                     warm_start=False),\n",
       "             iid='deprecated', n_jobs=-1,\n",
       "             param_grid={'alpha': [1, 5, 0.1, 0.01, 0.03, 0.005, 0.0001],\n",
       "                         'hidden_layer_sizes': [(10, 10), (100, 100, 100),\n",
       "                                                (100, 100), (3, 5)]},\n",
       "             pre_dispatch='2*n_jobs', refit=True, return_train_score=False,\n",
       "             scoring=None, verbose=2)"
      ]
     },
     "execution_count": 104,
     "metadata": {},
     "output_type": "execute_result"
    }
   ],
   "source": [
    "mlpc_cv_model"
   ]
  },
  {
   "cell_type": "code",
   "execution_count": 105,
   "metadata": {},
   "outputs": [
    {
     "data": {
      "text/plain": [
       "{'alpha': 0.1, 'hidden_layer_sizes': (3, 5)}"
      ]
     },
     "execution_count": 105,
     "metadata": {},
     "output_type": "execute_result"
    }
   ],
   "source": [
    "mlpc_cv_model.best_params_"
   ]
  },
  {
   "cell_type": "code",
   "execution_count": 106,
   "metadata": {},
   "outputs": [],
   "source": [
    "#final modeli"
   ]
  },
  {
   "cell_type": "code",
   "execution_count": 107,
   "metadata": {},
   "outputs": [],
   "source": [
    "mlpc_tuned=MLPClassifier(alpha=1,hidden_layer_sizes=(3,5),solver='lbfgs',activation='logistic').fit(X_train,y_train)"
   ]
  },
  {
   "cell_type": "code",
   "execution_count": 108,
   "metadata": {},
   "outputs": [],
   "source": [
    "y_pred=mlpc_tuned.predict(X_test)"
   ]
  },
  {
   "cell_type": "code",
   "execution_count": 109,
   "metadata": {},
   "outputs": [
    {
     "data": {
      "text/plain": [
       "0.7532467532467533"
      ]
     },
     "execution_count": 109,
     "metadata": {},
     "output_type": "execute_result"
    }
   ],
   "source": [
    "accuracy_score(y_test,y_pred)"
   ]
  },
  {
   "cell_type": "markdown",
   "metadata": {},
   "source": [
    "# CART"
   ]
  },
  {
   "cell_type": "markdown",
   "metadata": {},
   "source": [
    "# model tahmin"
   ]
  },
  {
   "cell_type": "code",
   "execution_count": 110,
   "metadata": {},
   "outputs": [],
   "source": [
    "cart_model=DecisionTreeClassifier().fit(X_train,y_train)"
   ]
  },
  {
   "cell_type": "code",
   "execution_count": 111,
   "metadata": {},
   "outputs": [
    {
     "data": {
      "text/plain": [
       "DecisionTreeClassifier(ccp_alpha=0.0, class_weight=None, criterion='gini',\n",
       "                       max_depth=None, max_features=None, max_leaf_nodes=None,\n",
       "                       min_impurity_decrease=0.0, min_impurity_split=None,\n",
       "                       min_samples_leaf=1, min_samples_split=2,\n",
       "                       min_weight_fraction_leaf=0.0, presort='deprecated',\n",
       "                       random_state=None, splitter='best')"
      ]
     },
     "execution_count": 111,
     "metadata": {},
     "output_type": "execute_result"
    }
   ],
   "source": [
    "cart_model"
   ]
  },
  {
   "cell_type": "code",
   "execution_count": 112,
   "metadata": {},
   "outputs": [],
   "source": [
    "y_pred=cart_model.predict(X_test)"
   ]
  },
  {
   "cell_type": "code",
   "execution_count": 113,
   "metadata": {},
   "outputs": [
    {
     "data": {
      "text/plain": [
       "0.7402597402597403"
      ]
     },
     "execution_count": 113,
     "metadata": {},
     "output_type": "execute_result"
    }
   ],
   "source": [
    "accuracy_score(y_test,y_pred)"
   ]
  },
  {
   "cell_type": "markdown",
   "metadata": {},
   "source": [
    "# Model Tuning"
   ]
  },
  {
   "cell_type": "code",
   "execution_count": 114,
   "metadata": {},
   "outputs": [],
   "source": [
    "cart=DecisionTreeClassifier()"
   ]
  },
  {
   "cell_type": "code",
   "execution_count": 115,
   "metadata": {},
   "outputs": [],
   "source": [
    "cart_params={'max_depth':[1,3,5,8,10],\n",
    "            'min_samples_split':[2,3,5,10,20,50]}"
   ]
  },
  {
   "cell_type": "code",
   "execution_count": 116,
   "metadata": {},
   "outputs": [
    {
     "name": "stdout",
     "output_type": "stream",
     "text": [
      "Fitting 10 folds for each of 30 candidates, totalling 300 fits\n"
     ]
    },
    {
     "name": "stderr",
     "output_type": "stream",
     "text": [
      "[Parallel(n_jobs=-1)]: Using backend LokyBackend with 4 concurrent workers.\n",
      "[Parallel(n_jobs=-1)]: Done  56 tasks      | elapsed:    0.5s\n",
      "[Parallel(n_jobs=-1)]: Done 300 out of 300 | elapsed:    2.8s finished\n"
     ]
    }
   ],
   "source": [
    "cart_cv_model=GridSearchCV(cart,cart_params,cv=10,n_jobs=-1,verbose=2).fit(X_train,y_train)"
   ]
  },
  {
   "cell_type": "code",
   "execution_count": 117,
   "metadata": {},
   "outputs": [
    {
     "data": {
      "text/plain": [
       "{'max_depth': 5, 'min_samples_split': 20}"
      ]
     },
     "execution_count": 117,
     "metadata": {},
     "output_type": "execute_result"
    }
   ],
   "source": [
    "cart_cv_model.best_params_"
   ]
  },
  {
   "cell_type": "code",
   "execution_count": 118,
   "metadata": {},
   "outputs": [],
   "source": [
    "cart_tuned=DecisionTreeClassifier(max_depth=5,min_samples_split=20).fit(X_train,y_train)"
   ]
  },
  {
   "cell_type": "code",
   "execution_count": 119,
   "metadata": {},
   "outputs": [],
   "source": [
    "y_pred=cart_tuned.predict(X_test)"
   ]
  },
  {
   "cell_type": "code",
   "execution_count": 120,
   "metadata": {},
   "outputs": [
    {
     "data": {
      "text/plain": [
       "0.7532467532467533"
      ]
     },
     "execution_count": 120,
     "metadata": {},
     "output_type": "execute_result"
    }
   ],
   "source": [
    "accuracy_score(y_test,y_pred)"
   ]
  },
  {
   "cell_type": "markdown",
   "metadata": {},
   "source": [
    "# Random Forest"
   ]
  },
  {
   "cell_type": "markdown",
   "metadata": {},
   "source": [
    "# model tahmin"
   ]
  },
  {
   "cell_type": "code",
   "execution_count": 121,
   "metadata": {},
   "outputs": [],
   "source": [
    "rf_model=RandomForestClassifier().fit(X_train,y_train)"
   ]
  },
  {
   "cell_type": "code",
   "execution_count": 122,
   "metadata": {},
   "outputs": [
    {
     "data": {
      "text/plain": [
       "RandomForestClassifier(bootstrap=True, ccp_alpha=0.0, class_weight=None,\n",
       "                       criterion='gini', max_depth=None, max_features='auto',\n",
       "                       max_leaf_nodes=None, max_samples=None,\n",
       "                       min_impurity_decrease=0.0, min_impurity_split=None,\n",
       "                       min_samples_leaf=1, min_samples_split=2,\n",
       "                       min_weight_fraction_leaf=0.0, n_estimators=100,\n",
       "                       n_jobs=None, oob_score=False, random_state=None,\n",
       "                       verbose=0, warm_start=False)"
      ]
     },
     "execution_count": 122,
     "metadata": {},
     "output_type": "execute_result"
    }
   ],
   "source": [
    "rf_model"
   ]
  },
  {
   "cell_type": "code",
   "execution_count": 123,
   "metadata": {},
   "outputs": [],
   "source": [
    "y_pred=rf_model.predict(X_test)"
   ]
  },
  {
   "cell_type": "code",
   "execution_count": 124,
   "metadata": {},
   "outputs": [
    {
     "data": {
      "text/plain": [
       "0.7532467532467533"
      ]
     },
     "execution_count": 124,
     "metadata": {},
     "output_type": "execute_result"
    }
   ],
   "source": [
    "accuracy_score(y_test,y_pred)"
   ]
  },
  {
   "cell_type": "markdown",
   "metadata": {},
   "source": [
    "# MODEL TUNİNG"
   ]
  },
  {
   "cell_type": "code",
   "execution_count": 125,
   "metadata": {},
   "outputs": [],
   "source": [
    "rf=RandomForestClassifier()"
   ]
  },
  {
   "cell_type": "code",
   "execution_count": 126,
   "metadata": {},
   "outputs": [],
   "source": [
    "rf_params={'n_estimators':[100,200,500,1000],    #kullanılacak olan ağaç sayısı\n",
    "          'max_features':[3,5,7,8],                                 #bölünmelerdeki max değişken sayısı\n",
    "          'min_samples_split':[2,5,10,20]}   "
   ]
  },
  {
   "cell_type": "code",
   "execution_count": 127,
   "metadata": {
    "collapsed": true,
    "jupyter": {
     "outputs_hidden": true
    }
   },
   "outputs": [
    {
     "name": "stdout",
     "output_type": "stream",
     "text": [
      "Fitting 10 folds for each of 64 candidates, totalling 640 fits\n"
     ]
    },
    {
     "name": "stderr",
     "output_type": "stream",
     "text": [
      "[Parallel(n_jobs=-1)]: Using backend LokyBackend with 4 concurrent workers.\n",
      "[Parallel(n_jobs=-1)]: Done  33 tasks      | elapsed:   17.0s\n"
     ]
    },
    {
     "ename": "KeyboardInterrupt",
     "evalue": "",
     "output_type": "error",
     "traceback": [
      "\u001b[1;31m---------------------------------------------------------------------------\u001b[0m",
      "\u001b[1;31mKeyboardInterrupt\u001b[0m                         Traceback (most recent call last)",
      "\u001b[1;32m<ipython-input-127-1059780415be>\u001b[0m in \u001b[0;36m<module>\u001b[1;34m\u001b[0m\n\u001b[1;32m----> 1\u001b[1;33m \u001b[0mrf_cv_params\u001b[0m\u001b[1;33m=\u001b[0m\u001b[0mGridSearchCV\u001b[0m\u001b[1;33m(\u001b[0m\u001b[0mrf\u001b[0m\u001b[1;33m,\u001b[0m\u001b[0mrf_params\u001b[0m\u001b[1;33m,\u001b[0m\u001b[0mcv\u001b[0m\u001b[1;33m=\u001b[0m\u001b[1;36m10\u001b[0m\u001b[1;33m,\u001b[0m\u001b[0mn_jobs\u001b[0m\u001b[1;33m=\u001b[0m\u001b[1;33m-\u001b[0m\u001b[1;36m1\u001b[0m\u001b[1;33m,\u001b[0m\u001b[0mverbose\u001b[0m\u001b[1;33m=\u001b[0m\u001b[1;36m2\u001b[0m\u001b[1;33m)\u001b[0m\u001b[1;33m.\u001b[0m\u001b[0mfit\u001b[0m\u001b[1;33m(\u001b[0m\u001b[0mX_train\u001b[0m\u001b[1;33m,\u001b[0m\u001b[0my_train\u001b[0m\u001b[1;33m)\u001b[0m\u001b[1;33m\u001b[0m\u001b[1;33m\u001b[0m\u001b[0m\n\u001b[0m",
      "\u001b[1;32m~\\anaconda3\\envs\\test_conda_env\\lib\\site-packages\\sklearn\\model_selection\\_search.py\u001b[0m in \u001b[0;36mfit\u001b[1;34m(self, X, y, groups, **fit_params)\u001b[0m\n\u001b[0;32m    708\u001b[0m                 \u001b[1;32mreturn\u001b[0m \u001b[0mresults\u001b[0m\u001b[1;33m\u001b[0m\u001b[1;33m\u001b[0m\u001b[0m\n\u001b[0;32m    709\u001b[0m \u001b[1;33m\u001b[0m\u001b[0m\n\u001b[1;32m--> 710\u001b[1;33m             \u001b[0mself\u001b[0m\u001b[1;33m.\u001b[0m\u001b[0m_run_search\u001b[0m\u001b[1;33m(\u001b[0m\u001b[0mevaluate_candidates\u001b[0m\u001b[1;33m)\u001b[0m\u001b[1;33m\u001b[0m\u001b[1;33m\u001b[0m\u001b[0m\n\u001b[0m\u001b[0;32m    711\u001b[0m \u001b[1;33m\u001b[0m\u001b[0m\n\u001b[0;32m    712\u001b[0m         \u001b[1;31m# For multi-metric evaluation, store the best_index_, best_params_ and\u001b[0m\u001b[1;33m\u001b[0m\u001b[1;33m\u001b[0m\u001b[1;33m\u001b[0m\u001b[0m\n",
      "\u001b[1;32m~\\anaconda3\\envs\\test_conda_env\\lib\\site-packages\\sklearn\\model_selection\\_search.py\u001b[0m in \u001b[0;36m_run_search\u001b[1;34m(self, evaluate_candidates)\u001b[0m\n\u001b[0;32m   1149\u001b[0m     \u001b[1;32mdef\u001b[0m \u001b[0m_run_search\u001b[0m\u001b[1;33m(\u001b[0m\u001b[0mself\u001b[0m\u001b[1;33m,\u001b[0m \u001b[0mevaluate_candidates\u001b[0m\u001b[1;33m)\u001b[0m\u001b[1;33m:\u001b[0m\u001b[1;33m\u001b[0m\u001b[1;33m\u001b[0m\u001b[0m\n\u001b[0;32m   1150\u001b[0m         \u001b[1;34m\"\"\"Search all candidates in param_grid\"\"\"\u001b[0m\u001b[1;33m\u001b[0m\u001b[1;33m\u001b[0m\u001b[0m\n\u001b[1;32m-> 1151\u001b[1;33m         \u001b[0mevaluate_candidates\u001b[0m\u001b[1;33m(\u001b[0m\u001b[0mParameterGrid\u001b[0m\u001b[1;33m(\u001b[0m\u001b[0mself\u001b[0m\u001b[1;33m.\u001b[0m\u001b[0mparam_grid\u001b[0m\u001b[1;33m)\u001b[0m\u001b[1;33m)\u001b[0m\u001b[1;33m\u001b[0m\u001b[1;33m\u001b[0m\u001b[0m\n\u001b[0m\u001b[0;32m   1152\u001b[0m \u001b[1;33m\u001b[0m\u001b[0m\n\u001b[0;32m   1153\u001b[0m \u001b[1;33m\u001b[0m\u001b[0m\n",
      "\u001b[1;32m~\\anaconda3\\envs\\test_conda_env\\lib\\site-packages\\sklearn\\model_selection\\_search.py\u001b[0m in \u001b[0;36mevaluate_candidates\u001b[1;34m(candidate_params)\u001b[0m\n\u001b[0;32m    680\u001b[0m                               n_splits, n_candidates, n_candidates * n_splits))\n\u001b[0;32m    681\u001b[0m \u001b[1;33m\u001b[0m\u001b[0m\n\u001b[1;32m--> 682\u001b[1;33m                 out = parallel(delayed(_fit_and_score)(clone(base_estimator),\n\u001b[0m\u001b[0;32m    683\u001b[0m                                                        \u001b[0mX\u001b[0m\u001b[1;33m,\u001b[0m \u001b[0my\u001b[0m\u001b[1;33m,\u001b[0m\u001b[1;33m\u001b[0m\u001b[1;33m\u001b[0m\u001b[0m\n\u001b[0;32m    684\u001b[0m                                                        \u001b[0mtrain\u001b[0m\u001b[1;33m=\u001b[0m\u001b[0mtrain\u001b[0m\u001b[1;33m,\u001b[0m \u001b[0mtest\u001b[0m\u001b[1;33m=\u001b[0m\u001b[0mtest\u001b[0m\u001b[1;33m,\u001b[0m\u001b[1;33m\u001b[0m\u001b[1;33m\u001b[0m\u001b[0m\n",
      "\u001b[1;32m~\\anaconda3\\envs\\test_conda_env\\lib\\site-packages\\joblib\\parallel.py\u001b[0m in \u001b[0;36m__call__\u001b[1;34m(self, iterable)\u001b[0m\n\u001b[0;32m   1040\u001b[0m \u001b[1;33m\u001b[0m\u001b[0m\n\u001b[0;32m   1041\u001b[0m             \u001b[1;32mwith\u001b[0m \u001b[0mself\u001b[0m\u001b[1;33m.\u001b[0m\u001b[0m_backend\u001b[0m\u001b[1;33m.\u001b[0m\u001b[0mretrieval_context\u001b[0m\u001b[1;33m(\u001b[0m\u001b[1;33m)\u001b[0m\u001b[1;33m:\u001b[0m\u001b[1;33m\u001b[0m\u001b[1;33m\u001b[0m\u001b[0m\n\u001b[1;32m-> 1042\u001b[1;33m                 \u001b[0mself\u001b[0m\u001b[1;33m.\u001b[0m\u001b[0mretrieve\u001b[0m\u001b[1;33m(\u001b[0m\u001b[1;33m)\u001b[0m\u001b[1;33m\u001b[0m\u001b[1;33m\u001b[0m\u001b[0m\n\u001b[0m\u001b[0;32m   1043\u001b[0m             \u001b[1;31m# Make sure that we get a last message telling us we are done\u001b[0m\u001b[1;33m\u001b[0m\u001b[1;33m\u001b[0m\u001b[1;33m\u001b[0m\u001b[0m\n\u001b[0;32m   1044\u001b[0m             \u001b[0melapsed_time\u001b[0m \u001b[1;33m=\u001b[0m \u001b[0mtime\u001b[0m\u001b[1;33m.\u001b[0m\u001b[0mtime\u001b[0m\u001b[1;33m(\u001b[0m\u001b[1;33m)\u001b[0m \u001b[1;33m-\u001b[0m \u001b[0mself\u001b[0m\u001b[1;33m.\u001b[0m\u001b[0m_start_time\u001b[0m\u001b[1;33m\u001b[0m\u001b[1;33m\u001b[0m\u001b[0m\n",
      "\u001b[1;32m~\\anaconda3\\envs\\test_conda_env\\lib\\site-packages\\joblib\\parallel.py\u001b[0m in \u001b[0;36mretrieve\u001b[1;34m(self)\u001b[0m\n\u001b[0;32m    919\u001b[0m             \u001b[1;32mtry\u001b[0m\u001b[1;33m:\u001b[0m\u001b[1;33m\u001b[0m\u001b[1;33m\u001b[0m\u001b[0m\n\u001b[0;32m    920\u001b[0m                 \u001b[1;32mif\u001b[0m \u001b[0mgetattr\u001b[0m\u001b[1;33m(\u001b[0m\u001b[0mself\u001b[0m\u001b[1;33m.\u001b[0m\u001b[0m_backend\u001b[0m\u001b[1;33m,\u001b[0m \u001b[1;34m'supports_timeout'\u001b[0m\u001b[1;33m,\u001b[0m \u001b[1;32mFalse\u001b[0m\u001b[1;33m)\u001b[0m\u001b[1;33m:\u001b[0m\u001b[1;33m\u001b[0m\u001b[1;33m\u001b[0m\u001b[0m\n\u001b[1;32m--> 921\u001b[1;33m                     \u001b[0mself\u001b[0m\u001b[1;33m.\u001b[0m\u001b[0m_output\u001b[0m\u001b[1;33m.\u001b[0m\u001b[0mextend\u001b[0m\u001b[1;33m(\u001b[0m\u001b[0mjob\u001b[0m\u001b[1;33m.\u001b[0m\u001b[0mget\u001b[0m\u001b[1;33m(\u001b[0m\u001b[0mtimeout\u001b[0m\u001b[1;33m=\u001b[0m\u001b[0mself\u001b[0m\u001b[1;33m.\u001b[0m\u001b[0mtimeout\u001b[0m\u001b[1;33m)\u001b[0m\u001b[1;33m)\u001b[0m\u001b[1;33m\u001b[0m\u001b[1;33m\u001b[0m\u001b[0m\n\u001b[0m\u001b[0;32m    922\u001b[0m                 \u001b[1;32melse\u001b[0m\u001b[1;33m:\u001b[0m\u001b[1;33m\u001b[0m\u001b[1;33m\u001b[0m\u001b[0m\n\u001b[0;32m    923\u001b[0m                     \u001b[0mself\u001b[0m\u001b[1;33m.\u001b[0m\u001b[0m_output\u001b[0m\u001b[1;33m.\u001b[0m\u001b[0mextend\u001b[0m\u001b[1;33m(\u001b[0m\u001b[0mjob\u001b[0m\u001b[1;33m.\u001b[0m\u001b[0mget\u001b[0m\u001b[1;33m(\u001b[0m\u001b[1;33m)\u001b[0m\u001b[1;33m)\u001b[0m\u001b[1;33m\u001b[0m\u001b[1;33m\u001b[0m\u001b[0m\n",
      "\u001b[1;32m~\\anaconda3\\envs\\test_conda_env\\lib\\site-packages\\joblib\\_parallel_backends.py\u001b[0m in \u001b[0;36mwrap_future_result\u001b[1;34m(future, timeout)\u001b[0m\n\u001b[0;32m    538\u001b[0m         AsyncResults.get from multiprocessing.\"\"\"\n\u001b[0;32m    539\u001b[0m         \u001b[1;32mtry\u001b[0m\u001b[1;33m:\u001b[0m\u001b[1;33m\u001b[0m\u001b[1;33m\u001b[0m\u001b[0m\n\u001b[1;32m--> 540\u001b[1;33m             \u001b[1;32mreturn\u001b[0m \u001b[0mfuture\u001b[0m\u001b[1;33m.\u001b[0m\u001b[0mresult\u001b[0m\u001b[1;33m(\u001b[0m\u001b[0mtimeout\u001b[0m\u001b[1;33m=\u001b[0m\u001b[0mtimeout\u001b[0m\u001b[1;33m)\u001b[0m\u001b[1;33m\u001b[0m\u001b[1;33m\u001b[0m\u001b[0m\n\u001b[0m\u001b[0;32m    541\u001b[0m         \u001b[1;32mexcept\u001b[0m \u001b[0mCfTimeoutError\u001b[0m\u001b[1;33m:\u001b[0m\u001b[1;33m\u001b[0m\u001b[1;33m\u001b[0m\u001b[0m\n\u001b[0;32m    542\u001b[0m             \u001b[1;32mraise\u001b[0m \u001b[0mTimeoutError\u001b[0m\u001b[1;33m(\u001b[0m\u001b[1;33m)\u001b[0m\u001b[1;33m\u001b[0m\u001b[1;33m\u001b[0m\u001b[0m\n",
      "\u001b[1;32m~\\anaconda3\\envs\\test_conda_env\\lib\\concurrent\\futures\\_base.py\u001b[0m in \u001b[0;36mresult\u001b[1;34m(self, timeout)\u001b[0m\n\u001b[0;32m    432\u001b[0m                 \u001b[1;32mreturn\u001b[0m \u001b[0mself\u001b[0m\u001b[1;33m.\u001b[0m\u001b[0m__get_result\u001b[0m\u001b[1;33m(\u001b[0m\u001b[1;33m)\u001b[0m\u001b[1;33m\u001b[0m\u001b[1;33m\u001b[0m\u001b[0m\n\u001b[0;32m    433\u001b[0m \u001b[1;33m\u001b[0m\u001b[0m\n\u001b[1;32m--> 434\u001b[1;33m             \u001b[0mself\u001b[0m\u001b[1;33m.\u001b[0m\u001b[0m_condition\u001b[0m\u001b[1;33m.\u001b[0m\u001b[0mwait\u001b[0m\u001b[1;33m(\u001b[0m\u001b[0mtimeout\u001b[0m\u001b[1;33m)\u001b[0m\u001b[1;33m\u001b[0m\u001b[1;33m\u001b[0m\u001b[0m\n\u001b[0m\u001b[0;32m    435\u001b[0m \u001b[1;33m\u001b[0m\u001b[0m\n\u001b[0;32m    436\u001b[0m             \u001b[1;32mif\u001b[0m \u001b[0mself\u001b[0m\u001b[1;33m.\u001b[0m\u001b[0m_state\u001b[0m \u001b[1;32min\u001b[0m \u001b[1;33m[\u001b[0m\u001b[0mCANCELLED\u001b[0m\u001b[1;33m,\u001b[0m \u001b[0mCANCELLED_AND_NOTIFIED\u001b[0m\u001b[1;33m]\u001b[0m\u001b[1;33m:\u001b[0m\u001b[1;33m\u001b[0m\u001b[1;33m\u001b[0m\u001b[0m\n",
      "\u001b[1;32m~\\anaconda3\\envs\\test_conda_env\\lib\\threading.py\u001b[0m in \u001b[0;36mwait\u001b[1;34m(self, timeout)\u001b[0m\n\u001b[0;32m    300\u001b[0m         \u001b[1;32mtry\u001b[0m\u001b[1;33m:\u001b[0m    \u001b[1;31m# restore state no matter what (e.g., KeyboardInterrupt)\u001b[0m\u001b[1;33m\u001b[0m\u001b[1;33m\u001b[0m\u001b[0m\n\u001b[0;32m    301\u001b[0m             \u001b[1;32mif\u001b[0m \u001b[0mtimeout\u001b[0m \u001b[1;32mis\u001b[0m \u001b[1;32mNone\u001b[0m\u001b[1;33m:\u001b[0m\u001b[1;33m\u001b[0m\u001b[1;33m\u001b[0m\u001b[0m\n\u001b[1;32m--> 302\u001b[1;33m                 \u001b[0mwaiter\u001b[0m\u001b[1;33m.\u001b[0m\u001b[0macquire\u001b[0m\u001b[1;33m(\u001b[0m\u001b[1;33m)\u001b[0m\u001b[1;33m\u001b[0m\u001b[1;33m\u001b[0m\u001b[0m\n\u001b[0m\u001b[0;32m    303\u001b[0m                 \u001b[0mgotit\u001b[0m \u001b[1;33m=\u001b[0m \u001b[1;32mTrue\u001b[0m\u001b[1;33m\u001b[0m\u001b[1;33m\u001b[0m\u001b[0m\n\u001b[0;32m    304\u001b[0m             \u001b[1;32melse\u001b[0m\u001b[1;33m:\u001b[0m\u001b[1;33m\u001b[0m\u001b[1;33m\u001b[0m\u001b[0m\n",
      "\u001b[1;31mKeyboardInterrupt\u001b[0m: "
     ]
    }
   ],
   "source": [
    "rf_cv_params=GridSearchCV(rf,rf_params,cv=10,n_jobs=-1,verbose=2).fit(X_train,y_train)"
   ]
  },
  {
   "cell_type": "code",
   "execution_count": null,
   "metadata": {},
   "outputs": [],
   "source": [
    "rf_cv_params.best_params_"
   ]
  },
  {
   "cell_type": "code",
   "execution_count": null,
   "metadata": {},
   "outputs": [],
   "source": [
    "#Final modeli"
   ]
  },
  {
   "cell_type": "code",
   "execution_count": null,
   "metadata": {},
   "outputs": [],
   "source": [
    "rf_tuned=RandomForestClassifier(n_estimators=200,max_features=7,min_samples_split=2).fit(X_train,y_train)"
   ]
  },
  {
   "cell_type": "code",
   "execution_count": null,
   "metadata": {},
   "outputs": [],
   "source": [
    "y_pred=rf_tuned.predict(X_test)"
   ]
  },
  {
   "cell_type": "code",
   "execution_count": null,
   "metadata": {},
   "outputs": [],
   "source": [
    "accuracy_score(y_test,y_pred)"
   ]
  },
  {
   "cell_type": "markdown",
   "metadata": {},
   "source": [
    "# DEĞİŞKEN ÖNEM DÜZEYİ"
   ]
  },
  {
   "cell_type": "code",
   "execution_count": null,
   "metadata": {},
   "outputs": [],
   "source": [
    "rf_tuned"
   ]
  },
  {
   "cell_type": "code",
   "execution_count": null,
   "metadata": {},
   "outputs": [],
   "source": [
    "rf_tuned.feature_importances_"
   ]
  },
  {
   "cell_type": "code",
   "execution_count": null,
   "metadata": {},
   "outputs": [],
   "source": [
    "features_imp=pd.Series(rf_tuned.feature_importances_,\n",
    "                      index=X_train.columns).sort_values(ascending=False)\n",
    "\n",
    "sns.barplot(x=features_imp,y=features_imp.index)\n",
    "plt.xlabel('Değişken önem düzeyleri')\n",
    "plt.ylabel('Değişkenler')\n",
    "plt.title('Değişken Önem düzeyleri')\n",
    "plt.show()"
   ]
  },
  {
   "cell_type": "markdown",
   "metadata": {},
   "source": [
    "# GBM"
   ]
  },
  {
   "cell_type": "markdown",
   "metadata": {},
   "source": [
    "# MODEL TAHMİN"
   ]
  },
  {
   "cell_type": "code",
   "execution_count": 128,
   "metadata": {},
   "outputs": [],
   "source": [
    "gbm_model=GradientBoostingClassifier().fit(X_train,y_train)"
   ]
  },
  {
   "cell_type": "code",
   "execution_count": 129,
   "metadata": {},
   "outputs": [],
   "source": [
    " #parametrelerin detaylarına göz atabiliyoruz"
   ]
  },
  {
   "cell_type": "code",
   "execution_count": 130,
   "metadata": {},
   "outputs": [
    {
     "data": {
      "text/plain": [
       "\u001b[1;31mType:\u001b[0m        GradientBoostingClassifier\n",
       "\u001b[1;31mString form:\u001b[0m\n",
       "GradientBoostingClassifier(ccp_alpha=0.0, criterion='friedman_mse', init=None,\n",
       "           <...>                  validation_fraction=0.1, verbose=0,\n",
       "           warm_start=False)\n",
       "\u001b[1;31mLength:\u001b[0m      100\n",
       "\u001b[1;31mFile:\u001b[0m        c:\\users\\onur\\anaconda3\\envs\\test_conda_env\\lib\\site-packages\\sklearn\\ensemble\\_gb.py\n",
       "\u001b[1;31mDocstring:\u001b[0m  \n",
       "Gradient Boosting for classification.\n",
       "\n",
       "GB builds an additive model in a\n",
       "forward stage-wise fashion; it allows for the optimization of\n",
       "arbitrary differentiable loss functions. In each stage ``n_classes_``\n",
       "regression trees are fit on the negative gradient of the\n",
       "binomial or multinomial deviance loss function. Binary classification\n",
       "is a special case where only a single regression tree is induced.\n",
       "\n",
       "Read more in the :ref:`User Guide <gradient_boosting>`.\n",
       "\n",
       "Parameters\n",
       "----------\n",
       "loss : {'deviance', 'exponential'}, optional (default='deviance')\n",
       "    loss function to be optimized. 'deviance' refers to\n",
       "    deviance (= logistic regression) for classification\n",
       "    with probabilistic outputs. For loss 'exponential' gradient\n",
       "    boosting recovers the AdaBoost algorithm.\n",
       "\n",
       "learning_rate : float, optional (default=0.1)\n",
       "    learning rate shrinks the contribution of each tree by `learning_rate`.\n",
       "    There is a trade-off between learning_rate and n_estimators.\n",
       "\n",
       "n_estimators : int (default=100)\n",
       "    The number of boosting stages to perform. Gradient boosting\n",
       "    is fairly robust to over-fitting so a large number usually\n",
       "    results in better performance.\n",
       "\n",
       "subsample : float, optional (default=1.0)\n",
       "    The fraction of samples to be used for fitting the individual base\n",
       "    learners. If smaller than 1.0 this results in Stochastic Gradient\n",
       "    Boosting. `subsample` interacts with the parameter `n_estimators`.\n",
       "    Choosing `subsample < 1.0` leads to a reduction of variance\n",
       "    and an increase in bias.\n",
       "\n",
       "criterion : string, optional (default=\"friedman_mse\")\n",
       "    The function to measure the quality of a split. Supported criteria\n",
       "    are \"friedman_mse\" for the mean squared error with improvement\n",
       "    score by Friedman, \"mse\" for mean squared error, and \"mae\" for\n",
       "    the mean absolute error. The default value of \"friedman_mse\" is\n",
       "    generally the best as it can provide a better approximation in\n",
       "    some cases.\n",
       "\n",
       "    .. versionadded:: 0.18\n",
       "\n",
       "min_samples_split : int, float, optional (default=2)\n",
       "    The minimum number of samples required to split an internal node:\n",
       "\n",
       "    - If int, then consider `min_samples_split` as the minimum number.\n",
       "    - If float, then `min_samples_split` is a fraction and\n",
       "      `ceil(min_samples_split * n_samples)` are the minimum\n",
       "      number of samples for each split.\n",
       "\n",
       "    .. versionchanged:: 0.18\n",
       "       Added float values for fractions.\n",
       "\n",
       "min_samples_leaf : int, float, optional (default=1)\n",
       "    The minimum number of samples required to be at a leaf node.\n",
       "    A split point at any depth will only be considered if it leaves at\n",
       "    least ``min_samples_leaf`` training samples in each of the left and\n",
       "    right branches.  This may have the effect of smoothing the model,\n",
       "    especially in regression.\n",
       "\n",
       "    - If int, then consider `min_samples_leaf` as the minimum number.\n",
       "    - If float, then `min_samples_leaf` is a fraction and\n",
       "      `ceil(min_samples_leaf * n_samples)` are the minimum\n",
       "      number of samples for each node.\n",
       "\n",
       "    .. versionchanged:: 0.18\n",
       "       Added float values for fractions.\n",
       "\n",
       "min_weight_fraction_leaf : float, optional (default=0.)\n",
       "    The minimum weighted fraction of the sum total of weights (of all\n",
       "    the input samples) required to be at a leaf node. Samples have\n",
       "    equal weight when sample_weight is not provided.\n",
       "\n",
       "max_depth : integer, optional (default=3)\n",
       "    maximum depth of the individual regression estimators. The maximum\n",
       "    depth limits the number of nodes in the tree. Tune this parameter\n",
       "    for best performance; the best value depends on the interaction\n",
       "    of the input variables.\n",
       "\n",
       "min_impurity_decrease : float, optional (default=0.)\n",
       "    A node will be split if this split induces a decrease of the impurity\n",
       "    greater than or equal to this value.\n",
       "\n",
       "    The weighted impurity decrease equation is the following::\n",
       "\n",
       "        N_t / N * (impurity - N_t_R / N_t * right_impurity\n",
       "                            - N_t_L / N_t * left_impurity)\n",
       "\n",
       "    where ``N`` is the total number of samples, ``N_t`` is the number of\n",
       "    samples at the current node, ``N_t_L`` is the number of samples in the\n",
       "    left child, and ``N_t_R`` is the number of samples in the right child.\n",
       "\n",
       "    ``N``, ``N_t``, ``N_t_R`` and ``N_t_L`` all refer to the weighted sum,\n",
       "    if ``sample_weight`` is passed.\n",
       "\n",
       "    .. versionadded:: 0.19\n",
       "\n",
       "min_impurity_split : float, (default=1e-7)\n",
       "    Threshold for early stopping in tree growth. A node will split\n",
       "    if its impurity is above the threshold, otherwise it is a leaf.\n",
       "\n",
       "    .. deprecated:: 0.19\n",
       "       ``min_impurity_split`` has been deprecated in favor of\n",
       "       ``min_impurity_decrease`` in 0.19. The default value of\n",
       "       ``min_impurity_split`` will change from 1e-7 to 0 in 0.23 and it\n",
       "       will be removed in 0.25. Use ``min_impurity_decrease`` instead.\n",
       "\n",
       "init : estimator or 'zero', optional (default=None)\n",
       "    An estimator object that is used to compute the initial predictions.\n",
       "    ``init`` has to provide :meth:`fit` and :meth:`predict_proba`. If\n",
       "    'zero', the initial raw predictions are set to zero. By default, a\n",
       "    ``DummyEstimator`` predicting the classes priors is used.\n",
       "\n",
       "random_state : int, RandomState instance or None, optional (default=None)\n",
       "    If int, random_state is the seed used by the random number generator;\n",
       "    If RandomState instance, random_state is the random number generator;\n",
       "    If None, the random number generator is the RandomState instance used\n",
       "    by `np.random`.\n",
       "\n",
       "max_features : int, float, string or None, optional (default=None)\n",
       "    The number of features to consider when looking for the best split:\n",
       "\n",
       "    - If int, then consider `max_features` features at each split.\n",
       "    - If float, then `max_features` is a fraction and\n",
       "      `int(max_features * n_features)` features are considered at each\n",
       "      split.\n",
       "    - If \"auto\", then `max_features=sqrt(n_features)`.\n",
       "    - If \"sqrt\", then `max_features=sqrt(n_features)`.\n",
       "    - If \"log2\", then `max_features=log2(n_features)`.\n",
       "    - If None, then `max_features=n_features`.\n",
       "\n",
       "    Choosing `max_features < n_features` leads to a reduction of variance\n",
       "    and an increase in bias.\n",
       "\n",
       "    Note: the search for a split does not stop until at least one\n",
       "    valid partition of the node samples is found, even if it requires to\n",
       "    effectively inspect more than ``max_features`` features.\n",
       "\n",
       "verbose : int, default: 0\n",
       "    Enable verbose output. If 1 then it prints progress and performance\n",
       "    once in a while (the more trees the lower the frequency). If greater\n",
       "    than 1 then it prints progress and performance for every tree.\n",
       "\n",
       "max_leaf_nodes : int or None, optional (default=None)\n",
       "    Grow trees with ``max_leaf_nodes`` in best-first fashion.\n",
       "    Best nodes are defined as relative reduction in impurity.\n",
       "    If None then unlimited number of leaf nodes.\n",
       "\n",
       "warm_start : bool, default: False\n",
       "    When set to ``True``, reuse the solution of the previous call to fit\n",
       "    and add more estimators to the ensemble, otherwise, just erase the\n",
       "    previous solution. See :term:`the Glossary <warm_start>`.\n",
       "\n",
       "presort : deprecated, default='deprecated'\n",
       "    This parameter is deprecated and will be removed in v0.24.\n",
       "\n",
       "    .. deprecated :: 0.22\n",
       "\n",
       "validation_fraction : float, optional, default 0.1\n",
       "    The proportion of training data to set aside as validation set for\n",
       "    early stopping. Must be between 0 and 1.\n",
       "    Only used if ``n_iter_no_change`` is set to an integer.\n",
       "\n",
       "    .. versionadded:: 0.20\n",
       "\n",
       "n_iter_no_change : int, default None\n",
       "    ``n_iter_no_change`` is used to decide if early stopping will be used\n",
       "    to terminate training when validation score is not improving. By\n",
       "    default it is set to None to disable early stopping. If set to a\n",
       "    number, it will set aside ``validation_fraction`` size of the training\n",
       "    data as validation and terminate training when validation score is not\n",
       "    improving in all of the previous ``n_iter_no_change`` numbers of\n",
       "    iterations. The split is stratified.\n",
       "\n",
       "    .. versionadded:: 0.20\n",
       "\n",
       "tol : float, optional, default 1e-4\n",
       "    Tolerance for the early stopping. When the loss is not improving\n",
       "    by at least tol for ``n_iter_no_change`` iterations (if set to a\n",
       "    number), the training stops.\n",
       "\n",
       "    .. versionadded:: 0.20\n",
       "\n",
       "ccp_alpha : non-negative float, optional (default=0.0)\n",
       "    Complexity parameter used for Minimal Cost-Complexity Pruning. The\n",
       "    subtree with the largest cost complexity that is smaller than\n",
       "    ``ccp_alpha`` will be chosen. By default, no pruning is performed. See\n",
       "    :ref:`minimal_cost_complexity_pruning` for details.\n",
       "\n",
       "    .. versionadded:: 0.22\n",
       "\n",
       "Attributes\n",
       "----------\n",
       "n_estimators_ : int\n",
       "    The number of estimators as selected by early stopping (if\n",
       "    ``n_iter_no_change`` is specified). Otherwise it is set to\n",
       "    ``n_estimators``.\n",
       "\n",
       "    .. versionadded:: 0.20\n",
       "\n",
       "feature_importances_ : array, shape (n_features,)\n",
       "    The feature importances (the higher, the more important the feature).\n",
       "\n",
       "oob_improvement_ : array, shape (n_estimators,)\n",
       "    The improvement in loss (= deviance) on the out-of-bag samples\n",
       "    relative to the previous iteration.\n",
       "    ``oob_improvement_[0]`` is the improvement in\n",
       "    loss of the first stage over the ``init`` estimator.\n",
       "    Only available if ``subsample < 1.0``\n",
       "\n",
       "train_score_ : array, shape (n_estimators,)\n",
       "    The i-th score ``train_score_[i]`` is the deviance (= loss) of the\n",
       "    model at iteration ``i`` on the in-bag sample.\n",
       "    If ``subsample == 1`` this is the deviance on the training data.\n",
       "\n",
       "loss_ : LossFunction\n",
       "    The concrete ``LossFunction`` object.\n",
       "\n",
       "init_ : estimator\n",
       "    The estimator that provides the initial predictions.\n",
       "    Set via the ``init`` argument or ``loss.init_estimator``.\n",
       "\n",
       "estimators_ : ndarray of DecisionTreeRegressor,shape (n_estimators, ``loss_.K``)\n",
       "    The collection of fitted sub-estimators. ``loss_.K`` is 1 for binary\n",
       "    classification, otherwise n_classes.\n",
       "\n",
       "classes_ : array of shape (n_classes,)\n",
       "    The classes labels.\n",
       "\n",
       "Notes\n",
       "-----\n",
       "The features are always randomly permuted at each split. Therefore,\n",
       "the best found split may vary, even with the same training data and\n",
       "``max_features=n_features``, if the improvement of the criterion is\n",
       "identical for several splits enumerated during the search of the best\n",
       "split. To obtain a deterministic behaviour during fitting,\n",
       "``random_state`` has to be fixed.\n",
       "\n",
       "See also\n",
       "--------\n",
       "sklearn.ensemble.HistGradientBoostingClassifier,\n",
       "sklearn.tree.DecisionTreeClassifier, RandomForestClassifier\n",
       "AdaBoostClassifier\n",
       "\n",
       "References\n",
       "----------\n",
       "J. Friedman, Greedy Function Approximation: A Gradient Boosting\n",
       "Machine, The Annals of Statistics, Vol. 29, No. 5, 2001.\n",
       "\n",
       "J. Friedman, Stochastic Gradient Boosting, 1999\n",
       "\n",
       "T. Hastie, R. Tibshirani and J. Friedman.\n",
       "Elements of Statistical Learning Ed. 2, Springer, 2009.\n"
      ]
     },
     "metadata": {},
     "output_type": "display_data"
    }
   ],
   "source": [
    "?gbm_model    "
   ]
  },
  {
   "cell_type": "code",
   "execution_count": 131,
   "metadata": {},
   "outputs": [],
   "source": [
    "y_pred=gbm_model.predict(X_test)"
   ]
  },
  {
   "cell_type": "code",
   "execution_count": 132,
   "metadata": {},
   "outputs": [
    {
     "data": {
      "text/plain": [
       "0.7272727272727273"
      ]
     },
     "execution_count": 132,
     "metadata": {},
     "output_type": "execute_result"
    }
   ],
   "source": [
    "accuracy_score(y_test,y_pred)"
   ]
  },
  {
   "cell_type": "markdown",
   "metadata": {},
   "source": [
    "# MODEL TUNİNG"
   ]
  },
  {
   "cell_type": "code",
   "execution_count": 133,
   "metadata": {},
   "outputs": [],
   "source": [
    "gbm=GradientBoostingClassifier()"
   ]
  },
  {
   "cell_type": "code",
   "execution_count": 134,
   "metadata": {},
   "outputs": [],
   "source": [
    "gbm_params={'learning_rate':[0.1,0.01,0.001,0.05],\n",
    "            'n_estimators':[100,300,500,1000],\n",
    "            'max_depth':[2,3,5,8]}"
   ]
  },
  {
   "cell_type": "code",
   "execution_count": 135,
   "metadata": {},
   "outputs": [
    {
     "name": "stdout",
     "output_type": "stream",
     "text": [
      "Fitting 10 folds for each of 64 candidates, totalling 640 fits\n"
     ]
    },
    {
     "name": "stderr",
     "output_type": "stream",
     "text": [
      "[Parallel(n_jobs=-1)]: Using backend LokyBackend with 4 concurrent workers.\n",
      "[Parallel(n_jobs=-1)]: Done  33 tasks      | elapsed:    8.4s\n",
      "[Parallel(n_jobs=-1)]: Done 154 tasks      | elapsed:   53.1s\n",
      "[Parallel(n_jobs=-1)]: Done 357 tasks      | elapsed:  2.9min\n",
      "[Parallel(n_jobs=-1)]: Done 640 out of 640 | elapsed:  5.7min finished\n"
     ]
    }
   ],
   "source": [
    "gbm_cv_model=GridSearchCV(gbm,gbm_params,cv=10,n_jobs=-1,verbose=2).fit(X_train,y_train)"
   ]
  },
  {
   "cell_type": "code",
   "execution_count": 136,
   "metadata": {},
   "outputs": [
    {
     "data": {
      "text/plain": [
       "{'learning_rate': 0.01, 'max_depth': 5, 'n_estimators': 300}"
      ]
     },
     "execution_count": 136,
     "metadata": {},
     "output_type": "execute_result"
    }
   ],
   "source": [
    "gbm_cv_model.best_params_"
   ]
  },
  {
   "cell_type": "code",
   "execution_count": 137,
   "metadata": {},
   "outputs": [],
   "source": [
    "# FİNAL MODEL"
   ]
  },
  {
   "cell_type": "code",
   "execution_count": 138,
   "metadata": {},
   "outputs": [],
   "source": [
    "gbm_tuned=GradientBoostingClassifier(learning_rate=0.01,n_estimators=300,max_depth=5).fit(X_train,y_train)"
   ]
  },
  {
   "cell_type": "code",
   "execution_count": 139,
   "metadata": {},
   "outputs": [],
   "source": [
    "y_pred=gbm_tuned.predict(X_test)"
   ]
  },
  {
   "cell_type": "code",
   "execution_count": 140,
   "metadata": {},
   "outputs": [
    {
     "data": {
      "text/plain": [
       "0.7316017316017316"
      ]
     },
     "execution_count": 140,
     "metadata": {},
     "output_type": "execute_result"
    }
   ],
   "source": [
    "accuracy_score(y_test,y_pred)"
   ]
  },
  {
   "cell_type": "markdown",
   "metadata": {},
   "source": [
    "# CatB"
   ]
  },
  {
   "cell_type": "markdown",
   "metadata": {},
   "source": [
    "# MODEL TAHMİN"
   ]
  },
  {
   "cell_type": "code",
   "execution_count": null,
   "metadata": {},
   "outputs": [],
   "source": [
    "!pip install catboost"
   ]
  },
  {
   "cell_type": "code",
   "execution_count": 142,
   "metadata": {},
   "outputs": [],
   "source": [
    "from catboost import CatBoostClassifier"
   ]
  },
  {
   "cell_type": "code",
   "execution_count": 143,
   "metadata": {},
   "outputs": [],
   "source": [
    "catb_model=CatBoostClassifier().fit(X_train,y_train, verbose=False) #verbose koymamızın sebebi fonksiyonun çıktısında sürekli her iterasyona ilişkin bilgi paaylaşımı vardı. bu bilgiyi istemediğimiz için verdik"
   ]
  },
  {
   "cell_type": "code",
   "execution_count": 144,
   "metadata": {},
   "outputs": [
    {
     "data": {
      "text/plain": [
       "\u001b[1;31mType:\u001b[0m            CatBoostClassifier\n",
       "\u001b[1;31mString form:\u001b[0m     <catboost.core.CatBoostClassifier object at 0x000001DC60302430>\n",
       "\u001b[1;31mFile:\u001b[0m            c:\\users\\onur\\anaconda3\\envs\\test_conda_env\\lib\\site-packages\\catboost\\core.py\n",
       "\u001b[1;31mDocstring:\u001b[0m       <no docstring>\n",
       "\u001b[1;31mClass docstring:\u001b[0m CatBoost model. Contains training, prediction and evaluation methods.\n",
       "\u001b[1;31mInit docstring:\u001b[0m \n",
       "Initialize the CatBoost.\n",
       "\n",
       "Parameters\n",
       "----------\n",
       "params : dict\n",
       "    Parameters for CatBoost.\n",
       "    If  None, all params are set to their defaults.\n",
       "    If  dict, overriding parameters present in dict.\n"
      ]
     },
     "metadata": {},
     "output_type": "display_data"
    }
   ],
   "source": [
    "?catb_model"
   ]
  },
  {
   "cell_type": "code",
   "execution_count": 145,
   "metadata": {},
   "outputs": [],
   "source": [
    "y_pred=catb_model.predict(X_test)"
   ]
  },
  {
   "cell_type": "code",
   "execution_count": 146,
   "metadata": {},
   "outputs": [
    {
     "data": {
      "text/plain": [
       "0.7489177489177489"
      ]
     },
     "execution_count": 146,
     "metadata": {},
     "output_type": "execute_result"
    }
   ],
   "source": [
    "accuracy_score(y_test,y_pred)"
   ]
  },
  {
   "cell_type": "markdown",
   "metadata": {},
   "source": [
    "# MODEL TUNİNG"
   ]
  },
  {
   "cell_type": "code",
   "execution_count": 147,
   "metadata": {},
   "outputs": [],
   "source": [
    "catb=CatBoostClassifier()"
   ]
  },
  {
   "cell_type": "code",
   "execution_count": 148,
   "metadata": {},
   "outputs": [],
   "source": [
    "catb_params={'iterations':[200,500,1000],    #ağaç sayısıyla ilgili parametre denilebilir\n",
    "            'learning_rate': [0.03,0.01,0.1],\n",
    "            'depth':[4,5,8]}"
   ]
  },
  {
   "cell_type": "code",
   "execution_count": 149,
   "metadata": {
    "collapsed": true,
    "jupyter": {
     "outputs_hidden": true
    }
   },
   "outputs": [
    {
     "name": "stdout",
     "output_type": "stream",
     "text": [
      "Fitting 5 folds for each of 27 candidates, totalling 135 fits\n"
     ]
    },
    {
     "name": "stderr",
     "output_type": "stream",
     "text": [
      "[Parallel(n_jobs=-1)]: Using backend LokyBackend with 4 concurrent workers.\n",
      "[Parallel(n_jobs=-1)]: Done  33 tasks      | elapsed:   18.9s\n",
      "[Parallel(n_jobs=-1)]: Done 135 out of 135 | elapsed:  3.6min finished\n"
     ]
    },
    {
     "name": "stdout",
     "output_type": "stream",
     "text": [
      "0:\tlearn: 0.6730562\ttotal: 9.55ms\tremaining: 1.9s\n",
      "1:\tlearn: 0.6583303\ttotal: 16.5ms\tremaining: 1.63s\n",
      "2:\tlearn: 0.6413852\ttotal: 24.7ms\tremaining: 1.62s\n",
      "3:\tlearn: 0.6268405\ttotal: 30.5ms\tremaining: 1.49s\n",
      "4:\tlearn: 0.6150883\ttotal: 36.1ms\tremaining: 1.41s\n",
      "5:\tlearn: 0.5989093\ttotal: 42.9ms\tremaining: 1.39s\n",
      "6:\tlearn: 0.5861303\ttotal: 48.5ms\tremaining: 1.34s\n",
      "7:\tlearn: 0.5735117\ttotal: 54.3ms\tremaining: 1.3s\n",
      "8:\tlearn: 0.5616370\ttotal: 59.9ms\tremaining: 1.27s\n",
      "9:\tlearn: 0.5507706\ttotal: 65.4ms\tremaining: 1.24s\n",
      "10:\tlearn: 0.5388394\ttotal: 72ms\tremaining: 1.24s\n",
      "11:\tlearn: 0.5264516\ttotal: 77.6ms\tremaining: 1.21s\n",
      "12:\tlearn: 0.5191660\ttotal: 84.2ms\tremaining: 1.21s\n",
      "13:\tlearn: 0.5104459\ttotal: 89.7ms\tremaining: 1.19s\n",
      "14:\tlearn: 0.5017018\ttotal: 95.2ms\tremaining: 1.17s\n",
      "15:\tlearn: 0.4954928\ttotal: 102ms\tremaining: 1.17s\n",
      "16:\tlearn: 0.4896817\ttotal: 108ms\tremaining: 1.16s\n",
      "17:\tlearn: 0.4808546\ttotal: 113ms\tremaining: 1.14s\n",
      "18:\tlearn: 0.4724010\ttotal: 119ms\tremaining: 1.13s\n",
      "19:\tlearn: 0.4657244\ttotal: 124ms\tremaining: 1.12s\n",
      "20:\tlearn: 0.4613432\ttotal: 133ms\tremaining: 1.13s\n",
      "21:\tlearn: 0.4537068\ttotal: 139ms\tremaining: 1.13s\n",
      "22:\tlearn: 0.4488883\ttotal: 148ms\tremaining: 1.14s\n",
      "23:\tlearn: 0.4438466\ttotal: 156ms\tremaining: 1.15s\n",
      "24:\tlearn: 0.4372028\ttotal: 165ms\tremaining: 1.16s\n",
      "25:\tlearn: 0.4327993\ttotal: 172ms\tremaining: 1.15s\n",
      "26:\tlearn: 0.4274812\ttotal: 182ms\tremaining: 1.16s\n",
      "27:\tlearn: 0.4215002\ttotal: 188ms\tremaining: 1.16s\n",
      "28:\tlearn: 0.4161126\ttotal: 196ms\tremaining: 1.16s\n",
      "29:\tlearn: 0.4116830\ttotal: 202ms\tremaining: 1.14s\n",
      "30:\tlearn: 0.4074000\ttotal: 210ms\tremaining: 1.15s\n",
      "31:\tlearn: 0.4012367\ttotal: 216ms\tremaining: 1.13s\n",
      "32:\tlearn: 0.3971203\ttotal: 223ms\tremaining: 1.13s\n",
      "33:\tlearn: 0.3909248\ttotal: 229ms\tremaining: 1.12s\n",
      "34:\tlearn: 0.3868997\ttotal: 236ms\tremaining: 1.11s\n",
      "35:\tlearn: 0.3836984\ttotal: 243ms\tremaining: 1.11s\n",
      "36:\tlearn: 0.3800295\ttotal: 250ms\tremaining: 1.1s\n",
      "37:\tlearn: 0.3768893\ttotal: 259ms\tremaining: 1.1s\n",
      "38:\tlearn: 0.3726886\ttotal: 266ms\tremaining: 1.1s\n",
      "39:\tlearn: 0.3692111\ttotal: 275ms\tremaining: 1.1s\n",
      "40:\tlearn: 0.3656284\ttotal: 282ms\tremaining: 1.09s\n",
      "41:\tlearn: 0.3617278\ttotal: 289ms\tremaining: 1.09s\n",
      "42:\tlearn: 0.3580843\ttotal: 294ms\tremaining: 1.07s\n",
      "43:\tlearn: 0.3556401\ttotal: 301ms\tremaining: 1.07s\n",
      "44:\tlearn: 0.3520825\ttotal: 306ms\tremaining: 1.05s\n",
      "45:\tlearn: 0.3493779\ttotal: 312ms\tremaining: 1.04s\n",
      "46:\tlearn: 0.3456837\ttotal: 319ms\tremaining: 1.04s\n",
      "47:\tlearn: 0.3432794\ttotal: 324ms\tremaining: 1.03s\n",
      "48:\tlearn: 0.3401259\ttotal: 331ms\tremaining: 1.02s\n",
      "49:\tlearn: 0.3353722\ttotal: 337ms\tremaining: 1.01s\n",
      "50:\tlearn: 0.3334148\ttotal: 343ms\tremaining: 1s\n",
      "51:\tlearn: 0.3299847\ttotal: 350ms\tremaining: 997ms\n",
      "52:\tlearn: 0.3280110\ttotal: 356ms\tremaining: 987ms\n",
      "53:\tlearn: 0.3252961\ttotal: 363ms\tremaining: 981ms\n",
      "54:\tlearn: 0.3233621\ttotal: 368ms\tremaining: 971ms\n",
      "55:\tlearn: 0.3207172\ttotal: 374ms\tremaining: 963ms\n",
      "56:\tlearn: 0.3181249\ttotal: 382ms\tremaining: 958ms\n",
      "57:\tlearn: 0.3161254\ttotal: 389ms\tremaining: 953ms\n",
      "58:\tlearn: 0.3140861\ttotal: 394ms\tremaining: 942ms\n",
      "59:\tlearn: 0.3127501\ttotal: 400ms\tremaining: 933ms\n",
      "60:\tlearn: 0.3110175\ttotal: 407ms\tremaining: 927ms\n",
      "61:\tlearn: 0.3082383\ttotal: 412ms\tremaining: 918ms\n",
      "62:\tlearn: 0.3058924\ttotal: 418ms\tremaining: 909ms\n",
      "63:\tlearn: 0.3034503\ttotal: 423ms\tremaining: 900ms\n",
      "64:\tlearn: 0.3007585\ttotal: 429ms\tremaining: 890ms\n",
      "65:\tlearn: 0.2989303\ttotal: 435ms\tremaining: 884ms\n",
      "66:\tlearn: 0.2974695\ttotal: 441ms\tremaining: 876ms\n",
      "67:\tlearn: 0.2952234\ttotal: 447ms\tremaining: 868ms\n",
      "68:\tlearn: 0.2917672\ttotal: 455ms\tremaining: 864ms\n",
      "69:\tlearn: 0.2904015\ttotal: 457ms\tremaining: 849ms\n",
      "70:\tlearn: 0.2882877\ttotal: 463ms\tremaining: 841ms\n",
      "71:\tlearn: 0.2864031\ttotal: 470ms\tremaining: 836ms\n",
      "72:\tlearn: 0.2847410\ttotal: 476ms\tremaining: 828ms\n",
      "73:\tlearn: 0.2831286\ttotal: 482ms\tremaining: 821ms\n",
      "74:\tlearn: 0.2805571\ttotal: 488ms\tremaining: 813ms\n",
      "75:\tlearn: 0.2788848\ttotal: 494ms\tremaining: 805ms\n",
      "76:\tlearn: 0.2761907\ttotal: 501ms\tremaining: 800ms\n",
      "77:\tlearn: 0.2749625\ttotal: 507ms\tremaining: 792ms\n",
      "78:\tlearn: 0.2733984\ttotal: 514ms\tremaining: 787ms\n",
      "79:\tlearn: 0.2723307\ttotal: 521ms\tremaining: 781ms\n",
      "80:\tlearn: 0.2710214\ttotal: 527ms\tremaining: 774ms\n",
      "81:\tlearn: 0.2699080\ttotal: 533ms\tremaining: 767ms\n",
      "82:\tlearn: 0.2683451\ttotal: 538ms\tremaining: 759ms\n",
      "83:\tlearn: 0.2669487\ttotal: 545ms\tremaining: 752ms\n",
      "84:\tlearn: 0.2647716\ttotal: 551ms\tremaining: 745ms\n",
      "85:\tlearn: 0.2634680\ttotal: 557ms\tremaining: 738ms\n",
      "86:\tlearn: 0.2622303\ttotal: 563ms\tremaining: 731ms\n",
      "87:\tlearn: 0.2605533\ttotal: 568ms\tremaining: 723ms\n",
      "88:\tlearn: 0.2595138\ttotal: 576ms\tremaining: 718ms\n",
      "89:\tlearn: 0.2585753\ttotal: 582ms\tremaining: 711ms\n",
      "90:\tlearn: 0.2569455\ttotal: 589ms\tremaining: 705ms\n",
      "91:\tlearn: 0.2560611\ttotal: 595ms\tremaining: 698ms\n",
      "92:\tlearn: 0.2544070\ttotal: 600ms\tremaining: 691ms\n",
      "93:\tlearn: 0.2517868\ttotal: 609ms\tremaining: 687ms\n",
      "94:\tlearn: 0.2507386\ttotal: 615ms\tremaining: 679ms\n",
      "95:\tlearn: 0.2495004\ttotal: 622ms\tremaining: 674ms\n",
      "96:\tlearn: 0.2474200\ttotal: 628ms\tremaining: 667ms\n",
      "97:\tlearn: 0.2461638\ttotal: 635ms\tremaining: 661ms\n",
      "98:\tlearn: 0.2450345\ttotal: 640ms\tremaining: 653ms\n",
      "99:\tlearn: 0.2444111\ttotal: 645ms\tremaining: 645ms\n",
      "100:\tlearn: 0.2437353\ttotal: 652ms\tremaining: 639ms\n",
      "101:\tlearn: 0.2431478\ttotal: 658ms\tremaining: 632ms\n",
      "102:\tlearn: 0.2418609\ttotal: 664ms\tremaining: 626ms\n",
      "103:\tlearn: 0.2410050\ttotal: 670ms\tremaining: 619ms\n",
      "104:\tlearn: 0.2404146\ttotal: 676ms\tremaining: 611ms\n",
      "105:\tlearn: 0.2383649\ttotal: 683ms\tremaining: 606ms\n",
      "106:\tlearn: 0.2375381\ttotal: 689ms\tremaining: 599ms\n",
      "107:\tlearn: 0.2356240\ttotal: 697ms\tremaining: 594ms\n",
      "108:\tlearn: 0.2348428\ttotal: 704ms\tremaining: 588ms\n",
      "109:\tlearn: 0.2339522\ttotal: 708ms\tremaining: 579ms\n",
      "110:\tlearn: 0.2323986\ttotal: 716ms\tremaining: 574ms\n",
      "111:\tlearn: 0.2311732\ttotal: 722ms\tremaining: 567ms\n",
      "112:\tlearn: 0.2300730\ttotal: 729ms\tremaining: 561ms\n",
      "113:\tlearn: 0.2292724\ttotal: 734ms\tremaining: 554ms\n",
      "114:\tlearn: 0.2286512\ttotal: 740ms\tremaining: 547ms\n",
      "115:\tlearn: 0.2267089\ttotal: 747ms\tremaining: 541ms\n",
      "116:\tlearn: 0.2256888\ttotal: 753ms\tremaining: 534ms\n",
      "117:\tlearn: 0.2250617\ttotal: 760ms\tremaining: 528ms\n",
      "118:\tlearn: 0.2242462\ttotal: 766ms\tremaining: 521ms\n",
      "119:\tlearn: 0.2233604\ttotal: 772ms\tremaining: 515ms\n",
      "120:\tlearn: 0.2222975\ttotal: 779ms\tremaining: 509ms\n",
      "121:\tlearn: 0.2217859\ttotal: 785ms\tremaining: 502ms\n",
      "122:\tlearn: 0.2206889\ttotal: 791ms\tremaining: 495ms\n",
      "123:\tlearn: 0.2184409\ttotal: 797ms\tremaining: 488ms\n",
      "124:\tlearn: 0.2175196\ttotal: 803ms\tremaining: 482ms\n",
      "125:\tlearn: 0.2156052\ttotal: 809ms\tremaining: 475ms\n",
      "126:\tlearn: 0.2149540\ttotal: 815ms\tremaining: 468ms\n",
      "127:\tlearn: 0.2133339\ttotal: 822ms\tremaining: 462ms\n",
      "128:\tlearn: 0.2120956\ttotal: 828ms\tremaining: 455ms\n",
      "129:\tlearn: 0.2102807\ttotal: 834ms\tremaining: 449ms\n",
      "130:\tlearn: 0.2091413\ttotal: 842ms\tremaining: 443ms\n",
      "131:\tlearn: 0.2083858\ttotal: 847ms\tremaining: 437ms\n",
      "132:\tlearn: 0.2082139\ttotal: 850ms\tremaining: 428ms\n",
      "133:\tlearn: 0.2075806\ttotal: 856ms\tremaining: 422ms\n",
      "134:\tlearn: 0.2065749\ttotal: 862ms\tremaining: 415ms\n",
      "135:\tlearn: 0.2056529\ttotal: 870ms\tremaining: 409ms\n",
      "136:\tlearn: 0.2050428\ttotal: 875ms\tremaining: 403ms\n",
      "137:\tlearn: 0.2044387\ttotal: 883ms\tremaining: 397ms\n",
      "138:\tlearn: 0.2039460\ttotal: 888ms\tremaining: 390ms\n",
      "139:\tlearn: 0.2023206\ttotal: 895ms\tremaining: 383ms\n",
      "140:\tlearn: 0.2013544\ttotal: 902ms\tremaining: 378ms\n",
      "141:\tlearn: 0.2001691\ttotal: 908ms\tremaining: 371ms\n",
      "142:\tlearn: 0.1991756\ttotal: 914ms\tremaining: 364ms\n",
      "143:\tlearn: 0.1982775\ttotal: 919ms\tremaining: 358ms\n",
      "144:\tlearn: 0.1972000\ttotal: 925ms\tremaining: 351ms\n",
      "145:\tlearn: 0.1954370\ttotal: 931ms\tremaining: 344ms\n",
      "146:\tlearn: 0.1943625\ttotal: 938ms\tremaining: 338ms\n",
      "147:\tlearn: 0.1933603\ttotal: 945ms\tremaining: 332ms\n",
      "148:\tlearn: 0.1923451\ttotal: 951ms\tremaining: 325ms\n",
      "149:\tlearn: 0.1909043\ttotal: 956ms\tremaining: 319ms\n",
      "150:\tlearn: 0.1900798\ttotal: 963ms\tremaining: 313ms\n",
      "151:\tlearn: 0.1896075\ttotal: 969ms\tremaining: 306ms\n",
      "152:\tlearn: 0.1886362\ttotal: 975ms\tremaining: 299ms\n",
      "153:\tlearn: 0.1879743\ttotal: 980ms\tremaining: 293ms\n",
      "154:\tlearn: 0.1872903\ttotal: 985ms\tremaining: 286ms\n",
      "155:\tlearn: 0.1858487\ttotal: 992ms\tremaining: 280ms\n",
      "156:\tlearn: 0.1847557\ttotal: 997ms\tremaining: 273ms\n",
      "157:\tlearn: 0.1834748\ttotal: 1s\tremaining: 267ms\n",
      "158:\tlearn: 0.1827393\ttotal: 1.01s\tremaining: 261ms\n",
      "159:\tlearn: 0.1820029\ttotal: 1.02s\tremaining: 254ms\n",
      "160:\tlearn: 0.1814870\ttotal: 1.02s\tremaining: 248ms\n",
      "161:\tlearn: 0.1807143\ttotal: 1.03s\tremaining: 241ms\n",
      "162:\tlearn: 0.1788792\ttotal: 1.03s\tremaining: 235ms\n",
      "163:\tlearn: 0.1781223\ttotal: 1.04s\tremaining: 229ms\n",
      "164:\tlearn: 0.1778573\ttotal: 1.05s\tremaining: 222ms\n",
      "165:\tlearn: 0.1774994\ttotal: 1.05s\tremaining: 216ms\n",
      "166:\tlearn: 0.1766472\ttotal: 1.06s\tremaining: 209ms\n",
      "167:\tlearn: 0.1753854\ttotal: 1.06s\tremaining: 203ms\n",
      "168:\tlearn: 0.1740620\ttotal: 1.07s\tremaining: 197ms\n",
      "169:\tlearn: 0.1731421\ttotal: 1.08s\tremaining: 190ms\n",
      "170:\tlearn: 0.1723542\ttotal: 1.09s\tremaining: 184ms\n",
      "171:\tlearn: 0.1716360\ttotal: 1.09s\tremaining: 178ms\n",
      "172:\tlearn: 0.1705085\ttotal: 1.1s\tremaining: 171ms\n",
      "173:\tlearn: 0.1694723\ttotal: 1.1s\tremaining: 165ms\n",
      "174:\tlearn: 0.1688626\ttotal: 1.11s\tremaining: 158ms\n",
      "175:\tlearn: 0.1682950\ttotal: 1.11s\tremaining: 152ms\n",
      "176:\tlearn: 0.1674069\ttotal: 1.12s\tremaining: 146ms\n",
      "177:\tlearn: 0.1672303\ttotal: 1.13s\tremaining: 139ms\n",
      "178:\tlearn: 0.1666822\ttotal: 1.13s\tremaining: 133ms\n",
      "179:\tlearn: 0.1660508\ttotal: 1.14s\tremaining: 127ms\n",
      "180:\tlearn: 0.1653085\ttotal: 1.15s\tremaining: 120ms\n",
      "181:\tlearn: 0.1643963\ttotal: 1.15s\tremaining: 114ms\n",
      "182:\tlearn: 0.1635574\ttotal: 1.16s\tremaining: 107ms\n",
      "183:\tlearn: 0.1627505\ttotal: 1.16s\tremaining: 101ms\n",
      "184:\tlearn: 0.1620530\ttotal: 1.17s\tremaining: 94.7ms\n",
      "185:\tlearn: 0.1616087\ttotal: 1.17s\tremaining: 88.3ms\n",
      "186:\tlearn: 0.1606996\ttotal: 1.18s\tremaining: 82ms\n",
      "187:\tlearn: 0.1597629\ttotal: 1.18s\tremaining: 75.6ms\n",
      "188:\tlearn: 0.1590408\ttotal: 1.19s\tremaining: 69.3ms\n",
      "189:\tlearn: 0.1586038\ttotal: 1.2s\tremaining: 63ms\n",
      "190:\tlearn: 0.1578480\ttotal: 1.2s\tremaining: 56.6ms\n",
      "191:\tlearn: 0.1571188\ttotal: 1.21s\tremaining: 50.3ms\n",
      "192:\tlearn: 0.1561423\ttotal: 1.21s\tremaining: 44ms\n",
      "193:\tlearn: 0.1555195\ttotal: 1.22s\tremaining: 37.7ms\n",
      "194:\tlearn: 0.1541191\ttotal: 1.23s\tremaining: 31.4ms\n",
      "195:\tlearn: 0.1528584\ttotal: 1.23s\tremaining: 25.1ms\n",
      "196:\tlearn: 0.1519591\ttotal: 1.24s\tremaining: 18.8ms\n",
      "197:\tlearn: 0.1513487\ttotal: 1.24s\tremaining: 12.5ms\n",
      "198:\tlearn: 0.1508775\ttotal: 1.25s\tremaining: 6.26ms\n",
      "199:\tlearn: 0.1496718\ttotal: 1.25s\tremaining: 0us\n"
     ]
    }
   ],
   "source": [
    "catb_cv_model=GridSearchCV(catb,catb_params,cv=5,n_jobs=-1,verbose=2).fit(X_train,y_train)"
   ]
  },
  {
   "cell_type": "code",
   "execution_count": 150,
   "metadata": {},
   "outputs": [
    {
     "data": {
      "text/plain": [
       "{'depth': 8, 'iterations': 200, 'learning_rate': 0.03}"
      ]
     },
     "execution_count": 150,
     "metadata": {},
     "output_type": "execute_result"
    }
   ],
   "source": [
    "catb_cv_model.best_params_"
   ]
  },
  {
   "cell_type": "code",
   "execution_count": 151,
   "metadata": {
    "collapsed": true,
    "jupyter": {
     "outputs_hidden": true
    }
   },
   "outputs": [
    {
     "name": "stdout",
     "output_type": "stream",
     "text": [
      "0:\tlearn: 0.6730562\ttotal: 7.63ms\tremaining: 1.52s\n",
      "1:\tlearn: 0.6583303\ttotal: 12.7ms\tremaining: 1.26s\n",
      "2:\tlearn: 0.6413852\ttotal: 17.4ms\tremaining: 1.14s\n",
      "3:\tlearn: 0.6268405\ttotal: 25.2ms\tremaining: 1.23s\n",
      "4:\tlearn: 0.6150883\ttotal: 29.9ms\tremaining: 1.17s\n",
      "5:\tlearn: 0.5989093\ttotal: 37.4ms\tremaining: 1.21s\n",
      "6:\tlearn: 0.5861303\ttotal: 42.8ms\tremaining: 1.18s\n",
      "7:\tlearn: 0.5735117\ttotal: 49.1ms\tremaining: 1.18s\n",
      "8:\tlearn: 0.5616370\ttotal: 55.1ms\tremaining: 1.17s\n",
      "9:\tlearn: 0.5507706\ttotal: 60.8ms\tremaining: 1.16s\n",
      "10:\tlearn: 0.5388394\ttotal: 65.4ms\tremaining: 1.12s\n",
      "11:\tlearn: 0.5264516\ttotal: 71.2ms\tremaining: 1.12s\n",
      "12:\tlearn: 0.5191660\ttotal: 76ms\tremaining: 1.09s\n",
      "13:\tlearn: 0.5104459\ttotal: 80.8ms\tremaining: 1.07s\n",
      "14:\tlearn: 0.5017018\ttotal: 87.4ms\tremaining: 1.08s\n",
      "15:\tlearn: 0.4954928\ttotal: 92ms\tremaining: 1.06s\n",
      "16:\tlearn: 0.4896817\ttotal: 97.2ms\tremaining: 1.04s\n",
      "17:\tlearn: 0.4808546\ttotal: 103ms\tremaining: 1.04s\n",
      "18:\tlearn: 0.4724010\ttotal: 108ms\tremaining: 1.03s\n",
      "19:\tlearn: 0.4657244\ttotal: 114ms\tremaining: 1.02s\n",
      "20:\tlearn: 0.4613432\ttotal: 119ms\tremaining: 1.01s\n",
      "21:\tlearn: 0.4537068\ttotal: 124ms\tremaining: 1s\n",
      "22:\tlearn: 0.4488883\ttotal: 129ms\tremaining: 995ms\n",
      "23:\tlearn: 0.4438466\ttotal: 134ms\tremaining: 983ms\n",
      "24:\tlearn: 0.4372028\ttotal: 139ms\tremaining: 971ms\n",
      "25:\tlearn: 0.4327993\ttotal: 148ms\tremaining: 994ms\n",
      "26:\tlearn: 0.4274812\ttotal: 154ms\tremaining: 984ms\n",
      "27:\tlearn: 0.4215002\ttotal: 159ms\tremaining: 980ms\n",
      "28:\tlearn: 0.4161126\ttotal: 165ms\tremaining: 973ms\n",
      "29:\tlearn: 0.4116830\ttotal: 170ms\tremaining: 964ms\n",
      "30:\tlearn: 0.4074000\ttotal: 178ms\tremaining: 970ms\n",
      "31:\tlearn: 0.4012367\ttotal: 183ms\tremaining: 962ms\n",
      "32:\tlearn: 0.3971203\ttotal: 189ms\tremaining: 956ms\n",
      "33:\tlearn: 0.3909248\ttotal: 195ms\tremaining: 950ms\n",
      "34:\tlearn: 0.3868997\ttotal: 200ms\tremaining: 942ms\n",
      "35:\tlearn: 0.3836984\ttotal: 208ms\tremaining: 947ms\n",
      "36:\tlearn: 0.3800295\ttotal: 213ms\tremaining: 938ms\n",
      "37:\tlearn: 0.3768893\ttotal: 218ms\tremaining: 930ms\n",
      "38:\tlearn: 0.3726886\ttotal: 224ms\tremaining: 926ms\n",
      "39:\tlearn: 0.3692111\ttotal: 229ms\tremaining: 917ms\n",
      "40:\tlearn: 0.3656284\ttotal: 234ms\tremaining: 909ms\n",
      "41:\tlearn: 0.3617278\ttotal: 240ms\tremaining: 901ms\n",
      "42:\tlearn: 0.3580843\ttotal: 245ms\tremaining: 893ms\n",
      "43:\tlearn: 0.3556401\ttotal: 250ms\tremaining: 885ms\n",
      "44:\tlearn: 0.3520825\ttotal: 256ms\tremaining: 880ms\n",
      "45:\tlearn: 0.3493779\ttotal: 261ms\tremaining: 872ms\n",
      "46:\tlearn: 0.3456837\ttotal: 268ms\tremaining: 871ms\n",
      "47:\tlearn: 0.3432794\ttotal: 273ms\tremaining: 863ms\n",
      "48:\tlearn: 0.3401259\ttotal: 277ms\tremaining: 855ms\n",
      "49:\tlearn: 0.3353722\ttotal: 284ms\tremaining: 852ms\n",
      "50:\tlearn: 0.3334148\ttotal: 289ms\tremaining: 844ms\n",
      "51:\tlearn: 0.3299847\ttotal: 294ms\tremaining: 837ms\n",
      "52:\tlearn: 0.3280110\ttotal: 300ms\tremaining: 832ms\n",
      "53:\tlearn: 0.3252961\ttotal: 305ms\tremaining: 824ms\n",
      "54:\tlearn: 0.3233621\ttotal: 310ms\tremaining: 816ms\n",
      "55:\tlearn: 0.3207172\ttotal: 316ms\tremaining: 814ms\n",
      "56:\tlearn: 0.3181249\ttotal: 321ms\tremaining: 806ms\n",
      "57:\tlearn: 0.3161254\ttotal: 326ms\tremaining: 799ms\n",
      "58:\tlearn: 0.3140861\ttotal: 333ms\tremaining: 796ms\n",
      "59:\tlearn: 0.3127501\ttotal: 338ms\tremaining: 788ms\n",
      "60:\tlearn: 0.3110175\ttotal: 343ms\tremaining: 781ms\n",
      "61:\tlearn: 0.3082383\ttotal: 349ms\tremaining: 776ms\n",
      "62:\tlearn: 0.3058924\ttotal: 355ms\tremaining: 771ms\n",
      "63:\tlearn: 0.3034503\ttotal: 361ms\tremaining: 767ms\n",
      "64:\tlearn: 0.3007585\ttotal: 366ms\tremaining: 760ms\n",
      "65:\tlearn: 0.2989303\ttotal: 371ms\tremaining: 753ms\n",
      "66:\tlearn: 0.2974695\ttotal: 378ms\tremaining: 750ms\n",
      "67:\tlearn: 0.2952234\ttotal: 384ms\tremaining: 745ms\n",
      "68:\tlearn: 0.2917672\ttotal: 391ms\tremaining: 743ms\n",
      "69:\tlearn: 0.2904015\ttotal: 394ms\tremaining: 732ms\n",
      "70:\tlearn: 0.2882877\ttotal: 399ms\tremaining: 725ms\n",
      "71:\tlearn: 0.2864031\ttotal: 405ms\tremaining: 721ms\n",
      "72:\tlearn: 0.2847410\ttotal: 413ms\tremaining: 718ms\n",
      "73:\tlearn: 0.2831286\ttotal: 418ms\tremaining: 712ms\n",
      "74:\tlearn: 0.2805571\ttotal: 425ms\tremaining: 708ms\n",
      "75:\tlearn: 0.2788848\ttotal: 430ms\tremaining: 702ms\n",
      "76:\tlearn: 0.2761907\ttotal: 438ms\tremaining: 699ms\n",
      "77:\tlearn: 0.2749625\ttotal: 443ms\tremaining: 693ms\n",
      "78:\tlearn: 0.2733984\ttotal: 448ms\tremaining: 687ms\n",
      "79:\tlearn: 0.2723307\ttotal: 456ms\tremaining: 684ms\n",
      "80:\tlearn: 0.2710214\ttotal: 461ms\tremaining: 678ms\n",
      "81:\tlearn: 0.2699080\ttotal: 467ms\tremaining: 672ms\n",
      "82:\tlearn: 0.2683451\ttotal: 472ms\tremaining: 665ms\n",
      "83:\tlearn: 0.2669487\ttotal: 477ms\tremaining: 659ms\n",
      "84:\tlearn: 0.2647716\ttotal: 483ms\tremaining: 654ms\n",
      "85:\tlearn: 0.2634680\ttotal: 488ms\tremaining: 647ms\n",
      "86:\tlearn: 0.2622303\ttotal: 493ms\tremaining: 641ms\n",
      "87:\tlearn: 0.2605533\ttotal: 500ms\tremaining: 636ms\n",
      "88:\tlearn: 0.2595138\ttotal: 506ms\tremaining: 631ms\n",
      "89:\tlearn: 0.2585753\ttotal: 514ms\tremaining: 628ms\n",
      "90:\tlearn: 0.2569455\ttotal: 519ms\tremaining: 621ms\n",
      "91:\tlearn: 0.2560611\ttotal: 525ms\tremaining: 616ms\n",
      "92:\tlearn: 0.2544070\ttotal: 532ms\tremaining: 612ms\n",
      "93:\tlearn: 0.2517868\ttotal: 537ms\tremaining: 605ms\n",
      "94:\tlearn: 0.2507386\ttotal: 542ms\tremaining: 599ms\n",
      "95:\tlearn: 0.2495004\ttotal: 547ms\tremaining: 593ms\n",
      "96:\tlearn: 0.2474200\ttotal: 554ms\tremaining: 588ms\n",
      "97:\tlearn: 0.2461638\ttotal: 560ms\tremaining: 583ms\n",
      "98:\tlearn: 0.2450345\ttotal: 565ms\tremaining: 576ms\n",
      "99:\tlearn: 0.2444111\ttotal: 570ms\tremaining: 570ms\n",
      "100:\tlearn: 0.2437353\ttotal: 577ms\tremaining: 566ms\n",
      "101:\tlearn: 0.2431478\ttotal: 582ms\tremaining: 559ms\n",
      "102:\tlearn: 0.2418609\ttotal: 587ms\tremaining: 553ms\n",
      "103:\tlearn: 0.2410050\ttotal: 594ms\tremaining: 548ms\n",
      "104:\tlearn: 0.2404146\ttotal: 599ms\tremaining: 542ms\n",
      "105:\tlearn: 0.2383649\ttotal: 604ms\tremaining: 536ms\n",
      "106:\tlearn: 0.2375381\ttotal: 612ms\tremaining: 532ms\n",
      "107:\tlearn: 0.2356240\ttotal: 617ms\tremaining: 525ms\n",
      "108:\tlearn: 0.2348428\ttotal: 624ms\tremaining: 521ms\n",
      "109:\tlearn: 0.2339522\ttotal: 627ms\tremaining: 513ms\n",
      "110:\tlearn: 0.2323986\ttotal: 632ms\tremaining: 507ms\n",
      "111:\tlearn: 0.2311732\ttotal: 640ms\tremaining: 503ms\n",
      "112:\tlearn: 0.2300730\ttotal: 646ms\tremaining: 497ms\n",
      "113:\tlearn: 0.2292724\ttotal: 652ms\tremaining: 492ms\n",
      "114:\tlearn: 0.2286512\ttotal: 656ms\tremaining: 485ms\n",
      "115:\tlearn: 0.2267089\ttotal: 661ms\tremaining: 479ms\n",
      "116:\tlearn: 0.2256888\ttotal: 667ms\tremaining: 473ms\n",
      "117:\tlearn: 0.2250617\ttotal: 672ms\tremaining: 467ms\n",
      "118:\tlearn: 0.2242462\ttotal: 677ms\tremaining: 461ms\n",
      "119:\tlearn: 0.2233604\ttotal: 684ms\tremaining: 456ms\n",
      "120:\tlearn: 0.2222975\ttotal: 689ms\tremaining: 450ms\n",
      "121:\tlearn: 0.2217859\ttotal: 694ms\tremaining: 443ms\n",
      "122:\tlearn: 0.2206889\ttotal: 702ms\tremaining: 439ms\n",
      "123:\tlearn: 0.2184409\ttotal: 708ms\tremaining: 434ms\n",
      "124:\tlearn: 0.2175196\ttotal: 715ms\tremaining: 429ms\n",
      "125:\tlearn: 0.2156052\ttotal: 720ms\tremaining: 423ms\n",
      "126:\tlearn: 0.2149540\ttotal: 726ms\tremaining: 417ms\n",
      "127:\tlearn: 0.2133339\ttotal: 732ms\tremaining: 412ms\n",
      "128:\tlearn: 0.2120956\ttotal: 737ms\tremaining: 406ms\n",
      "129:\tlearn: 0.2102807\ttotal: 742ms\tremaining: 400ms\n",
      "130:\tlearn: 0.2091413\ttotal: 748ms\tremaining: 394ms\n",
      "131:\tlearn: 0.2083858\ttotal: 754ms\tremaining: 388ms\n",
      "132:\tlearn: 0.2082139\ttotal: 755ms\tremaining: 380ms\n",
      "133:\tlearn: 0.2075806\ttotal: 762ms\tremaining: 376ms\n",
      "134:\tlearn: 0.2065749\ttotal: 767ms\tremaining: 369ms\n",
      "135:\tlearn: 0.2056529\ttotal: 772ms\tremaining: 364ms\n",
      "136:\tlearn: 0.2050428\ttotal: 779ms\tremaining: 358ms\n",
      "137:\tlearn: 0.2044387\ttotal: 784ms\tremaining: 352ms\n",
      "138:\tlearn: 0.2039460\ttotal: 790ms\tremaining: 347ms\n",
      "139:\tlearn: 0.2023206\ttotal: 795ms\tremaining: 341ms\n",
      "140:\tlearn: 0.2013544\ttotal: 800ms\tremaining: 335ms\n",
      "141:\tlearn: 0.2001691\ttotal: 805ms\tremaining: 329ms\n",
      "142:\tlearn: 0.1991756\ttotal: 811ms\tremaining: 323ms\n",
      "143:\tlearn: 0.1982775\ttotal: 816ms\tremaining: 317ms\n",
      "144:\tlearn: 0.1972000\ttotal: 823ms\tremaining: 312ms\n",
      "145:\tlearn: 0.1954370\ttotal: 829ms\tremaining: 306ms\n",
      "146:\tlearn: 0.1943625\ttotal: 835ms\tremaining: 301ms\n",
      "147:\tlearn: 0.1933603\ttotal: 842ms\tremaining: 296ms\n",
      "148:\tlearn: 0.1923451\ttotal: 848ms\tremaining: 290ms\n",
      "149:\tlearn: 0.1909043\ttotal: 855ms\tremaining: 285ms\n",
      "150:\tlearn: 0.1900798\ttotal: 861ms\tremaining: 279ms\n",
      "151:\tlearn: 0.1896075\ttotal: 868ms\tremaining: 274ms\n",
      "152:\tlearn: 0.1886362\ttotal: 876ms\tremaining: 269ms\n",
      "153:\tlearn: 0.1879743\ttotal: 886ms\tremaining: 265ms\n",
      "154:\tlearn: 0.1872903\ttotal: 891ms\tremaining: 259ms\n",
      "155:\tlearn: 0.1858487\ttotal: 897ms\tremaining: 253ms\n",
      "156:\tlearn: 0.1847557\ttotal: 904ms\tremaining: 248ms\n",
      "157:\tlearn: 0.1834748\ttotal: 910ms\tremaining: 242ms\n",
      "158:\tlearn: 0.1827393\ttotal: 916ms\tremaining: 236ms\n",
      "159:\tlearn: 0.1820029\ttotal: 922ms\tremaining: 231ms\n",
      "160:\tlearn: 0.1814870\ttotal: 931ms\tremaining: 226ms\n",
      "161:\tlearn: 0.1807143\ttotal: 938ms\tremaining: 220ms\n",
      "162:\tlearn: 0.1788792\ttotal: 946ms\tremaining: 215ms\n",
      "163:\tlearn: 0.1781223\ttotal: 953ms\tremaining: 209ms\n",
      "164:\tlearn: 0.1778573\ttotal: 961ms\tremaining: 204ms\n",
      "165:\tlearn: 0.1774994\ttotal: 967ms\tremaining: 198ms\n",
      "166:\tlearn: 0.1766472\ttotal: 972ms\tremaining: 192ms\n",
      "167:\tlearn: 0.1753854\ttotal: 978ms\tremaining: 186ms\n",
      "168:\tlearn: 0.1740620\ttotal: 983ms\tremaining: 180ms\n",
      "169:\tlearn: 0.1731421\ttotal: 989ms\tremaining: 175ms\n",
      "170:\tlearn: 0.1723542\ttotal: 995ms\tremaining: 169ms\n",
      "171:\tlearn: 0.1716360\ttotal: 1000ms\tremaining: 163ms\n",
      "172:\tlearn: 0.1705085\ttotal: 1.01s\tremaining: 157ms\n",
      "173:\tlearn: 0.1694723\ttotal: 1.01s\tremaining: 151ms\n",
      "174:\tlearn: 0.1688626\ttotal: 1.02s\tremaining: 145ms\n",
      "175:\tlearn: 0.1682950\ttotal: 1.02s\tremaining: 140ms\n",
      "176:\tlearn: 0.1674069\ttotal: 1.03s\tremaining: 134ms\n",
      "177:\tlearn: 0.1672303\ttotal: 1.03s\tremaining: 128ms\n",
      "178:\tlearn: 0.1666822\ttotal: 1.04s\tremaining: 122ms\n",
      "179:\tlearn: 0.1660508\ttotal: 1.04s\tremaining: 116ms\n",
      "180:\tlearn: 0.1653085\ttotal: 1.05s\tremaining: 110ms\n",
      "181:\tlearn: 0.1643963\ttotal: 1.06s\tremaining: 105ms\n",
      "182:\tlearn: 0.1635574\ttotal: 1.06s\tremaining: 98.6ms\n",
      "183:\tlearn: 0.1627505\ttotal: 1.07s\tremaining: 93ms\n",
      "184:\tlearn: 0.1620530\ttotal: 1.07s\tremaining: 87.2ms\n",
      "185:\tlearn: 0.1616087\ttotal: 1.08s\tremaining: 81.3ms\n",
      "186:\tlearn: 0.1606996\ttotal: 1.09s\tremaining: 75.5ms\n",
      "187:\tlearn: 0.1597629\ttotal: 1.09s\tremaining: 69.6ms\n",
      "188:\tlearn: 0.1590408\ttotal: 1.1s\tremaining: 63.9ms\n",
      "189:\tlearn: 0.1586038\ttotal: 1.1s\tremaining: 58.1ms\n",
      "190:\tlearn: 0.1578480\ttotal: 1.11s\tremaining: 52.2ms\n",
      "191:\tlearn: 0.1571188\ttotal: 1.11s\tremaining: 46.5ms\n",
      "192:\tlearn: 0.1561423\ttotal: 1.12s\tremaining: 40.6ms\n",
      "193:\tlearn: 0.1555195\ttotal: 1.13s\tremaining: 34.8ms\n",
      "194:\tlearn: 0.1541191\ttotal: 1.13s\tremaining: 29ms\n",
      "195:\tlearn: 0.1528584\ttotal: 1.14s\tremaining: 23.2ms\n",
      "196:\tlearn: 0.1519591\ttotal: 1.14s\tremaining: 17.4ms\n",
      "197:\tlearn: 0.1513487\ttotal: 1.15s\tremaining: 11.6ms\n",
      "198:\tlearn: 0.1508775\ttotal: 1.15s\tremaining: 5.79ms\n",
      "199:\tlearn: 0.1496718\ttotal: 1.16s\tremaining: 0us\n"
     ]
    }
   ],
   "source": [
    "catb_tuned=CatBoostClassifier(iterations=200,learning_rate=0.03,depth=8).fit(X_train,y_train)"
   ]
  },
  {
   "cell_type": "code",
   "execution_count": 152,
   "metadata": {},
   "outputs": [],
   "source": [
    "y_pred=catb_tuned.predict(X_test)"
   ]
  },
  {
   "cell_type": "code",
   "execution_count": 153,
   "metadata": {},
   "outputs": [
    {
     "data": {
      "text/plain": [
       "0.7619047619047619"
      ]
     },
     "execution_count": 153,
     "metadata": {},
     "output_type": "execute_result"
    }
   ],
   "source": [
    "accuracy_score(y_test,y_pred)"
   ]
  },
  {
   "cell_type": "markdown",
   "metadata": {},
   "source": [
    "# LGBM"
   ]
  },
  {
   "cell_type": "markdown",
   "metadata": {},
   "source": [
    "# MODEL TAHMİN"
   ]
  },
  {
   "cell_type": "code",
   "execution_count": null,
   "metadata": {},
   "outputs": [],
   "source": [
    "!pip install lightgbm"
   ]
  },
  {
   "cell_type": "code",
   "execution_count": 154,
   "metadata": {},
   "outputs": [],
   "source": [
    "from lightgbm import LGBMClassifier"
   ]
  },
  {
   "cell_type": "code",
   "execution_count": 155,
   "metadata": {},
   "outputs": [],
   "source": [
    "lgbm_model=LGBMClassifier().fit(X_train,y_train)"
   ]
  },
  {
   "cell_type": "code",
   "execution_count": null,
   "metadata": {},
   "outputs": [],
   "source": [
    "?lgbm_model"
   ]
  },
  {
   "cell_type": "code",
   "execution_count": 156,
   "metadata": {},
   "outputs": [],
   "source": [
    "y_pred=lgbm_model.predict(X_test)"
   ]
  },
  {
   "cell_type": "code",
   "execution_count": 157,
   "metadata": {},
   "outputs": [
    {
     "data": {
      "text/plain": [
       "0.7619047619047619"
      ]
     },
     "execution_count": 157,
     "metadata": {},
     "output_type": "execute_result"
    }
   ],
   "source": [
    "accuracy_score(y_test,y_pred)"
   ]
  },
  {
   "cell_type": "markdown",
   "metadata": {},
   "source": [
    "# MODEL TUNİNG"
   ]
  },
  {
   "cell_type": "code",
   "execution_count": 158,
   "metadata": {},
   "outputs": [],
   "source": [
    "lgbm=LGBMClassifier()"
   ]
  },
  {
   "cell_type": "code",
   "execution_count": 159,
   "metadata": {},
   "outputs": [],
   "source": [
    "lgbm_params={'learning_rate':[0.001,0.01,0.1],\n",
    "            'n_estimators':[200,500,100],\n",
    "            'max_depth':[1,2,3,5,8]}"
   ]
  },
  {
   "cell_type": "code",
   "execution_count": 160,
   "metadata": {},
   "outputs": [
    {
     "name": "stdout",
     "output_type": "stream",
     "text": [
      "Fitting 10 folds for each of 45 candidates, totalling 450 fits\n"
     ]
    },
    {
     "name": "stderr",
     "output_type": "stream",
     "text": [
      "[Parallel(n_jobs=-1)]: Using backend LokyBackend with 4 concurrent workers.\n",
      "[Parallel(n_jobs=-1)]: Done  34 tasks      | elapsed:    0.9s\n",
      "[Parallel(n_jobs=-1)]: Done 276 tasks      | elapsed:   13.3s\n",
      "[Parallel(n_jobs=-1)]: Done 450 out of 450 | elapsed:   21.5s finished\n"
     ]
    }
   ],
   "source": [
    "lgbm_cv_model=GridSearchCV(lgbm,lgbm_params,cv=10,n_jobs=-1,verbose=2).fit(X_train,y_train)"
   ]
  },
  {
   "cell_type": "code",
   "execution_count": 161,
   "metadata": {},
   "outputs": [
    {
     "data": {
      "text/plain": [
       "{'learning_rate': 0.01, 'max_depth': 3, 'n_estimators': 500}"
      ]
     },
     "execution_count": 161,
     "metadata": {},
     "output_type": "execute_result"
    }
   ],
   "source": [
    "lgbm_cv_model.best_params_"
   ]
  },
  {
   "cell_type": "code",
   "execution_count": 162,
   "metadata": {},
   "outputs": [],
   "source": [
    "lgbm_tuned=LGBMClassifier(learning_rate=0.01,max_depth=3,n_estimators=500).fit(X_train,y_train)"
   ]
  },
  {
   "cell_type": "code",
   "execution_count": 163,
   "metadata": {},
   "outputs": [],
   "source": [
    "y_pred=lgbm_tuned.predict(X_test)"
   ]
  },
  {
   "cell_type": "code",
   "execution_count": 164,
   "metadata": {},
   "outputs": [
    {
     "data": {
      "text/plain": [
       "0.7532467532467533"
      ]
     },
     "execution_count": 164,
     "metadata": {},
     "output_type": "execute_result"
    }
   ],
   "source": [
    "accuracy_score(y_test,y_pred)"
   ]
  },
  {
   "cell_type": "markdown",
   "metadata": {},
   "source": [
    "# XGBoost"
   ]
  },
  {
   "cell_type": "code",
   "execution_count": 177,
   "metadata": {},
   "outputs": [],
   "source": [
    "from xgboost import XGBClassifier"
   ]
  },
  {
   "cell_type": "code",
   "execution_count": 178,
   "metadata": {},
   "outputs": [],
   "source": [
    "xgb_model=XGBClassifier().fit(X_train,y_train)"
   ]
  },
  {
   "cell_type": "code",
   "execution_count": 179,
   "metadata": {},
   "outputs": [
    {
     "data": {
      "text/plain": [
       "\u001b[1;31mType:\u001b[0m        XGBClassifier\n",
       "\u001b[1;31mString form:\u001b[0m\n",
       "XGBClassifier(base_score=0.5, booster='gbtree', colsample_bylevel=1,\n",
       "           colsample_byno <...> _weight=1, subsample=1,\n",
       "           tree_method='exact', validate_parameters=1, verbosity=None)\n",
       "\u001b[1;31mFile:\u001b[0m        c:\\users\\onur\\anaconda3\\envs\\test_conda_env\\lib\\site-packages\\xgboost\\sklearn.py\n",
       "\u001b[1;31mDocstring:\u001b[0m  \n",
       "Implementation of the scikit-learn API for XGBoost classification.\n",
       "\n",
       "\n",
       "Parameters\n",
       "----------\n",
       "\n",
       "    max_depth : int\n",
       "        Maximum tree depth for base learners.\n",
       "    learning_rate : float\n",
       "        Boosting learning rate (xgb's \"eta\")\n",
       "    verbosity : int\n",
       "        The degree of verbosity. Valid values are 0 (silent) - 3 (debug).\n",
       "    objective : string or callable\n",
       "        Specify the learning task and the corresponding learning objective or\n",
       "        a custom objective function to be used (see note below).\n",
       "    booster: string\n",
       "        Specify which booster to use: gbtree, gblinear or dart.\n",
       "    tree_method: string\n",
       "        Specify which tree method to use.  Default to auto.  If this parameter\n",
       "        is set to default, XGBoost will choose the most conservative option\n",
       "        available.  It's recommended to study this option from parameters\n",
       "        document.\n",
       "    n_jobs : int\n",
       "        Number of parallel threads used to run xgboost.\n",
       "    gamma : float\n",
       "        Minimum loss reduction required to make a further partition on a leaf\n",
       "        node of the tree.\n",
       "    min_child_weight : int\n",
       "        Minimum sum of instance weight(hessian) needed in a child.\n",
       "    max_delta_step : int\n",
       "        Maximum delta step we allow each tree's weight estimation to be.\n",
       "    subsample : float\n",
       "        Subsample ratio of the training instance.\n",
       "    colsample_bytree : float\n",
       "        Subsample ratio of columns when constructing each tree.\n",
       "    colsample_bylevel : float\n",
       "        Subsample ratio of columns for each level.\n",
       "    colsample_bynode : float\n",
       "        Subsample ratio of columns for each split.\n",
       "    reg_alpha : float (xgb's alpha)\n",
       "        L1 regularization term on weights\n",
       "    reg_lambda : float (xgb's lambda)\n",
       "        L2 regularization term on weights\n",
       "    scale_pos_weight : float\n",
       "        Balancing of positive and negative weights.\n",
       "    base_score:\n",
       "        The initial prediction score of all instances, global bias.\n",
       "    random_state : int\n",
       "        Random number seed.\n",
       "\n",
       "        .. note::\n",
       "\n",
       "           Using gblinear booster with shotgun updater is nondeterministic as\n",
       "           it uses Hogwild algorithm.\n",
       "\n",
       "    missing : float, default np.nan\n",
       "        Value in the data which needs to be present as a missing value.\n",
       "    num_parallel_tree: int\n",
       "        Used for boosting random forest.\n",
       "    monotone_constraints : str\n",
       "        Constraint of variable monotonicity.  See tutorial for more\n",
       "        information.\n",
       "    interaction_constraints : str\n",
       "        Constraints for interaction representing permitted interactions.  The\n",
       "        constraints must be specified in the form of a nest list, e.g. [[0, 1],\n",
       "        [2, 3, 4]], where each inner list is a group of indices of features\n",
       "        that are allowed to interact with each other.  See tutorial for more\n",
       "        information\n",
       "    importance_type: string, default \"gain\"\n",
       "        The feature importance type for the feature_importances\\_ property:\n",
       "        either \"gain\", \"weight\", \"cover\", \"total_gain\" or \"total_cover\".\n",
       "\n",
       "    \\*\\*kwargs : dict, optional\n",
       "        Keyword arguments for XGBoost Booster object.  Full documentation of\n",
       "        parameters can be found here:\n",
       "        https://github.com/dmlc/xgboost/blob/master/doc/parameter.rst.\n",
       "        Attempting to set a parameter via the constructor args and \\*\\*kwargs\n",
       "        dict simultaneously will result in a TypeError.\n",
       "\n",
       "        .. note:: \\*\\*kwargs unsupported by scikit-learn\n",
       "\n",
       "            \\*\\*kwargs is unsupported by scikit-learn.  We do not guarantee\n",
       "            that parameters passed via this argument will interact properly\n",
       "            with scikit-learn.\n",
       "\n",
       "        .. note::  Custom objective function\n",
       "\n",
       "            A custom objective function can be provided for the ``objective``\n",
       "            parameter. In this case, it should have the signature\n",
       "            ``objective(y_true, y_pred) -> grad, hess``:\n",
       "\n",
       "            y_true: array_like of shape [n_samples]\n",
       "                The target values\n",
       "            y_pred: array_like of shape [n_samples]\n",
       "                The predicted values\n",
       "\n",
       "            grad: array_like of shape [n_samples]\n",
       "                The value of the gradient for each sample point.\n",
       "            hess: array_like of shape [n_samples]\n",
       "                The value of the second derivative for each sample point\n"
      ]
     },
     "metadata": {},
     "output_type": "display_data"
    }
   ],
   "source": [
    "?xgb_model"
   ]
  },
  {
   "cell_type": "code",
   "execution_count": 180,
   "metadata": {},
   "outputs": [],
   "source": [
    "y_pred=xgb_model.predict(X_test)"
   ]
  },
  {
   "cell_type": "code",
   "execution_count": 181,
   "metadata": {},
   "outputs": [
    {
     "data": {
      "text/plain": [
       "0.7619047619047619"
      ]
     },
     "execution_count": 181,
     "metadata": {},
     "output_type": "execute_result"
    }
   ],
   "source": [
    "accuracy_score(y_test,y_pred)"
   ]
  },
  {
   "cell_type": "markdown",
   "metadata": {},
   "source": [
    "# MODEL TUNİNG"
   ]
  },
  {
   "cell_type": "code",
   "execution_count": 182,
   "metadata": {},
   "outputs": [],
   "source": [
    "xgb=XGBClassifier()"
   ]
  },
  {
   "cell_type": "code",
   "execution_count": 183,
   "metadata": {},
   "outputs": [],
   "source": [
    "xgb_params={'n_estimators':[100,500,1000],\n",
    "           'subsample':[0.6,0.8,1],  #göz önünde bulundurulacak örneklem oranı\n",
    "           'max_depth':[3,5,7],\n",
    "           'learning_rate':[0.1,0.01,0.001]} "
   ]
  },
  {
   "cell_type": "code",
   "execution_count": 184,
   "metadata": {},
   "outputs": [
    {
     "name": "stdout",
     "output_type": "stream",
     "text": [
      "Fitting 10 folds for each of 81 candidates, totalling 810 fits\n"
     ]
    },
    {
     "name": "stderr",
     "output_type": "stream",
     "text": [
      "[Parallel(n_jobs=-1)]: Using backend LokyBackend with 4 concurrent workers.\n",
      "[Parallel(n_jobs=-1)]: Done  58 tasks      | elapsed:    4.0s\n",
      "[Parallel(n_jobs=-1)]: Done 194 tasks      | elapsed:   24.8s\n",
      "[Parallel(n_jobs=-1)]: Done 397 tasks      | elapsed:   56.5s\n",
      "[Parallel(n_jobs=-1)]: Done 680 tasks      | elapsed:  2.0min\n",
      "[Parallel(n_jobs=-1)]: Done 810 out of 810 | elapsed:  2.7min finished\n"
     ]
    }
   ],
   "source": [
    "xgb_cv_model=GridSearchCV(xgb,xgb_params,cv=10,n_jobs=-1,verbose=2).fit(X_train,y_train)"
   ]
  },
  {
   "cell_type": "code",
   "execution_count": 185,
   "metadata": {},
   "outputs": [
    {
     "data": {
      "text/plain": [
       "{'learning_rate': 0.001, 'max_depth': 7, 'n_estimators': 500, 'subsample': 0.6}"
      ]
     },
     "execution_count": 185,
     "metadata": {},
     "output_type": "execute_result"
    }
   ],
   "source": [
    "xgb_cv_model.best_params_"
   ]
  },
  {
   "cell_type": "code",
   "execution_count": 186,
   "metadata": {},
   "outputs": [],
   "source": [
    "# final modeli"
   ]
  },
  {
   "cell_type": "code",
   "execution_count": 187,
   "metadata": {},
   "outputs": [],
   "source": [
    "xgb_tuned=XGBClassifier(learning_rate=0.001,max_depth=7,n_estimators=500,subsample=0.6).fit(X_train,y_train)"
   ]
  },
  {
   "cell_type": "code",
   "execution_count": 188,
   "metadata": {},
   "outputs": [],
   "source": [
    "y_pred=xgb_tuned.predict(X_test)"
   ]
  },
  {
   "cell_type": "code",
   "execution_count": 189,
   "metadata": {},
   "outputs": [
    {
     "data": {
      "text/plain": [
       "0.7619047619047619"
      ]
     },
     "execution_count": 189,
     "metadata": {},
     "output_type": "execute_result"
    }
   ],
   "source": [
    "accuracy_score(y_test,y_pred)"
   ]
  },
  {
   "cell_type": "code",
   "execution_count": null,
   "metadata": {},
   "outputs": [],
   "source": []
  },
  {
   "cell_type": "markdown",
   "metadata": {},
   "source": [
    "# TÜM MODELLERİN KARŞILAŞTIRILMASI"
   ]
  },
  {
   "cell_type": "code",
   "execution_count": 191,
   "metadata": {},
   "outputs": [],
   "source": [
    "models=[\n",
    "    knn_tuned,\n",
    "    log_model,\n",
    "    svm_tuned,\n",
    "    mlpc_tuned,\n",
    "    cart_tuned,\n",
    "    rf_model,     #rf_tuned olmalı\n",
    "    gbm_tuned,\n",
    "    catb_tuned,\n",
    "    lgbm_tuned,\n",
    "    xgb_tuned]\n",
    "\n",
    "sonuc=[]\n",
    "sonuclar=pd.DataFrame(columns=[\"Modeller\",\"Accuracy\"])\n",
    "\n",
    "for model in models:\n",
    "    isimler=model.__class__.__name__\n",
    "    y_pred=model.predict(X_test)\n",
    "    dogruluk=accuracy_score(y_test,y_pred)\n",
    "    sonuc=pd.DataFrame([[isimler,dogruluk*100]],columns=[\"Modeller\",\"Accuracy\"])\n",
    "    sonuclar=sonuclar.append(sonuc)"
   ]
  },
  {
   "cell_type": "code",
   "execution_count": 192,
   "metadata": {},
   "outputs": [
    {
     "data": {
      "text/plain": [
       "Text(0.5, 1.0, 'Modellerin Doğruluk Oranları')"
      ]
     },
     "execution_count": 192,
     "metadata": {},
     "output_type": "execute_result"
    },
    {
     "data": {
      "image/png": "[encoded data removed]",
      "text/plain": [
       "<Figure size 432x288 with 1 Axes>"
      ]
     },
     "metadata": {
      "needs_background": "light"
     },
     "output_type": "display_data"
    }
   ],
   "source": [
    "sns.barplot(x=\"Accuracy\",y=\"Modeller\",data=sonuclar,color=\"r\")\n",
    "plt.xlabel(\"Accuracy %\")\n",
    "plt.title(\"Modellerin Doğruluk Oranları\")"
   ]
  },
  {
   "cell_type": "code",
   "execution_count": 193,
   "metadata": {},
   "outputs": [
    {
     "data": {
      "text/html": [
       "<div>\n",
       "<style scoped>\n",
       "    .dataframe tbody tr th:only-of-type {\n",
       "        vertical-align: middle;\n",
       "    }\n",
       "\n",
       "    .dataframe tbody tr th {\n",
       "        vertical-align: top;\n",
       "    }\n",
       "\n",
       "    .dataframe thead th {\n",
       "        text-align: right;\n",
       "    }\n",
       "</style>\n",
       "<table border=\"1\" class=\"dataframe\">\n",
       "  <thead>\n",
       "    <tr style=\"text-align: right;\">\n",
       "      <th></th>\n",
       "      <th>Modeller</th>\n",
       "      <th>Accuracy</th>\n",
       "    </tr>\n",
       "  </thead>\n",
       "  <tbody>\n",
       "    <tr>\n",
       "      <th>0</th>\n",
       "      <td>KNeighborsClassifier</td>\n",
       "      <td>65.367965</td>\n",
       "    </tr>\n",
       "    <tr>\n",
       "      <th>0</th>\n",
       "      <td>LogisticRegression</td>\n",
       "      <td>65.367965</td>\n",
       "    </tr>\n",
       "    <tr>\n",
       "      <th>0</th>\n",
       "      <td>SVC</td>\n",
       "      <td>65.367965</td>\n",
       "    </tr>\n",
       "    <tr>\n",
       "      <th>0</th>\n",
       "      <td>MLPClassifier</td>\n",
       "      <td>75.324675</td>\n",
       "    </tr>\n",
       "    <tr>\n",
       "      <th>0</th>\n",
       "      <td>DecisionTreeClassifier</td>\n",
       "      <td>75.324675</td>\n",
       "    </tr>\n",
       "    <tr>\n",
       "      <th>0</th>\n",
       "      <td>RandomForestClassifier</td>\n",
       "      <td>75.324675</td>\n",
       "    </tr>\n",
       "    <tr>\n",
       "      <th>0</th>\n",
       "      <td>GradientBoostingClassifier</td>\n",
       "      <td>73.160173</td>\n",
       "    </tr>\n",
       "    <tr>\n",
       "      <th>0</th>\n",
       "      <td>CatBoostClassifier</td>\n",
       "      <td>76.190476</td>\n",
       "    </tr>\n",
       "    <tr>\n",
       "      <th>0</th>\n",
       "      <td>LGBMClassifier</td>\n",
       "      <td>75.324675</td>\n",
       "    </tr>\n",
       "    <tr>\n",
       "      <th>0</th>\n",
       "      <td>XGBClassifier</td>\n",
       "      <td>76.190476</td>\n",
       "    </tr>\n",
       "  </tbody>\n",
       "</table>\n",
       "</div>"
      ],
      "text/plain": [
       "                     Modeller   Accuracy\n",
       "0        KNeighborsClassifier  65.367965\n",
       "0          LogisticRegression  65.367965\n",
       "0                         SVC  65.367965\n",
       "0               MLPClassifier  75.324675\n",
       "0      DecisionTreeClassifier  75.324675\n",
       "0      RandomForestClassifier  75.324675\n",
       "0  GradientBoostingClassifier  73.160173\n",
       "0          CatBoostClassifier  76.190476\n",
       "0              LGBMClassifier  75.324675\n",
       "0               XGBClassifier  76.190476"
      ]
     },
     "execution_count": 193,
     "metadata": {},
     "output_type": "execute_result"
    }
   ],
   "source": [
    "sonuclar"
   ]
  },
  {
   "cell_type": "markdown",
   "metadata": {},
   "source": [
    "# Daha Başka Ne Yapılabilir ?"
   ]
  },
  {
   "cell_type": "markdown",
   "metadata": {},
   "source": [
    "1. Değişken Türetme / Değişken Mühendisliği (var olan veri setinden yeni değişkenler türetme)\n",
    "2. Değişken Seçme (mümkün olan en az değişken ile mümkün olan en iyi açıklamaya ulaşmak)\n",
    "3. Otomatik ML\n",
    "4. Model Deployment (kurmuş olduğumuz modelin neticesinde elimizde tahmin değerleri var. bunları bazı departmanlar excel formunda isteyebilir. o şekle çevirmektir. ya da canlı sistemlere entegre edebiliriz. web sitesi vs.)"
   ]
  },
  {
   "cell_type": "code",
   "execution_count": null,
   "metadata": {},
   "outputs": [],
   "source": []
  }
 ],
 "metadata": {
  "kernelspec": {
   "display_name": "machinelearning",
   "language": "python",
   "name": "machinelearning"
  },
  "language_info": {
   "codemirror_mode": {
    "name": "ipython",
    "version": 3
   },
   "file_extension": ".py",
   "mimetype": "text/x-python",
   "name": "python",
   "nbconvert_exporter": "python",
   "pygments_lexer": "ipython3",
   "version": "3.8.3"
  }
 },
 "nbformat": 4,
 "nbformat_minor": 4
}
