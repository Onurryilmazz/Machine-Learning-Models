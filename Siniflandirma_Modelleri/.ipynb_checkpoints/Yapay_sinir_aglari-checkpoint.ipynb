{
 "cells": [
  {
   "cell_type": "code",
   "execution_count": 69,
   "metadata": {},
   "outputs": [],
   "source": [
    "# Yapay Sinir Ağları Genellikle Homojen Veri Setlerinde Daha iyi çalışır. Standartlaşırma işleminin yapılmasını sever"
   ]
  },
  {
   "cell_type": "code",
   "execution_count": 1,
   "metadata": {},
   "outputs": [],
   "source": [
    "import numpy as np\n",
    "import pandas as pd\n",
    "import seaborn as sns\n",
    "import matplotlib.pyplot as plt\n",
    "from sklearn.preprocessing import scale , StandardScaler\n",
    "from sklearn.model_selection import GridSearchCV, train_test_split, cross_val_score\n",
    "from sklearn.metrics import confusion_matrix, accuracy_score, mean_squared_error, r2_score, roc_auc_score, roc_curve, classification_report\n",
    "from sklearn.linear_model import LogisticRegression\n",
    "from sklearn.neighbors import KNeighborsClassifier\n",
    "from sklearn.svm import SVC\n",
    "from sklearn.neural_network import MLPClassifier\n",
    "from sklearn.tree import DecisionTreeClassifier\n",
    "from sklearn.ensemble import RandomForestClassifier, GradientBoostingClassifier"
   ]
  },
  {
   "cell_type": "code",
   "execution_count": 2,
   "metadata": {},
   "outputs": [],
   "source": [
    "import warnings\n",
    "warnings.filterwarnings(\"ignore\",category=DeprecationWarning)\n",
    "warnings.filterwarnings(\"ignore\",category=FutureWarning)"
   ]
  },
  {
   "cell_type": "code",
   "execution_count": 3,
   "metadata": {},
   "outputs": [],
   "source": [
    "df=pd.read_csv(r\"C:\\Users\\Onur\\Desktop\\Turkcell_MachineLearning\\diabetes.csv\")\n",
    "y=df[\"Outcome\"]\n",
    "X=df.drop([\"Outcome\"],axis=1)\n",
    "X_train,X_test,y_train,y_test=train_test_split(X,y, test_size=0.30, random_state=42)"
   ]
  },
  {
   "cell_type": "markdown",
   "metadata": {},
   "source": [
    "# model tahmin"
   ]
  },
  {
   "cell_type": "code",
   "execution_count": 5,
   "metadata": {},
   "outputs": [],
   "source": [
    "mlpc_mpdel=MLPClassifier().fit(X_train,y_train)"
   ]
  },
  {
   "cell_type": "code",
   "execution_count": 7,
   "metadata": {
    "collapsed": true,
    "jupyter": {
     "outputs_hidden": true
    }
   },
   "outputs": [
    {
     "data": {
      "text/plain": [
       "[array([[ 1.15163318e-01, -3.14815758e-02, -1.88412202e-03,\n",
       "         -1.92914092e-01, -4.99844776e-02,  6.48259880e-02,\n",
       "          9.84501239e-02, -6.23658813e-02,  1.18167815e-01,\n",
       "          3.92601848e-02, -1.49386561e-01,  1.53447216e-01,\n",
       "         -1.09498151e-01, -1.11398538e-01, -1.17837410e-02,\n",
       "         -7.77132176e-02, -1.07612940e-01, -1.38236756e-01,\n",
       "         -2.86229420e-02, -3.61601475e-02,  2.70932211e-01,\n",
       "         -7.82821809e-05, -4.04898874e-02, -1.36628299e-01,\n",
       "          3.63161048e-02, -2.23481110e-01, -5.22086718e-02,\n",
       "          1.17218892e-01,  3.80718299e-02, -1.78706693e-01,\n",
       "          3.89682675e-02,  9.12962420e-02,  7.65315070e-02,\n",
       "         -3.35295194e-02,  4.90207281e-02, -1.19007258e-02,\n",
       "         -1.69900173e-01, -1.65368372e-03, -4.32739423e-02,\n",
       "          6.01785505e-02,  1.81460005e-01,  1.65864398e-01,\n",
       "          2.36159106e-02, -8.56168048e-02, -1.13409387e-03,\n",
       "          1.83731898e-01,  3.64155135e-04, -4.29377731e-02,\n",
       "         -3.64164101e-02, -2.00697779e-01, -1.03467949e-02,\n",
       "         -1.38670046e-01, -2.28003796e-01,  1.51395611e-01,\n",
       "         -1.40966598e-01, -5.36783005e-02,  1.43812698e-02,\n",
       "          1.31805881e-01, -3.17697782e-02, -2.24903756e-01,\n",
       "         -2.26689891e-01, -8.31518061e-02, -1.51900122e-01,\n",
       "          2.33361915e-01,  2.01113191e-02, -6.57257490e-04,\n",
       "          1.73863051e-01, -2.05984793e-01,  6.39875904e-02,\n",
       "          8.02269948e-03, -1.14690196e-01,  2.02360655e-01,\n",
       "         -4.68998956e-03,  1.30306549e-01, -5.95575261e-02,\n",
       "         -1.03117977e-01, -4.18245200e-02,  9.90898333e-02,\n",
       "          7.23412929e-02,  1.46506217e-01,  4.43350566e-03,\n",
       "          5.11188413e-02,  1.33813640e-01, -4.70191449e-02,\n",
       "         -8.85253018e-02, -8.55271625e-02,  1.97412293e-01,\n",
       "         -8.65658413e-03,  5.63413011e-02,  1.28504620e-01,\n",
       "         -4.33649407e-02, -6.10159412e-02, -3.20653430e-02,\n",
       "          1.84331018e-01,  1.83692518e-03,  1.67663341e-01,\n",
       "          1.06953181e-01,  1.36599372e-01, -2.72739679e-01,\n",
       "         -1.16484107e-01],\n",
       "        [ 2.31295680e-01,  6.21956848e-02, -9.80690288e-06,\n",
       "         -5.58697217e-02,  1.36878299e-01,  1.01653605e-01,\n",
       "          9.82913743e-02, -2.47121970e-01, -1.16918287e-01,\n",
       "          6.21597736e-02,  1.08797898e-01,  4.88612531e-02,\n",
       "          1.91669149e-01, -3.11182462e-02,  2.20065580e-03,\n",
       "         -3.99750261e-02,  5.98897319e-02,  1.85396810e-02,\n",
       "         -1.93702590e-02, -6.37090312e-03,  1.98717472e-01,\n",
       "         -3.07591722e-03,  1.15524378e-02,  1.12720787e-01,\n",
       "         -6.43504884e-02,  1.19729626e-01,  1.48535452e-01,\n",
       "         -2.23035042e-01,  2.19226771e-01,  3.14300921e-02,\n",
       "          1.44588704e-01,  6.66314677e-02, -9.38438085e-02,\n",
       "          5.44062322e-02, -2.04080343e-02,  2.06509877e-01,\n",
       "          2.13951320e-01, -1.47404291e-04, -1.41695704e-01,\n",
       "         -7.72065666e-03, -9.82446321e-02, -1.12937099e-01,\n",
       "          5.40427940e-02,  2.32703790e-01,  7.25317420e-02,\n",
       "         -1.14701200e-01, -2.32250738e-04,  2.07043913e-01,\n",
       "          9.16949848e-02, -7.79330638e-02, -3.68065901e-02,\n",
       "         -1.38129991e-01, -9.53674576e-02,  1.16099396e-01,\n",
       "          3.81192458e-02, -1.10288766e-01,  2.13470662e-01,\n",
       "          1.44854117e-02,  1.42762803e-01, -1.96304648e-01,\n",
       "         -7.45935993e-02,  1.10980946e-01,  9.41353333e-02,\n",
       "          5.15104747e-02,  2.21926089e-01,  1.25297541e-01,\n",
       "          7.14651350e-02,  1.73145883e-01, -2.89439291e-02,\n",
       "         -6.37288331e-03,  1.65990754e-01,  1.58785367e-01,\n",
       "         -2.27472396e-05,  1.63836274e-01, -5.54956281e-02,\n",
       "          2.68835028e-02, -1.90499388e-01, -1.17239976e-01,\n",
       "         -2.66475097e-01,  3.53157580e-02, -8.01724096e-06,\n",
       "         -1.40324748e-01,  8.38901355e-02, -4.66226032e-02,\n",
       "          1.24208710e-01,  1.84466517e-01,  1.24125517e-01,\n",
       "          1.07079097e-01,  1.49853720e-01, -1.91010128e-01,\n",
       "          8.96350027e-02,  2.09082522e-01,  7.71500243e-02,\n",
       "          2.28375471e-01,  1.56030794e-02, -4.31266927e-02,\n",
       "          2.05637926e-01, -1.14915436e-01,  1.21482256e-01,\n",
       "          1.67418772e-01],\n",
       "        [ 2.41676132e-02,  2.05314455e-01, -3.09290570e-02,\n",
       "          1.66559529e-01,  2.28589803e-01,  1.19986471e-01,\n",
       "          7.18990641e-02,  1.37576338e-02,  1.42453005e-01,\n",
       "         -1.82583656e-01,  7.58368358e-02, -8.64823337e-02,\n",
       "          1.82674279e-01,  7.71824234e-02, -1.00419160e-01,\n",
       "         -6.13189704e-02,  1.68186222e-01,  8.43981884e-02,\n",
       "         -5.17537358e-02, -3.31599821e-02,  9.13570550e-02,\n",
       "          4.14041396e-04, -1.07660939e-01, -1.12468447e-01,\n",
       "          1.45638903e-01, -2.45879868e-01,  2.17210023e-01,\n",
       "         -1.78031857e-02,  1.46186636e-02, -1.36807100e-01,\n",
       "          1.94632700e-01,  9.61574466e-02, -1.96053880e-01,\n",
       "          2.16005905e-01,  7.68025721e-05, -1.53438365e-01,\n",
       "         -1.01452464e-01, -2.23884658e-03,  2.04498477e-01,\n",
       "         -1.42531580e-01, -2.67399285e-02,  1.55018896e-01,\n",
       "          2.32104745e-02,  1.59412214e-01,  2.05699580e-01,\n",
       "          2.40344583e-01, -5.50291681e-02, -6.48645230e-02,\n",
       "          1.55796477e-01,  2.17872892e-01, -1.80720111e-02,\n",
       "          2.25879450e-02,  1.40301752e-01, -1.80150218e-01,\n",
       "          8.99106104e-02, -2.56277500e-01, -3.21702772e-02,\n",
       "         -1.29556602e-01,  2.52733902e-02,  1.02339261e-01,\n",
       "         -2.51325526e-02, -1.47173012e-01,  1.33888581e-01,\n",
       "          1.95993810e-01, -1.72301371e-01,  2.26525677e-01,\n",
       "         -1.31012704e-02, -1.14288992e-01, -2.05306955e-02,\n",
       "         -7.21468127e-07, -3.16534805e-02, -1.46677734e-02,\n",
       "          4.43526083e-03, -1.41901032e-01,  6.38192980e-04,\n",
       "          1.46017960e-02,  2.10022849e-01, -7.55054712e-02,\n",
       "          1.79169143e-01, -3.03135602e-02,  3.50901591e-07,\n",
       "          1.62876855e-01, -4.23659429e-02,  9.89036949e-02,\n",
       "          1.13943551e-01,  2.27233104e-01, -1.40596590e-01,\n",
       "         -7.20951599e-02, -2.71336114e-02, -6.17394531e-02,\n",
       "          5.15312059e-02, -1.13460150e-01, -8.16276730e-02,\n",
       "         -7.71815643e-02, -3.61925764e-02,  9.99250016e-02,\n",
       "         -6.45231045e-02,  1.74573739e-01, -2.04095295e-01,\n",
       "          5.78231512e-02],\n",
       "        [-1.19907605e-01,  1.07216953e-01,  3.51920696e-02,\n",
       "         -2.30861689e-01, -1.21236228e-01,  1.89113221e-01,\n",
       "          1.26621369e-02, -6.03540996e-02,  2.11445484e-02,\n",
       "         -1.52093061e-02, -7.17975716e-02,  1.27095003e-02,\n",
       "         -2.86544773e-02, -2.22493780e-02,  5.83149285e-02,\n",
       "         -1.94450241e-02, -2.24026088e-01,  2.22427703e-01,\n",
       "         -3.85800660e-02,  4.35957376e-04, -2.03079555e-01,\n",
       "         -3.14260558e-03,  3.01342916e-01,  2.06366873e-01,\n",
       "          1.68077439e-01, -4.96627885e-02, -5.42341337e-02,\n",
       "          1.20295260e-01,  3.38306019e-02,  1.84288295e-01,\n",
       "         -8.57794232e-02,  1.80266657e-01, -1.77441159e-01,\n",
       "          1.44073339e-01,  2.58660409e-02, -1.52928121e-01,\n",
       "          2.39016916e-01, -4.20213020e-02,  1.96795869e-02,\n",
       "          1.14047425e-01,  2.08582867e-01,  1.77357302e-01,\n",
       "          2.13615903e-01, -6.25024599e-02,  8.79188332e-02,\n",
       "         -1.54979576e-01,  2.74300284e-05, -6.07383540e-02,\n",
       "         -2.10607214e-01, -2.65227426e-01, -5.91940635e-03,\n",
       "         -1.07448470e-01, -1.91015459e-01, -6.75441361e-02,\n",
       "          1.65912875e-01, -1.71503559e-01, -3.45016815e-04,\n",
       "         -1.29130185e-01, -1.58853774e-01,  1.01168623e-02,\n",
       "         -3.14647185e-01, -1.23343620e-02,  2.06751465e-01,\n",
       "          4.27155002e-02,  1.94070508e-01, -6.20280138e-02,\n",
       "         -2.09694232e-01, -6.47122089e-02, -4.03382056e-02,\n",
       "         -8.55233191e-06,  9.61606254e-02,  2.22407505e-02,\n",
       "         -1.46764045e-04, -9.55869709e-02, -2.59728294e-02,\n",
       "          1.08288718e-01, -1.50858680e-01, -1.52299479e-01,\n",
       "         -7.25108213e-02,  1.94322528e-01, -2.45977616e-02,\n",
       "         -6.74439020e-02,  1.63181448e-01,  1.97117463e-01,\n",
       "         -7.41418892e-02, -1.81551708e-01,  2.00999898e-01,\n",
       "          8.86518533e-02, -1.43373403e-01,  8.99660722e-02,\n",
       "         -2.28664576e-01, -4.08495257e-02, -5.53695579e-02,\n",
       "         -2.17088760e-01, -8.73839857e-02,  1.64404380e-01,\n",
       "         -1.22574708e-03, -1.86178390e-01,  1.69852441e-01,\n",
       "          1.42752145e-01],\n",
       "        [ 9.72002090e-02, -1.25777715e-01, -1.23599540e-02,\n",
       "         -1.12895806e-01, -7.01380802e-02,  1.38708072e-01,\n",
       "         -4.63280847e-02, -2.08648044e-01, -7.30347982e-02,\n",
       "         -3.08179909e-02, -2.29507463e-02,  7.95929028e-03,\n",
       "         -1.31874998e-01,  1.21118983e-01, -3.77216410e-03,\n",
       "          9.47353480e-02,  1.92463660e-01, -3.20295391e-02,\n",
       "         -1.41464238e-03, -1.06373059e-02,  1.16248944e-01,\n",
       "         -2.32331440e-04, -6.85279200e-03,  1.66437617e-01,\n",
       "         -4.95764244e-02, -2.04546193e-02, -6.03660631e-02,\n",
       "          5.65533700e-02,  1.91490604e-01, -1.86531954e-01,\n",
       "          6.44382518e-02,  2.08187357e-01,  1.88781008e-01,\n",
       "          1.03073496e-01,  1.71686663e-04, -4.75251467e-02,\n",
       "         -2.99174224e-02, -8.70439624e-04,  1.84880910e-01,\n",
       "          1.16959457e-01,  1.11303389e-01, -2.40088477e-02,\n",
       "         -1.81953793e-02,  1.50038778e-01,  2.41782401e-01,\n",
       "         -1.57086693e-01, -2.16598524e-02,  2.42141742e-01,\n",
       "          7.55277162e-02, -1.74448012e-01, -3.05512961e-02,\n",
       "          1.77067207e-01, -1.23614906e-01,  6.34827033e-02,\n",
       "          1.80022741e-01,  1.40911122e-01, -2.09029394e-01,\n",
       "          3.18054570e-02, -2.10839543e-01,  1.82559120e-01,\n",
       "          8.73465916e-02,  5.17367548e-02,  2.05950617e-01,\n",
       "         -4.73318494e-02,  4.90799929e-02, -1.43597078e-01,\n",
       "          5.88230550e-02, -8.59598640e-02, -8.74974373e-04,\n",
       "         -8.53247150e-05, -2.77823980e-03, -1.90508998e-01,\n",
       "         -2.57336168e-02, -5.32195440e-02, -4.70962467e-02,\n",
       "          3.35206017e-02,  2.62387045e-02,  4.30474006e-02,\n",
       "          1.44243937e-01, -2.63132692e-02, -4.16691778e-02,\n",
       "          2.09146114e-01,  1.13917061e-01, -2.35192748e-01,\n",
       "         -1.55788643e-01,  6.92345241e-02,  5.31927167e-02,\n",
       "          2.09011608e-01,  1.44964334e-01,  6.66556583e-02,\n",
       "         -1.08975629e-01,  2.15485962e-01, -2.14974185e-01,\n",
       "          1.52374223e-01, -2.01511815e-02, -5.06565281e-03,\n",
       "          2.19393956e-01,  1.69530710e-01,  1.26364961e-01,\n",
       "          1.37932601e-01],\n",
       "        [ 5.37076132e-02, -9.11898208e-02, -2.07345217e-02,\n",
       "         -1.03551401e-01,  6.44001390e-02, -7.06849090e-02,\n",
       "          1.57083113e-01,  7.43892092e-02,  4.61448895e-02,\n",
       "         -9.70679955e-02, -1.09629293e-01,  1.38095209e-01,\n",
       "         -6.71403306e-02, -8.20547511e-02, -1.51918644e-01,\n",
       "         -6.38421268e-03,  1.74342301e-01,  1.05153096e-01,\n",
       "         -6.52622928e-04, -1.88664015e-02, -4.31627672e-02,\n",
       "         -1.91077176e-02,  2.87127891e-01, -9.07806674e-02,\n",
       "          7.49548055e-02, -1.32818038e-01,  1.73056832e-01,\n",
       "          8.27682081e-02, -1.02082275e-01,  1.98134627e-01,\n",
       "          4.27828896e-02,  5.97500230e-02,  1.91111101e-01,\n",
       "          4.17692373e-02, -5.87646988e-02, -1.89178122e-01,\n",
       "          3.23460550e-02, -3.32336388e-03,  1.35274785e-01,\n",
       "         -1.30994609e-01, -2.03364627e-01,  1.24343928e-01,\n",
       "         -1.47350484e-01, -1.32222737e-02,  4.01262490e-02,\n",
       "          1.16307324e-02, -5.41474754e-02,  1.72604200e-01,\n",
       "          2.27360283e-01, -3.32761993e-02, -3.49470178e-02,\n",
       "         -1.92887368e-01,  1.45080228e-01,  1.05393265e-01,\n",
       "          1.11831994e-01, -2.24955967e-01,  1.61138416e-01,\n",
       "          1.19208571e-01,  2.15812151e-01,  3.68582457e-02,\n",
       "          1.96320434e-02,  7.39863922e-02,  2.11062590e-01,\n",
       "          1.21922720e-01,  3.78078756e-02, -8.83559390e-02,\n",
       "         -8.74342668e-03,  2.03557055e-02,  5.35994423e-02,\n",
       "         -3.44838951e-03, -1.41727234e-01, -3.61048961e-02,\n",
       "         -5.10007949e-02,  2.19329874e-01,  1.18617589e-02,\n",
       "         -2.20429097e-01,  7.83295218e-02,  1.77229297e-02,\n",
       "          5.78802576e-02,  1.19683734e-01,  2.72207502e-05,\n",
       "          1.28329360e-01, -1.83866590e-01, -1.73761907e-01,\n",
       "         -3.93279454e-03,  3.90781936e-02, -2.17255447e-01,\n",
       "          5.26408307e-02,  6.05796164e-02, -2.54124690e-02,\n",
       "         -1.51586926e-01,  1.84714407e-01, -1.67338397e-01,\n",
       "          1.17725613e-01,  9.64953772e-02,  1.76353768e-01,\n",
       "          4.29552653e-02, -1.49644606e-01,  1.91116849e-01,\n",
       "          1.28419151e-01],\n",
       "        [-1.69076274e-01, -2.10983873e-01, -4.61532366e-02,\n",
       "         -8.36371128e-02, -5.25121401e-02,  5.90165019e-02,\n",
       "          8.22818757e-02,  1.74162819e-01, -2.28880736e-01,\n",
       "         -1.75188915e-02, -6.41301730e-03, -8.93709369e-02,\n",
       "          4.14742367e-02, -1.11910912e-01,  3.05523803e-01,\n",
       "          9.38643526e-02,  1.04034959e-01,  2.56851813e-01,\n",
       "         -7.42355268e-04,  5.06440370e-04, -2.06438564e-01,\n",
       "          1.66492151e-02,  5.50181103e-02,  1.90351331e-01,\n",
       "         -3.51494107e-02,  1.53009877e-01,  1.93717932e-02,\n",
       "         -1.70795547e-01,  7.62973389e-02,  1.27289864e-01,\n",
       "         -3.09633367e-02, -2.38118753e-01,  1.96470771e-01,\n",
       "          5.72781953e-02,  1.16103039e-02,  1.26749095e-01,\n",
       "          1.37999150e-01, -1.25843213e-02, -7.21077293e-02,\n",
       "          1.72566372e-01, -4.46504030e-02,  3.03625940e-01,\n",
       "         -2.02354895e-01,  1.00734325e-01,  5.16209105e-02,\n",
       "         -1.34256685e-01, -5.42430701e-02,  2.88664285e-02,\n",
       "         -6.77495795e-02, -1.61288948e-01, -6.65664667e-02,\n",
       "          8.60157902e-02, -2.54218499e-02, -1.21880919e-01,\n",
       "         -1.89680044e-01, -2.22425419e-01,  1.85207622e-01,\n",
       "          1.23303527e-01, -1.54275403e-01, -2.28663186e-01,\n",
       "         -1.33885139e-01, -1.03100901e-01,  2.12992103e-02,\n",
       "         -8.86419687e-02, -1.53574239e-01, -1.20033497e-01,\n",
       "         -1.92695928e-01, -1.85151184e-01,  4.51864090e-03,\n",
       "         -4.81554857e-02,  7.38539081e-02, -2.52834365e-03,\n",
       "          2.90612049e-02,  9.02976604e-03,  6.13527008e-03,\n",
       "         -1.16511252e-01,  2.10667475e-01, -1.49245992e-01,\n",
       "         -2.23647364e-01,  3.57047403e-02, -2.16397069e-02,\n",
       "          1.28819022e-01,  1.83277463e-01,  1.75841550e-01,\n",
       "         -1.19106000e-02,  2.00201631e-01, -1.71537706e-01,\n",
       "          2.01346374e-01,  1.85464290e-01, -1.95245579e-01,\n",
       "         -2.47365132e-02, -1.97017033e-01,  2.39985456e-01,\n",
       "         -3.51215675e-03, -5.61521995e-02,  1.57635350e-01,\n",
       "          6.58228786e-02,  7.56561840e-02,  1.27659972e-01,\n",
       "          7.97923518e-02],\n",
       "        [-2.33725975e-01, -2.54512458e-01, -2.51986448e-02,\n",
       "          1.37883738e-01, -3.06413555e-02,  8.36363634e-02,\n",
       "          1.26215804e-01,  1.56315396e-01,  2.17575827e-01,\n",
       "          1.16106772e-01, -6.35750423e-02, -9.00693230e-02,\n",
       "         -1.08379132e-01, -1.26723630e-01,  2.19711583e-01,\n",
       "          2.79613249e-02, -3.09824508e-02,  9.16115976e-02,\n",
       "          7.91534508e-04, -1.96450661e-04, -1.46238195e-01,\n",
       "         -4.80177846e-02,  4.20136252e-02, -1.90186221e-02,\n",
       "          4.80773176e-02,  1.83592810e-01,  1.96697614e-01,\n",
       "         -1.52628436e-01,  1.60627836e-01, -2.50927050e-01,\n",
       "          1.25862161e-01, -2.29533035e-01, -1.65844503e-01,\n",
       "         -1.20470258e-01, -7.80120858e-03,  2.18133942e-02,\n",
       "         -1.68826575e-01, -6.86883396e-03, -1.82007227e-01,\n",
       "          1.02980939e-01, -6.22215880e-02, -2.00472359e-01,\n",
       "          1.83517411e-01, -2.25145588e-01,  1.05950536e-01,\n",
       "          6.62289597e-02, -1.32372809e-02, -8.28544572e-02,\n",
       "         -1.08269437e-01, -1.95468594e-01,  4.33188591e-02,\n",
       "         -3.41509279e-02, -2.56070782e-02,  1.62097756e-01,\n",
       "         -4.98651963e-02,  5.14359013e-02, -1.65914516e-02,\n",
       "          4.09948282e-02, -1.34481700e-01,  1.75968010e-01,\n",
       "         -1.25373057e-01,  6.50919323e-02,  6.17591901e-02,\n",
       "         -1.39265460e-01, -1.07665106e-01, -2.11109123e-02,\n",
       "          2.28562227e-01,  7.15826769e-02, -6.09354846e-02,\n",
       "         -2.00381851e-04, -1.41983967e-01,  6.68623735e-02,\n",
       "         -4.23352136e-02,  1.57765531e-01, -2.13229758e-02,\n",
       "          7.45213046e-02, -1.86440362e-01,  4.12945542e-02,\n",
       "          1.00712321e-01,  1.41095700e-01, -1.48237177e-02,\n",
       "         -1.65439092e-01, -1.19482532e-01, -1.93288632e-01,\n",
       "          6.85888838e-02,  1.87636115e-01,  2.98077445e-02,\n",
       "          1.24945300e-01, -8.72575618e-02,  1.32669104e-01,\n",
       "         -1.34872657e-01, -7.75181728e-02,  1.83492515e-01,\n",
       "         -4.86144418e-03, -8.33065818e-02, -7.71434655e-02,\n",
       "         -1.41237672e-01,  6.16866367e-02,  2.26584415e-01,\n",
       "          1.57466654e-01]]),\n",
       " array([[ 3.23877867e-02],\n",
       "        [-1.28752825e-01],\n",
       "        [ 5.88903395e-02],\n",
       "        [-9.06160335e-02],\n",
       "        [ 2.41703278e-01],\n",
       "        [ 1.37192706e-01],\n",
       "        [ 9.86593336e-02],\n",
       "        [ 1.93762069e-01],\n",
       "        [-2.15735081e-01],\n",
       "        [-3.30374243e-01],\n",
       "        [ 2.18065871e-02],\n",
       "        [-1.39802186e-01],\n",
       "        [-1.49116699e-01],\n",
       "        [ 1.71897816e-02],\n",
       "        [-2.19783675e-01],\n",
       "        [ 1.16899153e-01],\n",
       "        [-4.56952316e-02],\n",
       "        [ 1.54504259e-01],\n",
       "        [-9.87140143e-04],\n",
       "        [ 2.41230817e-03],\n",
       "        [ 1.35011169e-01],\n",
       "        [-5.87769794e-02],\n",
       "        [ 8.18104484e-02],\n",
       "        [-1.59809422e-01],\n",
       "        [ 5.48826862e-02],\n",
       "        [-2.13253287e-01],\n",
       "        [ 1.15540528e-01],\n",
       "        [ 9.27219382e-02],\n",
       "        [ 1.56893964e-01],\n",
       "        [ 1.57938613e-01],\n",
       "        [ 2.27487455e-01],\n",
       "        [-1.10817551e-01],\n",
       "        [ 8.24300734e-02],\n",
       "        [-1.32374624e-01],\n",
       "        [-1.88333819e-04],\n",
       "        [ 9.01086495e-02],\n",
       "        [ 1.50571203e-01],\n",
       "        [-4.68116510e-04],\n",
       "        [-2.17085958e-01],\n",
       "        [-2.84717906e-02],\n",
       "        [ 1.80469040e-01],\n",
       "        [ 1.63784933e-01],\n",
       "        [ 8.41673471e-03],\n",
       "        [ 7.30815653e-02],\n",
       "        [-2.23474269e-01],\n",
       "        [ 2.12205737e-01],\n",
       "        [-2.93333117e-02],\n",
       "        [-2.27266292e-01],\n",
       "        [ 1.47108500e-02],\n",
       "        [ 2.04343981e-01],\n",
       "        [ 2.96834016e-02],\n",
       "        [ 1.50143433e-01],\n",
       "        [-5.05627898e-03],\n",
       "        [ 1.90892652e-01],\n",
       "        [ 1.90353990e-01],\n",
       "        [ 1.38146382e-01],\n",
       "        [-6.80161210e-02],\n",
       "        [-2.00501550e-02],\n",
       "        [ 7.16034417e-02],\n",
       "        [-1.95477318e-01],\n",
       "        [-6.76075414e-02],\n",
       "        [-4.72056139e-02],\n",
       "        [-2.16503474e-01],\n",
       "        [ 7.81877265e-03],\n",
       "        [ 1.03403081e-01],\n",
       "        [-2.05010788e-01],\n",
       "        [-2.11244893e-01],\n",
       "        [ 2.06423818e-02],\n",
       "        [ 1.11783057e-02],\n",
       "        [-8.98357512e-03],\n",
       "        [-1.92951265e-01],\n",
       "        [-4.70272871e-02],\n",
       "        [-2.33330229e-04],\n",
       "        [-1.05108146e-01],\n",
       "        [ 5.06652346e-03],\n",
       "        [ 1.35340023e-01],\n",
       "        [-4.44470110e-02],\n",
       "        [ 1.81661282e-02],\n",
       "        [ 1.76024852e-01],\n",
       "        [ 6.61458401e-02],\n",
       "        [ 5.52857406e-02],\n",
       "        [ 2.09417585e-01],\n",
       "        [ 1.25555178e-01],\n",
       "        [-2.30599908e-01],\n",
       "        [-2.07762216e-01],\n",
       "        [-1.49357758e-01],\n",
       "        [-5.27330007e-02],\n",
       "        [ 7.15122330e-02],\n",
       "        [ 1.51899978e-02],\n",
       "        [-2.31415655e-02],\n",
       "        [ 1.74321201e-01],\n",
       "        [ 2.00758080e-01],\n",
       "        [ 3.86773140e-02],\n",
       "        [ 8.90045341e-03],\n",
       "        [ 9.48134107e-02],\n",
       "        [-1.72957815e-01],\n",
       "        [-1.88396981e-01],\n",
       "        [ 8.68515791e-02],\n",
       "        [-1.56972094e-02],\n",
       "        [ 7.68276629e-02]])]"
      ]
     },
     "execution_count": 7,
     "metadata": {},
     "output_type": "execute_result"
    }
   ],
   "source": [
    "mlpc_mpdel.coefs_  #sinir ağlarında kullanılan kat sayılar"
   ]
  },
  {
   "cell_type": "code",
   "execution_count": 9,
   "metadata": {
    "collapsed": true,
    "jupyter": {
     "outputs_hidden": true
    }
   },
   "outputs": [
    {
     "data": {
      "text/plain": [
       "\u001b[1;31mType:\u001b[0m        MLPClassifier\n",
       "\u001b[1;31mString form:\u001b[0m\n",
       "MLPClassifier(activation='relu', alpha=0.0001, batch_size='auto', beta_1=0.9,\n",
       "           beta_ <...>               tol=0.0001, validation_fraction=0.1, verbose=False,\n",
       "           warm_start=False)\n",
       "\u001b[1;31mFile:\u001b[0m        c:\\users\\onur\\anaconda3\\envs\\test_conda_env\\lib\\site-packages\\sklearn\\neural_network\\_multilayer_perceptron.py\n",
       "\u001b[1;31mDocstring:\u001b[0m  \n",
       "Multi-layer Perceptron classifier.\n",
       "\n",
       "This model optimizes the log-loss function using LBFGS or stochastic\n",
       "gradient descent.\n",
       "\n",
       ".. versionadded:: 0.18\n",
       "\n",
       "Parameters\n",
       "----------\n",
       "hidden_layer_sizes : tuple, length = n_layers - 2, default=(100,)\n",
       "    The ith element represents the number of neurons in the ith\n",
       "    hidden layer.\n",
       "\n",
       "activation : {'identity', 'logistic', 'tanh', 'relu'}, default='relu'\n",
       "    Activation function for the hidden layer.\n",
       "\n",
       "    - 'identity', no-op activation, useful to implement linear bottleneck,\n",
       "      returns f(x) = x\n",
       "\n",
       "    - 'logistic', the logistic sigmoid function,\n",
       "      returns f(x) = 1 / (1 + exp(-x)).\n",
       "\n",
       "    - 'tanh', the hyperbolic tan function,\n",
       "      returns f(x) = tanh(x).\n",
       "\n",
       "    - 'relu', the rectified linear unit function,\n",
       "      returns f(x) = max(0, x)\n",
       "\n",
       "solver : {'lbfgs', 'sgd', 'adam'}, default='adam'\n",
       "    The solver for weight optimization.\n",
       "\n",
       "    - 'lbfgs' is an optimizer in the family of quasi-Newton methods.\n",
       "\n",
       "    - 'sgd' refers to stochastic gradient descent.\n",
       "\n",
       "    - 'adam' refers to a stochastic gradient-based optimizer proposed\n",
       "      by Kingma, Diederik, and Jimmy Ba\n",
       "\n",
       "    Note: The default solver 'adam' works pretty well on relatively\n",
       "    large datasets (with thousands of training samples or more) in terms of\n",
       "    both training time and validation score.\n",
       "    For small datasets, however, 'lbfgs' can converge faster and perform\n",
       "    better.\n",
       "\n",
       "alpha : float, default=0.0001\n",
       "    L2 penalty (regularization term) parameter.\n",
       "\n",
       "batch_size : int, default='auto'\n",
       "    Size of minibatches for stochastic optimizers.\n",
       "    If the solver is 'lbfgs', the classifier will not use minibatch.\n",
       "    When set to \"auto\", `batch_size=min(200, n_samples)`\n",
       "\n",
       "learning_rate : {'constant', 'invscaling', 'adaptive'}, default='constant'\n",
       "    Learning rate schedule for weight updates.\n",
       "\n",
       "    - 'constant' is a constant learning rate given by\n",
       "      'learning_rate_init'.\n",
       "\n",
       "    - 'invscaling' gradually decreases the learning rate at each\n",
       "      time step 't' using an inverse scaling exponent of 'power_t'.\n",
       "      effective_learning_rate = learning_rate_init / pow(t, power_t)\n",
       "\n",
       "    - 'adaptive' keeps the learning rate constant to\n",
       "      'learning_rate_init' as long as training loss keeps decreasing.\n",
       "      Each time two consecutive epochs fail to decrease training loss by at\n",
       "      least tol, or fail to increase validation score by at least tol if\n",
       "      'early_stopping' is on, the current learning rate is divided by 5.\n",
       "\n",
       "    Only used when ``solver='sgd'``.\n",
       "\n",
       "learning_rate_init : double, default=0.001\n",
       "    The initial learning rate used. It controls the step-size\n",
       "    in updating the weights. Only used when solver='sgd' or 'adam'.\n",
       "\n",
       "power_t : double, default=0.5\n",
       "    The exponent for inverse scaling learning rate.\n",
       "    It is used in updating effective learning rate when the learning_rate\n",
       "    is set to 'invscaling'. Only used when solver='sgd'.\n",
       "\n",
       "max_iter : int, default=200\n",
       "    Maximum number of iterations. The solver iterates until convergence\n",
       "    (determined by 'tol') or this number of iterations. For stochastic\n",
       "    solvers ('sgd', 'adam'), note that this determines the number of epochs\n",
       "    (how many times each data point will be used), not the number of\n",
       "    gradient steps.\n",
       "\n",
       "shuffle : bool, default=True\n",
       "    Whether to shuffle samples in each iteration. Only used when\n",
       "    solver='sgd' or 'adam'.\n",
       "\n",
       "random_state : int, RandomState instance or None, default=None\n",
       "    If int, random_state is the seed used by the random number generator;\n",
       "    If RandomState instance, random_state is the random number generator;\n",
       "    If None, the random number generator is the RandomState instance used\n",
       "    by `np.random`.\n",
       "\n",
       "tol : float, default=1e-4\n",
       "    Tolerance for the optimization. When the loss or score is not improving\n",
       "    by at least ``tol`` for ``n_iter_no_change`` consecutive iterations,\n",
       "    unless ``learning_rate`` is set to 'adaptive', convergence is\n",
       "    considered to be reached and training stops.\n",
       "\n",
       "verbose : bool, default=False\n",
       "    Whether to print progress messages to stdout.\n",
       "\n",
       "warm_start : bool, default=False\n",
       "    When set to True, reuse the solution of the previous\n",
       "    call to fit as initialization, otherwise, just erase the\n",
       "    previous solution. See :term:`the Glossary <warm_start>`.\n",
       "\n",
       "momentum : float, default=0.9\n",
       "    Momentum for gradient descent update. Should be between 0 and 1. Only\n",
       "    used when solver='sgd'.\n",
       "\n",
       "nesterovs_momentum : boolean, default=True\n",
       "    Whether to use Nesterov's momentum. Only used when solver='sgd' and\n",
       "    momentum > 0.\n",
       "\n",
       "early_stopping : bool, default=False\n",
       "    Whether to use early stopping to terminate training when validation\n",
       "    score is not improving. If set to true, it will automatically set\n",
       "    aside 10% of training data as validation and terminate training when\n",
       "    validation score is not improving by at least tol for\n",
       "    ``n_iter_no_change`` consecutive epochs. The split is stratified,\n",
       "    except in a multilabel setting.\n",
       "    Only effective when solver='sgd' or 'adam'\n",
       "\n",
       "validation_fraction : float, default=0.1\n",
       "    The proportion of training data to set aside as validation set for\n",
       "    early stopping. Must be between 0 and 1.\n",
       "    Only used if early_stopping is True\n",
       "\n",
       "beta_1 : float, default=0.9\n",
       "    Exponential decay rate for estimates of first moment vector in adam,\n",
       "    should be in [0, 1). Only used when solver='adam'\n",
       "\n",
       "beta_2 : float, default=0.999\n",
       "    Exponential decay rate for estimates of second moment vector in adam,\n",
       "    should be in [0, 1). Only used when solver='adam'\n",
       "\n",
       "epsilon : float, default=1e-8\n",
       "    Value for numerical stability in adam. Only used when solver='adam'\n",
       "\n",
       "n_iter_no_change : int, default=10\n",
       "    Maximum number of epochs to not meet ``tol`` improvement.\n",
       "    Only effective when solver='sgd' or 'adam'\n",
       "\n",
       "    .. versionadded:: 0.20\n",
       "\n",
       "max_fun : int, default=15000\n",
       "    Only used when solver='lbfgs'. Maximum number of loss function calls.\n",
       "    The solver iterates until convergence (determined by 'tol'), number\n",
       "    of iterations reaches max_iter, or this number of loss function calls.\n",
       "    Note that number of loss function calls will be greater than or equal\n",
       "    to the number of iterations for the `MLPClassifier`.\n",
       "\n",
       "    .. versionadded:: 0.22\n",
       "\n",
       "Attributes\n",
       "----------\n",
       "classes_ : ndarray or list of ndarray of shape (n_classes,)\n",
       "    Class labels for each output.\n",
       "\n",
       "loss_ : float\n",
       "    The current loss computed with the loss function.\n",
       "\n",
       "coefs_ : list, length n_layers - 1\n",
       "    The ith element in the list represents the weight matrix corresponding\n",
       "    to layer i.\n",
       "\n",
       "intercepts_ : list, length n_layers - 1\n",
       "    The ith element in the list represents the bias vector corresponding to\n",
       "    layer i + 1.\n",
       "\n",
       "n_iter_ : int,\n",
       "    The number of iterations the solver has ran.\n",
       "\n",
       "n_layers_ : int\n",
       "    Number of layers.\n",
       "\n",
       "n_outputs_ : int\n",
       "    Number of outputs.\n",
       "\n",
       "out_activation_ : string\n",
       "    Name of the output activation function.\n",
       "\n",
       "Notes\n",
       "-----\n",
       "MLPClassifier trains iteratively since at each time step\n",
       "the partial derivatives of the loss function with respect to the model\n",
       "parameters are computed to update the parameters.\n",
       "\n",
       "It can also have a regularization term added to the loss function\n",
       "that shrinks model parameters to prevent overfitting.\n",
       "\n",
       "This implementation works with data represented as dense numpy arrays or\n",
       "sparse scipy arrays of floating point values.\n",
       "\n",
       "References\n",
       "----------\n",
       "Hinton, Geoffrey E.\n",
       "    \"Connectionist learning procedures.\" Artificial intelligence 40.1\n",
       "    (1989): 185-234.\n",
       "\n",
       "Glorot, Xavier, and Yoshua Bengio. \"Understanding the difficulty of\n",
       "    training deep feedforward neural networks.\" International Conference\n",
       "    on Artificial Intelligence and Statistics. 2010.\n",
       "\n",
       "He, Kaiming, et al. \"Delving deep into rectifiers: Surpassing human-level\n",
       "    performance on imagenet classification.\" arXiv preprint\n",
       "    arXiv:1502.01852 (2015).\n",
       "\n",
       "Kingma, Diederik, and Jimmy Ba. \"Adam: A method for stochastic\n",
       "    optimization.\" arXiv preprint arXiv:1412.6980 (2014).\n"
      ]
     },
     "metadata": {},
     "output_type": "display_data"
    }
   ],
   "source": [
    "?mlpc_mpdel"
   ]
  },
  {
   "cell_type": "code",
   "execution_count": 10,
   "metadata": {},
   "outputs": [],
   "source": [
    "y_pred=mlpc_mpdel.predict(X_test)"
   ]
  },
  {
   "cell_type": "code",
   "execution_count": 11,
   "metadata": {},
   "outputs": [
    {
     "data": {
      "text/plain": [
       "0.7012987012987013"
      ]
     },
     "execution_count": 11,
     "metadata": {},
     "output_type": "execute_result"
    }
   ],
   "source": [
    "accuracy_score(y_test,y_pred)"
   ]
  },
  {
   "cell_type": "code",
   "execution_count": 12,
   "metadata": {},
   "outputs": [
    {
     "data": {
      "text/plain": [
       "MLPClassifier(activation='relu', alpha=0.0001, batch_size='auto', beta_1=0.9,\n",
       "              beta_2=0.999, early_stopping=False, epsilon=1e-08,\n",
       "              hidden_layer_sizes=(100,), learning_rate='constant',\n",
       "              learning_rate_init=0.001, max_fun=15000, max_iter=200,\n",
       "              momentum=0.9, n_iter_no_change=10, nesterovs_momentum=True,\n",
       "              power_t=0.5, random_state=None, shuffle=True, solver='adam',\n",
       "              tol=0.0001, validation_fraction=0.1, verbose=False,\n",
       "              warm_start=False)"
      ]
     },
     "execution_count": 12,
     "metadata": {},
     "output_type": "execute_result"
    }
   ],
   "source": [
    "mlpc_mpdel"
   ]
  },
  {
   "cell_type": "markdown",
   "metadata": {},
   "source": [
    "# model tuning"
   ]
  },
  {
   "cell_type": "code",
   "execution_count": 13,
   "metadata": {},
   "outputs": [],
   "source": [
    "mlpc_params={\"alpha\":[1,5,0.1,0.01,0.03,0.005,0.0001],\n",
    "            \"hidden_layer_sizes\":[(10,10),(100,100,100),(100,100),(3,5)]}"
   ]
  },
  {
   "cell_type": "code",
   "execution_count": 15,
   "metadata": {},
   "outputs": [],
   "source": [
    "mlpc=MLPClassifier(solver='lbfgs')"
   ]
  },
  {
   "cell_type": "code",
   "execution_count": 16,
   "metadata": {},
   "outputs": [
    {
     "name": "stdout",
     "output_type": "stream",
     "text": [
      "Fitting 10 folds for each of 28 candidates, totalling 280 fits\n"
     ]
    },
    {
     "name": "stderr",
     "output_type": "stream",
     "text": [
      "[Parallel(n_jobs=-1)]: Using backend LokyBackend with 4 concurrent workers.\n",
      "[Parallel(n_jobs=-1)]: Done  33 tasks      | elapsed:    5.6s\n",
      "[Parallel(n_jobs=-1)]: Done 172 tasks      | elapsed:   18.6s\n",
      "[Parallel(n_jobs=-1)]: Done 280 out of 280 | elapsed:   35.8s finished\n"
     ]
    }
   ],
   "source": [
    "mlpc_cv_model=GridSearchCV(mlpc,mlpc_params,cv=10,n_jobs=-1,verbose=2).fit(X_train,y_train)"
   ]
  },
  {
   "cell_type": "code",
   "execution_count": 17,
   "metadata": {},
   "outputs": [
    {
     "data": {
      "text/plain": [
       "GridSearchCV(cv=10, error_score=nan,\n",
       "             estimator=MLPClassifier(activation='relu', alpha=0.0001,\n",
       "                                     batch_size='auto', beta_1=0.9,\n",
       "                                     beta_2=0.999, early_stopping=False,\n",
       "                                     epsilon=1e-08, hidden_layer_sizes=(100,),\n",
       "                                     learning_rate='constant',\n",
       "                                     learning_rate_init=0.001, max_fun=15000,\n",
       "                                     max_iter=200, momentum=0.9,\n",
       "                                     n_iter_no_change=10,\n",
       "                                     nesterovs_momentum=True, power_t=0.5,\n",
       "                                     random_state=None, shuffle=True,\n",
       "                                     solver='lbfgs', tol=0.0001,\n",
       "                                     validation_fraction=0.1, verbose=False,\n",
       "                                     warm_start=False),\n",
       "             iid='deprecated', n_jobs=-1,\n",
       "             param_grid={'alpha': [1, 5, 0.1, 0.01, 0.03, 0.005, 0.0001],\n",
       "                         'hidden_layer_sizes': [(10, 10), (100, 100, 100),\n",
       "                                                (100, 100), (3, 5)]},\n",
       "             pre_dispatch='2*n_jobs', refit=True, return_train_score=False,\n",
       "             scoring=None, verbose=2)"
      ]
     },
     "execution_count": 17,
     "metadata": {},
     "output_type": "execute_result"
    }
   ],
   "source": [
    "mlpc_cv_model"
   ]
  },
  {
   "cell_type": "code",
   "execution_count": 19,
   "metadata": {},
   "outputs": [
    {
     "data": {
      "text/plain": [
       "{'alpha': 1, 'hidden_layer_sizes': (3, 5)}"
      ]
     },
     "execution_count": 19,
     "metadata": {},
     "output_type": "execute_result"
    }
   ],
   "source": [
    "mlpc_cv_model.best_params_"
   ]
  },
  {
   "cell_type": "code",
   "execution_count": null,
   "metadata": {},
   "outputs": [],
   "source": [
    "#final modeli"
   ]
  },
  {
   "cell_type": "code",
   "execution_count": 40,
   "metadata": {},
   "outputs": [],
   "source": [
    "mlpc_tuned=MLPClassifier(alpha=1,hidden_layer_sizes=(3,5),solver='lbfgs').fit(X_train,y_train)"
   ]
  },
  {
   "cell_type": "code",
   "execution_count": 41,
   "metadata": {},
   "outputs": [],
   "source": [
    "y_pred=mlpc_tuned.predict(X_test)"
   ]
  },
  {
   "cell_type": "code",
   "execution_count": 42,
   "metadata": {},
   "outputs": [
    {
     "data": {
      "text/plain": [
       "0.6536796536796536"
      ]
     },
     "execution_count": 42,
     "metadata": {},
     "output_type": "execute_result"
    }
   ],
   "source": [
    "accuracy_score(y_test,y_pred)"
   ]
  },
  {
   "cell_type": "code",
   "execution_count": 44,
   "metadata": {},
   "outputs": [],
   "source": [
    "#aktivasyon fonksiyonunu logistic olarak denicez bir de. sınıflandırılmada kullanılması gereken budur"
   ]
  },
  {
   "cell_type": "code",
   "execution_count": 45,
   "metadata": {},
   "outputs": [],
   "source": [
    "mlpc_params={\"alpha\":[1,5,0.1,0.01,0.03,0.005,0.0001],\n",
    "            \"hidden_layer_sizes\":[(10,10),(100,100,100),(100,100),(3,5)]}"
   ]
  },
  {
   "cell_type": "code",
   "execution_count": 46,
   "metadata": {},
   "outputs": [],
   "source": [
    "mlpc=MLPClassifier(solver='lbfgs',activation='logistic')"
   ]
  },
  {
   "cell_type": "code",
   "execution_count": 47,
   "metadata": {},
   "outputs": [
    {
     "name": "stdout",
     "output_type": "stream",
     "text": [
      "Fitting 10 folds for each of 28 candidates, totalling 280 fits\n"
     ]
    },
    {
     "name": "stderr",
     "output_type": "stream",
     "text": [
      "[Parallel(n_jobs=-1)]: Using backend LokyBackend with 4 concurrent workers.\n",
      "[Parallel(n_jobs=-1)]: Done  33 tasks      | elapsed:   12.0s\n",
      "[Parallel(n_jobs=-1)]: Done 154 tasks      | elapsed:  1.1min\n",
      "[Parallel(n_jobs=-1)]: Done 280 out of 280 | elapsed:  2.0min finished\n",
      "C:\\Users\\Onur\\anaconda3\\envs\\test_conda_env\\lib\\site-packages\\sklearn\\neural_network\\_multilayer_perceptron.py:470: ConvergenceWarning: lbfgs failed to converge (status=1):\n",
      "STOP: TOTAL NO. of ITERATIONS REACHED LIMIT.\n",
      "\n",
      "Increase the number of iterations (max_iter) or scale the data as shown in:\n",
      "    https://scikit-learn.org/stable/modules/preprocessing.html\n",
      "  self.n_iter_ = _check_optimize_result(\"lbfgs\", opt_res, self.max_iter)\n"
     ]
    }
   ],
   "source": [
    "mlpc_cv_model=GridSearchCV(mlpc,mlpc_params,cv=10,n_jobs=-1,verbose=2).fit(X_train,y_train)"
   ]
  },
  {
   "cell_type": "code",
   "execution_count": 48,
   "metadata": {},
   "outputs": [
    {
     "data": {
      "text/plain": [
       "GridSearchCV(cv=10, error_score=nan,\n",
       "             estimator=MLPClassifier(activation='logistic', alpha=0.0001,\n",
       "                                     batch_size='auto', beta_1=0.9,\n",
       "                                     beta_2=0.999, early_stopping=False,\n",
       "                                     epsilon=1e-08, hidden_layer_sizes=(100,),\n",
       "                                     learning_rate='constant',\n",
       "                                     learning_rate_init=0.001, max_fun=15000,\n",
       "                                     max_iter=200, momentum=0.9,\n",
       "                                     n_iter_no_change=10,\n",
       "                                     nesterovs_momentum=True, power_t=0.5,\n",
       "                                     random_state=None, shuffle=True,\n",
       "                                     solver='lbfgs', tol=0.0001,\n",
       "                                     validation_fraction=0.1, verbose=False,\n",
       "                                     warm_start=False),\n",
       "             iid='deprecated', n_jobs=-1,\n",
       "             param_grid={'alpha': [1, 5, 0.1, 0.01, 0.03, 0.005, 0.0001],\n",
       "                         'hidden_layer_sizes': [(10, 10), (100, 100, 100),\n",
       "                                                (100, 100), (3, 5)]},\n",
       "             pre_dispatch='2*n_jobs', refit=True, return_train_score=False,\n",
       "             scoring=None, verbose=2)"
      ]
     },
     "execution_count": 48,
     "metadata": {},
     "output_type": "execute_result"
    }
   ],
   "source": [
    "mlpc_cv_model"
   ]
  },
  {
   "cell_type": "code",
   "execution_count": 49,
   "metadata": {},
   "outputs": [
    {
     "data": {
      "text/plain": [
       "{'alpha': 5, 'hidden_layer_sizes': (100, 100)}"
      ]
     },
     "execution_count": 49,
     "metadata": {},
     "output_type": "execute_result"
    }
   ],
   "source": [
    "mlpc_cv_model.best_params_"
   ]
  },
  {
   "cell_type": "code",
   "execution_count": null,
   "metadata": {},
   "outputs": [],
   "source": [
    "#final modeli"
   ]
  },
  {
   "cell_type": "code",
   "execution_count": 50,
   "metadata": {},
   "outputs": [
    {
     "name": "stderr",
     "output_type": "stream",
     "text": [
      "C:\\Users\\Onur\\anaconda3\\envs\\test_conda_env\\lib\\site-packages\\sklearn\\neural_network\\_multilayer_perceptron.py:470: ConvergenceWarning: lbfgs failed to converge (status=1):\n",
      "STOP: TOTAL NO. of ITERATIONS REACHED LIMIT.\n",
      "\n",
      "Increase the number of iterations (max_iter) or scale the data as shown in:\n",
      "    https://scikit-learn.org/stable/modules/preprocessing.html\n",
      "  self.n_iter_ = _check_optimize_result(\"lbfgs\", opt_res, self.max_iter)\n"
     ]
    }
   ],
   "source": [
    "mlpc_tuned=MLPClassifier(alpha=5,hidden_layer_sizes=(100,100),solver='lbfgs',activation='logistic').fit(X_train,y_train)"
   ]
  },
  {
   "cell_type": "code",
   "execution_count": 52,
   "metadata": {},
   "outputs": [],
   "source": [
    "y_pred=mlpc_tuned.predict(X_test)"
   ]
  },
  {
   "cell_type": "code",
   "execution_count": 53,
   "metadata": {},
   "outputs": [
    {
     "data": {
      "text/plain": [
       "0.7229437229437229"
      ]
     },
     "execution_count": 53,
     "metadata": {},
     "output_type": "execute_result"
    }
   ],
   "source": [
    "accuracy_score(y_test,y_pred)"
   ]
  },
  {
   "cell_type": "markdown",
   "metadata": {},
   "source": [
    "# Değişkenlerin Dönüştürülmesi"
   ]
  },
  {
   "cell_type": "code",
   "execution_count": 54,
   "metadata": {},
   "outputs": [],
   "source": [
    "#standaartlaştırma işlemi"
   ]
  },
  {
   "cell_type": "code",
   "execution_count": 55,
   "metadata": {},
   "outputs": [],
   "source": [
    "scaler=StandardScaler()"
   ]
  },
  {
   "cell_type": "code",
   "execution_count": 58,
   "metadata": {},
   "outputs": [],
   "source": [
    "scaler.fit(X_train)\n",
    "X_train=scaler.transform(X_train)"
   ]
  },
  {
   "cell_type": "code",
   "execution_count": 59,
   "metadata": {},
   "outputs": [],
   "source": [
    "scaler.fit(X_test)\n",
    "X_test=scaler.transform(X_test)"
   ]
  },
  {
   "cell_type": "code",
   "execution_count": 60,
   "metadata": {},
   "outputs": [],
   "source": [
    "mlpc_params={\"alpha\":[1,5,0.1,0.01,0.03,0.005,0.0001],\n",
    "            \"hidden_layer_sizes\":[(10,10),(100,100,100),(100,100),(3,5)]}"
   ]
  },
  {
   "cell_type": "code",
   "execution_count": 61,
   "metadata": {},
   "outputs": [],
   "source": [
    "mlpc=MLPClassifier(solver='lbfgs',activation='logistic')"
   ]
  },
  {
   "cell_type": "code",
   "execution_count": 62,
   "metadata": {},
   "outputs": [
    {
     "name": "stdout",
     "output_type": "stream",
     "text": [
      "Fitting 10 folds for each of 28 candidates, totalling 280 fits\n"
     ]
    },
    {
     "name": "stderr",
     "output_type": "stream",
     "text": [
      "[Parallel(n_jobs=-1)]: Using backend LokyBackend with 4 concurrent workers.\n",
      "[Parallel(n_jobs=-1)]: Done  33 tasks      | elapsed:    8.6s\n",
      "[Parallel(n_jobs=-1)]: Done 154 tasks      | elapsed:   44.9s\n",
      "[Parallel(n_jobs=-1)]: Done 280 out of 280 | elapsed:  1.6min finished\n"
     ]
    }
   ],
   "source": [
    "mlpc_cv_model=GridSearchCV(mlpc,mlpc_params,cv=10,n_jobs=-1,verbose=2).fit(X_train,y_train)"
   ]
  },
  {
   "cell_type": "code",
   "execution_count": 63,
   "metadata": {},
   "outputs": [
    {
     "data": {
      "text/plain": [
       "GridSearchCV(cv=10, error_score=nan,\n",
       "             estimator=MLPClassifier(activation='logistic', alpha=0.0001,\n",
       "                                     batch_size='auto', beta_1=0.9,\n",
       "                                     beta_2=0.999, early_stopping=False,\n",
       "                                     epsilon=1e-08, hidden_layer_sizes=(100,),\n",
       "                                     learning_rate='constant',\n",
       "                                     learning_rate_init=0.001, max_fun=15000,\n",
       "                                     max_iter=200, momentum=0.9,\n",
       "                                     n_iter_no_change=10,\n",
       "                                     nesterovs_momentum=True, power_t=0.5,\n",
       "                                     random_state=None, shuffle=True,\n",
       "                                     solver='lbfgs', tol=0.0001,\n",
       "                                     validation_fraction=0.1, verbose=False,\n",
       "                                     warm_start=False),\n",
       "             iid='deprecated', n_jobs=-1,\n",
       "             param_grid={'alpha': [1, 5, 0.1, 0.01, 0.03, 0.005, 0.0001],\n",
       "                         'hidden_layer_sizes': [(10, 10), (100, 100, 100),\n",
       "                                                (100, 100), (3, 5)]},\n",
       "             pre_dispatch='2*n_jobs', refit=True, return_train_score=False,\n",
       "             scoring=None, verbose=2)"
      ]
     },
     "execution_count": 63,
     "metadata": {},
     "output_type": "execute_result"
    }
   ],
   "source": [
    "mlpc_cv_model"
   ]
  },
  {
   "cell_type": "code",
   "execution_count": 64,
   "metadata": {},
   "outputs": [
    {
     "data": {
      "text/plain": [
       "{'alpha': 1, 'hidden_layer_sizes': (3, 5)}"
      ]
     },
     "execution_count": 64,
     "metadata": {},
     "output_type": "execute_result"
    }
   ],
   "source": [
    "mlpc_cv_model.best_params_"
   ]
  },
  {
   "cell_type": "code",
   "execution_count": null,
   "metadata": {},
   "outputs": [],
   "source": [
    "#final modeli"
   ]
  },
  {
   "cell_type": "code",
   "execution_count": 66,
   "metadata": {},
   "outputs": [],
   "source": [
    "mlpc_tuned=MLPClassifier(alpha=1,hidden_layer_sizes=(3,5),solver='lbfgs',activation='logistic').fit(X_train,y_train)"
   ]
  },
  {
   "cell_type": "code",
   "execution_count": 67,
   "metadata": {},
   "outputs": [],
   "source": [
    "y_pred=mlpc_tuned.predict(X_test)"
   ]
  },
  {
   "cell_type": "code",
   "execution_count": 68,
   "metadata": {},
   "outputs": [
    {
     "data": {
      "text/plain": [
       "0.7532467532467533"
      ]
     },
     "execution_count": 68,
     "metadata": {},
     "output_type": "execute_result"
    }
   ],
   "source": [
    "accuracy_score(y_test,y_pred)"
   ]
  },
  {
   "cell_type": "code",
   "execution_count": null,
   "metadata": {},
   "outputs": [],
   "source": []
  }
 ],
 "metadata": {
  "kernelspec": {
   "display_name": "machinelearning",
   "language": "python",
   "name": "machinelearning"
  },
  "language_info": {
   "codemirror_mode": {
    "name": "ipython",
    "version": 3
   },
   "file_extension": ".py",
   "mimetype": "text/x-python",
   "name": "python",
   "nbconvert_exporter": "python",
   "pygments_lexer": "ipython3",
   "version": "3.8.3"
  }
 },
 "nbformat": 4,
 "nbformat_minor": 4
}
