{
 "cells": [
  {
   "cell_type": "code",
   "execution_count": 1,
   "metadata": {},
   "outputs": [],
   "source": [
    "import numpy as np\n",
    "import pandas as pd\n",
    "import seaborn as sns\n",
    "import matplotlib.pyplot as plt\n",
    "from sklearn.preprocessing import scale , StandardScaler\n",
    "from sklearn.model_selection import GridSearchCV, train_test_split, cross_val_score\n",
    "from sklearn.metrics import confusion_matrix, accuracy_score, mean_squared_error, r2_score, roc_auc_score, roc_curve, classification_report\n",
    "from sklearn.linear_model import LogisticRegression\n",
    "from sklearn.neighbors import KNeighborsClassifier\n",
    "from sklearn.svm import SVC\n",
    "from sklearn.neural_network import MLPClassifier\n",
    "from sklearn.tree import DecisionTreeClassifier\n",
    "from sklearn.ensemble import RandomForestClassifier, GradientBoostingClassifier\n",
    "import warnings\n",
    "warnings.filterwarnings(\"ignore\",category=DeprecationWarning)\n",
    "warnings.filterwarnings(\"ignore\",category=FutureWarning)"
   ]
  },
  {
   "cell_type": "code",
   "execution_count": 2,
   "metadata": {},
   "outputs": [],
   "source": [
    "df=pd.read_csv(r\"C:\\Users\\Onur\\Desktop\\Turkcell_MachineLearning\\diabetes.csv\")\n",
    "y=df[\"Outcome\"]\n",
    "X=df.drop([\"Outcome\"],axis=1)\n",
    "X_train,X_test,y_train,y_test=train_test_split(X,y, test_size=0.30, random_state=42)"
   ]
  },
  {
   "cell_type": "markdown",
   "metadata": {},
   "source": [
    "# MODEL TAHMİN"
   ]
  },
  {
   "cell_type": "code",
   "execution_count": 3,
   "metadata": {
    "collapsed": true,
    "jupyter": {
     "outputs_hidden": true
    }
   },
   "outputs": [
    {
     "name": "stdout",
     "output_type": "stream",
     "text": [
      "Requirement already satisfied: catboost in c:\\users\\onur\\anaconda3\\envs\\test_conda_env\\lib\\site-packages (0.23.2)\n",
      "Requirement already satisfied: six in c:\\users\\onur\\anaconda3\\envs\\test_conda_env\\lib\\site-packages (from catboost) (1.15.0)\n",
      "Requirement already satisfied: plotly in c:\\users\\onur\\anaconda3\\envs\\test_conda_env\\lib\\site-packages (from catboost) (4.8.1)\n",
      "Requirement already satisfied: numpy>=1.16.0 in c:\\users\\onur\\anaconda3\\envs\\test_conda_env\\lib\\site-packages (from catboost) (1.18.1)\n",
      "Requirement already satisfied: pandas>=0.24.0 in c:\\users\\onur\\anaconda3\\envs\\test_conda_env\\lib\\site-packages (from catboost) (1.0.3)\n",
      "Requirement already satisfied: matplotlib in c:\\users\\onur\\anaconda3\\envs\\test_conda_env\\lib\\site-packages (from catboost) (3.1.3)\n",
      "Requirement already satisfied: graphviz in c:\\users\\onur\\anaconda3\\envs\\test_conda_env\\lib\\site-packages (from catboost) (0.14)\n",
      "Requirement already satisfied: scipy in c:\\users\\onur\\anaconda3\\envs\\test_conda_env\\lib\\site-packages (from catboost) (1.4.1)\n",
      "Requirement already satisfied: retrying>=1.3.3 in c:\\users\\onur\\anaconda3\\envs\\test_conda_env\\lib\\site-packages (from plotly->catboost) (1.3.3)\n",
      "Requirement already satisfied: pytz>=2017.2 in c:\\users\\onur\\anaconda3\\envs\\test_conda_env\\lib\\site-packages (from pandas>=0.24.0->catboost) (2020.1)\n",
      "Requirement already satisfied: python-dateutil>=2.6.1 in c:\\users\\onur\\anaconda3\\envs\\test_conda_env\\lib\\site-packages (from pandas>=0.24.0->catboost) (2.8.1)\n",
      "Requirement already satisfied: kiwisolver>=1.0.1 in c:\\users\\onur\\anaconda3\\envs\\test_conda_env\\lib\\site-packages (from matplotlib->catboost) (1.2.0)\n",
      "Requirement already satisfied: pyparsing!=2.0.4,!=2.1.2,!=2.1.6,>=2.0.1 in c:\\users\\onur\\anaconda3\\envs\\test_conda_env\\lib\\site-packages (from matplotlib->catboost) (2.4.7)\n",
      "Requirement already satisfied: cycler>=0.10 in c:\\users\\onur\\anaconda3\\envs\\test_conda_env\\lib\\site-packages (from matplotlib->catboost) (0.10.0)\n"
     ]
    }
   ],
   "source": [
    "!pip install catboost"
   ]
  },
  {
   "cell_type": "code",
   "execution_count": 4,
   "metadata": {},
   "outputs": [],
   "source": [
    "from catboost import CatBoostClassifier"
   ]
  },
  {
   "cell_type": "code",
   "execution_count": 5,
   "metadata": {},
   "outputs": [],
   "source": [
    "catb_model=CatBoostClassifier().fit(X_train,y_train, verbose=False) #verbose koymamızın sebebi fonksiyonun çıktısında sürekli her iterasyona ilişkin bilgi paaylaşımı vardı. bu bilgiyi istemediğimiz için verdik"
   ]
  },
  {
   "cell_type": "code",
   "execution_count": 9,
   "metadata": {
    "collapsed": true,
    "jupyter": {
     "outputs_hidden": true
    }
   },
   "outputs": [
    {
     "data": {
      "text/plain": [
       "\u001b[1;31mType:\u001b[0m            CatBoostClassifier\n",
       "\u001b[1;31mString form:\u001b[0m     <catboost.core.CatBoostClassifier object at 0x00000174B3ACC040>\n",
       "\u001b[1;31mFile:\u001b[0m            c:\\users\\onur\\anaconda3\\envs\\test_conda_env\\lib\\site-packages\\catboost\\core.py\n",
       "\u001b[1;31mDocstring:\u001b[0m       <no docstring>\n",
       "\u001b[1;31mClass docstring:\u001b[0m CatBoost model. Contains training, prediction and evaluation methods.\n",
       "\u001b[1;31mInit docstring:\u001b[0m \n",
       "Initialize the CatBoost.\n",
       "\n",
       "Parameters\n",
       "----------\n",
       "params : dict\n",
       "    Parameters for CatBoost.\n",
       "    If  None, all params are set to their defaults.\n",
       "    If  dict, overriding parameters present in dict.\n"
      ]
     },
     "metadata": {},
     "output_type": "display_data"
    }
   ],
   "source": [
    "?catb_model"
   ]
  },
  {
   "cell_type": "code",
   "execution_count": 7,
   "metadata": {},
   "outputs": [],
   "source": [
    "y_pred=catb_model.predict(X_test)"
   ]
  },
  {
   "cell_type": "code",
   "execution_count": 8,
   "metadata": {},
   "outputs": [
    {
     "data": {
      "text/plain": [
       "0.7402597402597403"
      ]
     },
     "execution_count": 8,
     "metadata": {},
     "output_type": "execute_result"
    }
   ],
   "source": [
    "accuracy_score(y_test,y_pred)"
   ]
  },
  {
   "cell_type": "markdown",
   "metadata": {},
   "source": [
    "# MODEL TUNİNG"
   ]
  },
  {
   "cell_type": "code",
   "execution_count": 10,
   "metadata": {},
   "outputs": [],
   "source": [
    "catb=CatBoostClassifier()"
   ]
  },
  {
   "cell_type": "code",
   "execution_count": 11,
   "metadata": {},
   "outputs": [],
   "source": [
    "catb_params={'iterations':[200,500,1000],    #ağaç sayısıyla ilgili parametre denilebilir\n",
    "            'learning_rate': [0.03,0.01,0.1],\n",
    "            'depth':[4,5,8]}"
   ]
  },
  {
   "cell_type": "code",
   "execution_count": 13,
   "metadata": {
    "collapsed": true,
    "jupyter": {
     "outputs_hidden": true
    }
   },
   "outputs": [
    {
     "name": "stdout",
     "output_type": "stream",
     "text": [
      "Fitting 5 folds for each of 27 candidates, totalling 135 fits\n"
     ]
    },
    {
     "name": "stderr",
     "output_type": "stream",
     "text": [
      "[Parallel(n_jobs=-1)]: Using backend LokyBackend with 4 concurrent workers.\n",
      "[Parallel(n_jobs=-1)]: Done  33 tasks      | elapsed:   24.3s\n",
      "[Parallel(n_jobs=-1)]: Done 135 out of 135 | elapsed:  3.5min finished\n"
     ]
    },
    {
     "name": "stdout",
     "output_type": "stream",
     "text": [
      "0:\tlearn: 0.6730562\ttotal: 6.94ms\tremaining: 1.38s\n",
      "1:\tlearn: 0.6583303\ttotal: 12.5ms\tremaining: 1.23s\n",
      "2:\tlearn: 0.6413852\ttotal: 19.3ms\tremaining: 1.27s\n",
      "3:\tlearn: 0.6268405\ttotal: 24.2ms\tremaining: 1.19s\n",
      "4:\tlearn: 0.6150883\ttotal: 29.1ms\tremaining: 1.14s\n",
      "5:\tlearn: 0.5989093\ttotal: 35.3ms\tremaining: 1.14s\n",
      "6:\tlearn: 0.5861303\ttotal: 41.1ms\tremaining: 1.13s\n",
      "7:\tlearn: 0.5735117\ttotal: 47.6ms\tremaining: 1.14s\n",
      "8:\tlearn: 0.5616370\ttotal: 53.5ms\tremaining: 1.14s\n",
      "9:\tlearn: 0.5507706\ttotal: 59.3ms\tremaining: 1.13s\n",
      "10:\tlearn: 0.5388394\ttotal: 67ms\tremaining: 1.15s\n",
      "11:\tlearn: 0.5264516\ttotal: 72.9ms\tremaining: 1.14s\n",
      "12:\tlearn: 0.5191660\ttotal: 81.3ms\tremaining: 1.17s\n",
      "13:\tlearn: 0.5104459\ttotal: 87.1ms\tremaining: 1.16s\n",
      "14:\tlearn: 0.5017018\ttotal: 93.5ms\tremaining: 1.15s\n",
      "15:\tlearn: 0.4954928\ttotal: 100ms\tremaining: 1.15s\n",
      "16:\tlearn: 0.4896817\ttotal: 106ms\tremaining: 1.14s\n",
      "17:\tlearn: 0.4808546\ttotal: 112ms\tremaining: 1.13s\n",
      "18:\tlearn: 0.4724010\ttotal: 118ms\tremaining: 1.12s\n",
      "19:\tlearn: 0.4657244\ttotal: 124ms\tremaining: 1.11s\n",
      "20:\tlearn: 0.4613432\ttotal: 130ms\tremaining: 1.11s\n",
      "21:\tlearn: 0.4537068\ttotal: 136ms\tremaining: 1.1s\n",
      "22:\tlearn: 0.4488883\ttotal: 143ms\tremaining: 1.1s\n",
      "23:\tlearn: 0.4438466\ttotal: 149ms\tremaining: 1.09s\n",
      "24:\tlearn: 0.4372028\ttotal: 154ms\tremaining: 1.08s\n",
      "25:\tlearn: 0.4327993\ttotal: 162ms\tremaining: 1.08s\n",
      "26:\tlearn: 0.4274812\ttotal: 168ms\tremaining: 1.08s\n",
      "27:\tlearn: 0.4215002\ttotal: 176ms\tremaining: 1.08s\n",
      "28:\tlearn: 0.4161126\ttotal: 182ms\tremaining: 1.07s\n",
      "29:\tlearn: 0.4116830\ttotal: 198ms\tremaining: 1.12s\n",
      "30:\tlearn: 0.4074000\ttotal: 208ms\tremaining: 1.13s\n",
      "31:\tlearn: 0.4012367\ttotal: 216ms\tremaining: 1.14s\n",
      "32:\tlearn: 0.3971203\ttotal: 226ms\tremaining: 1.14s\n",
      "33:\tlearn: 0.3909248\ttotal: 238ms\tremaining: 1.16s\n",
      "34:\tlearn: 0.3868997\ttotal: 249ms\tremaining: 1.17s\n",
      "35:\tlearn: 0.3836984\ttotal: 259ms\tremaining: 1.18s\n",
      "36:\tlearn: 0.3800295\ttotal: 269ms\tremaining: 1.19s\n",
      "37:\tlearn: 0.3768893\ttotal: 277ms\tremaining: 1.18s\n",
      "38:\tlearn: 0.3726886\ttotal: 288ms\tremaining: 1.19s\n",
      "39:\tlearn: 0.3692111\ttotal: 298ms\tremaining: 1.19s\n",
      "40:\tlearn: 0.3656284\ttotal: 306ms\tremaining: 1.19s\n",
      "41:\tlearn: 0.3617278\ttotal: 314ms\tremaining: 1.18s\n",
      "42:\tlearn: 0.3580843\ttotal: 323ms\tremaining: 1.18s\n",
      "43:\tlearn: 0.3556401\ttotal: 332ms\tremaining: 1.18s\n",
      "44:\tlearn: 0.3520825\ttotal: 341ms\tremaining: 1.17s\n",
      "45:\tlearn: 0.3493779\ttotal: 349ms\tremaining: 1.17s\n",
      "46:\tlearn: 0.3456837\ttotal: 359ms\tremaining: 1.17s\n",
      "47:\tlearn: 0.3432794\ttotal: 367ms\tremaining: 1.16s\n",
      "48:\tlearn: 0.3401259\ttotal: 376ms\tremaining: 1.16s\n",
      "49:\tlearn: 0.3353722\ttotal: 385ms\tremaining: 1.15s\n",
      "50:\tlearn: 0.3334148\ttotal: 393ms\tremaining: 1.15s\n",
      "51:\tlearn: 0.3299847\ttotal: 401ms\tremaining: 1.14s\n",
      "52:\tlearn: 0.3280110\ttotal: 409ms\tremaining: 1.14s\n",
      "53:\tlearn: 0.3252961\ttotal: 416ms\tremaining: 1.12s\n",
      "54:\tlearn: 0.3233621\ttotal: 425ms\tremaining: 1.12s\n",
      "55:\tlearn: 0.3207172\ttotal: 431ms\tremaining: 1.11s\n",
      "56:\tlearn: 0.3181249\ttotal: 439ms\tremaining: 1.1s\n",
      "57:\tlearn: 0.3161254\ttotal: 446ms\tremaining: 1.09s\n",
      "58:\tlearn: 0.3140861\ttotal: 455ms\tremaining: 1.09s\n",
      "59:\tlearn: 0.3127501\ttotal: 462ms\tremaining: 1.08s\n",
      "60:\tlearn: 0.3110175\ttotal: 471ms\tremaining: 1.07s\n",
      "61:\tlearn: 0.3082383\ttotal: 477ms\tremaining: 1.06s\n",
      "62:\tlearn: 0.3058924\ttotal: 485ms\tremaining: 1.05s\n",
      "63:\tlearn: 0.3034503\ttotal: 492ms\tremaining: 1.04s\n",
      "64:\tlearn: 0.3007585\ttotal: 502ms\tremaining: 1.04s\n",
      "65:\tlearn: 0.2989303\ttotal: 509ms\tremaining: 1.03s\n",
      "66:\tlearn: 0.2974695\ttotal: 519ms\tremaining: 1.03s\n",
      "67:\tlearn: 0.2952234\ttotal: 530ms\tremaining: 1.03s\n",
      "68:\tlearn: 0.2917672\ttotal: 539ms\tremaining: 1.02s\n",
      "69:\tlearn: 0.2904015\ttotal: 544ms\tremaining: 1.01s\n",
      "70:\tlearn: 0.2882877\ttotal: 552ms\tremaining: 1s\n",
      "71:\tlearn: 0.2864031\ttotal: 558ms\tremaining: 993ms\n",
      "72:\tlearn: 0.2847410\ttotal: 566ms\tremaining: 984ms\n",
      "73:\tlearn: 0.2831286\ttotal: 573ms\tremaining: 975ms\n",
      "74:\tlearn: 0.2805571\ttotal: 580ms\tremaining: 966ms\n",
      "75:\tlearn: 0.2788848\ttotal: 585ms\tremaining: 955ms\n",
      "76:\tlearn: 0.2761907\ttotal: 593ms\tremaining: 948ms\n",
      "77:\tlearn: 0.2749625\ttotal: 599ms\tremaining: 937ms\n",
      "78:\tlearn: 0.2733984\ttotal: 606ms\tremaining: 929ms\n",
      "79:\tlearn: 0.2723307\ttotal: 613ms\tremaining: 919ms\n",
      "80:\tlearn: 0.2710214\ttotal: 618ms\tremaining: 909ms\n",
      "81:\tlearn: 0.2699080\ttotal: 625ms\tremaining: 900ms\n",
      "82:\tlearn: 0.2683451\ttotal: 631ms\tremaining: 889ms\n",
      "83:\tlearn: 0.2669487\ttotal: 639ms\tremaining: 883ms\n",
      "84:\tlearn: 0.2647716\ttotal: 645ms\tremaining: 873ms\n",
      "85:\tlearn: 0.2634680\ttotal: 652ms\tremaining: 864ms\n",
      "86:\tlearn: 0.2622303\ttotal: 659ms\tremaining: 856ms\n",
      "87:\tlearn: 0.2605533\ttotal: 668ms\tremaining: 850ms\n",
      "88:\tlearn: 0.2595138\ttotal: 673ms\tremaining: 840ms\n",
      "89:\tlearn: 0.2585753\ttotal: 679ms\tremaining: 830ms\n",
      "90:\tlearn: 0.2569455\ttotal: 686ms\tremaining: 822ms\n",
      "91:\tlearn: 0.2560611\ttotal: 692ms\tremaining: 813ms\n",
      "92:\tlearn: 0.2544070\ttotal: 700ms\tremaining: 806ms\n",
      "93:\tlearn: 0.2517868\ttotal: 706ms\tremaining: 796ms\n",
      "94:\tlearn: 0.2507386\ttotal: 713ms\tremaining: 788ms\n",
      "95:\tlearn: 0.2495004\ttotal: 719ms\tremaining: 778ms\n",
      "96:\tlearn: 0.2474200\ttotal: 724ms\tremaining: 769ms\n",
      "97:\tlearn: 0.2461638\ttotal: 731ms\tremaining: 760ms\n",
      "98:\tlearn: 0.2450345\ttotal: 737ms\tremaining: 752ms\n",
      "99:\tlearn: 0.2444111\ttotal: 742ms\tremaining: 742ms\n",
      "100:\tlearn: 0.2437353\ttotal: 748ms\tremaining: 733ms\n",
      "101:\tlearn: 0.2431478\ttotal: 753ms\tremaining: 724ms\n",
      "102:\tlearn: 0.2418609\ttotal: 760ms\tremaining: 716ms\n",
      "103:\tlearn: 0.2410050\ttotal: 766ms\tremaining: 707ms\n",
      "104:\tlearn: 0.2404146\ttotal: 771ms\tremaining: 697ms\n",
      "105:\tlearn: 0.2383649\ttotal: 777ms\tremaining: 689ms\n",
      "106:\tlearn: 0.2375381\ttotal: 783ms\tremaining: 680ms\n",
      "107:\tlearn: 0.2356240\ttotal: 788ms\tremaining: 671ms\n",
      "108:\tlearn: 0.2348428\ttotal: 793ms\tremaining: 662ms\n",
      "109:\tlearn: 0.2339522\ttotal: 796ms\tremaining: 652ms\n",
      "110:\tlearn: 0.2323986\ttotal: 802ms\tremaining: 643ms\n",
      "111:\tlearn: 0.2311732\ttotal: 808ms\tremaining: 635ms\n",
      "112:\tlearn: 0.2300730\ttotal: 813ms\tremaining: 626ms\n",
      "113:\tlearn: 0.2292724\ttotal: 818ms\tremaining: 617ms\n",
      "114:\tlearn: 0.2286512\ttotal: 825ms\tremaining: 609ms\n",
      "115:\tlearn: 0.2267089\ttotal: 830ms\tremaining: 601ms\n",
      "116:\tlearn: 0.2256888\ttotal: 834ms\tremaining: 592ms\n",
      "117:\tlearn: 0.2250617\ttotal: 841ms\tremaining: 585ms\n",
      "118:\tlearn: 0.2242462\ttotal: 846ms\tremaining: 576ms\n",
      "119:\tlearn: 0.2233604\ttotal: 852ms\tremaining: 568ms\n",
      "120:\tlearn: 0.2222975\ttotal: 857ms\tremaining: 559ms\n",
      "121:\tlearn: 0.2217859\ttotal: 861ms\tremaining: 551ms\n",
      "122:\tlearn: 0.2206889\ttotal: 867ms\tremaining: 542ms\n",
      "123:\tlearn: 0.2184409\ttotal: 873ms\tremaining: 535ms\n",
      "124:\tlearn: 0.2175196\ttotal: 878ms\tremaining: 527ms\n",
      "125:\tlearn: 0.2156052\ttotal: 886ms\tremaining: 520ms\n",
      "126:\tlearn: 0.2149540\ttotal: 892ms\tremaining: 513ms\n",
      "127:\tlearn: 0.2133339\ttotal: 897ms\tremaining: 505ms\n",
      "128:\tlearn: 0.2120956\ttotal: 903ms\tremaining: 497ms\n",
      "129:\tlearn: 0.2102807\ttotal: 908ms\tremaining: 489ms\n",
      "130:\tlearn: 0.2091413\ttotal: 914ms\tremaining: 481ms\n",
      "131:\tlearn: 0.2083858\ttotal: 919ms\tremaining: 473ms\n",
      "132:\tlearn: 0.2082139\ttotal: 920ms\tremaining: 464ms\n",
      "133:\tlearn: 0.2075806\ttotal: 925ms\tremaining: 456ms\n",
      "134:\tlearn: 0.2065749\ttotal: 931ms\tremaining: 448ms\n",
      "135:\tlearn: 0.2056529\ttotal: 937ms\tremaining: 441ms\n",
      "136:\tlearn: 0.2050428\ttotal: 942ms\tremaining: 433ms\n",
      "137:\tlearn: 0.2044387\ttotal: 948ms\tremaining: 426ms\n",
      "138:\tlearn: 0.2039460\ttotal: 953ms\tremaining: 418ms\n",
      "139:\tlearn: 0.2023206\ttotal: 958ms\tremaining: 411ms\n",
      "140:\tlearn: 0.2013544\ttotal: 965ms\tremaining: 404ms\n",
      "141:\tlearn: 0.2001691\ttotal: 969ms\tremaining: 396ms\n",
      "142:\tlearn: 0.1991756\ttotal: 975ms\tremaining: 388ms\n",
      "143:\tlearn: 0.1982775\ttotal: 979ms\tremaining: 381ms\n",
      "144:\tlearn: 0.1972000\ttotal: 984ms\tremaining: 373ms\n",
      "145:\tlearn: 0.1954370\ttotal: 989ms\tremaining: 366ms\n",
      "146:\tlearn: 0.1943625\ttotal: 995ms\tremaining: 359ms\n",
      "147:\tlearn: 0.1933603\ttotal: 1000ms\tremaining: 351ms\n",
      "148:\tlearn: 0.1923451\ttotal: 1s\tremaining: 344ms\n",
      "149:\tlearn: 0.1909043\ttotal: 1.01s\tremaining: 337ms\n",
      "150:\tlearn: 0.1900798\ttotal: 1.01s\tremaining: 330ms\n",
      "151:\tlearn: 0.1896075\ttotal: 1.02s\tremaining: 322ms\n",
      "152:\tlearn: 0.1886362\ttotal: 1.03s\tremaining: 315ms\n",
      "153:\tlearn: 0.1879743\ttotal: 1.03s\tremaining: 308ms\n",
      "154:\tlearn: 0.1872903\ttotal: 1.04s\tremaining: 301ms\n",
      "155:\tlearn: 0.1858487\ttotal: 1.04s\tremaining: 294ms\n",
      "156:\tlearn: 0.1847557\ttotal: 1.04s\tremaining: 286ms\n",
      "157:\tlearn: 0.1834748\ttotal: 1.05s\tremaining: 279ms\n",
      "158:\tlearn: 0.1827393\ttotal: 1.06s\tremaining: 273ms\n",
      "159:\tlearn: 0.1820029\ttotal: 1.06s\tremaining: 266ms\n",
      "160:\tlearn: 0.1814870\ttotal: 1.07s\tremaining: 259ms\n",
      "161:\tlearn: 0.1807143\ttotal: 1.07s\tremaining: 252ms\n",
      "162:\tlearn: 0.1788792\ttotal: 1.08s\tremaining: 245ms\n",
      "163:\tlearn: 0.1781223\ttotal: 1.08s\tremaining: 238ms\n",
      "164:\tlearn: 0.1778573\ttotal: 1.09s\tremaining: 231ms\n",
      "165:\tlearn: 0.1774994\ttotal: 1.09s\tremaining: 224ms\n",
      "166:\tlearn: 0.1766472\ttotal: 1.1s\tremaining: 218ms\n",
      "167:\tlearn: 0.1753854\ttotal: 1.1s\tremaining: 211ms\n",
      "168:\tlearn: 0.1740620\ttotal: 1.11s\tremaining: 204ms\n",
      "169:\tlearn: 0.1731421\ttotal: 1.12s\tremaining: 197ms\n",
      "170:\tlearn: 0.1723542\ttotal: 1.12s\tremaining: 190ms\n",
      "171:\tlearn: 0.1716360\ttotal: 1.13s\tremaining: 184ms\n",
      "172:\tlearn: 0.1705085\ttotal: 1.13s\tremaining: 177ms\n",
      "173:\tlearn: 0.1694723\ttotal: 1.14s\tremaining: 170ms\n",
      "174:\tlearn: 0.1688626\ttotal: 1.14s\tremaining: 163ms\n",
      "175:\tlearn: 0.1682950\ttotal: 1.15s\tremaining: 157ms\n",
      "176:\tlearn: 0.1674069\ttotal: 1.15s\tremaining: 150ms\n",
      "177:\tlearn: 0.1672303\ttotal: 1.16s\tremaining: 143ms\n",
      "178:\tlearn: 0.1666822\ttotal: 1.16s\tremaining: 137ms\n",
      "179:\tlearn: 0.1660508\ttotal: 1.17s\tremaining: 130ms\n",
      "180:\tlearn: 0.1653085\ttotal: 1.18s\tremaining: 123ms\n",
      "181:\tlearn: 0.1643963\ttotal: 1.18s\tremaining: 117ms\n",
      "182:\tlearn: 0.1635574\ttotal: 1.19s\tremaining: 110ms\n",
      "183:\tlearn: 0.1627505\ttotal: 1.19s\tremaining: 104ms\n",
      "184:\tlearn: 0.1620530\ttotal: 1.2s\tremaining: 97.1ms\n",
      "185:\tlearn: 0.1616087\ttotal: 1.2s\tremaining: 90.5ms\n",
      "186:\tlearn: 0.1606996\ttotal: 1.21s\tremaining: 84ms\n",
      "187:\tlearn: 0.1597629\ttotal: 1.21s\tremaining: 77.5ms\n",
      "188:\tlearn: 0.1590408\ttotal: 1.22s\tremaining: 70.9ms\n",
      "189:\tlearn: 0.1586038\ttotal: 1.22s\tremaining: 64.4ms\n",
      "190:\tlearn: 0.1578480\ttotal: 1.23s\tremaining: 58ms\n",
      "191:\tlearn: 0.1571188\ttotal: 1.24s\tremaining: 51.5ms\n",
      "192:\tlearn: 0.1561423\ttotal: 1.24s\tremaining: 45ms\n",
      "193:\tlearn: 0.1555195\ttotal: 1.25s\tremaining: 38.6ms\n",
      "194:\tlearn: 0.1541191\ttotal: 1.25s\tremaining: 32.1ms\n",
      "195:\tlearn: 0.1528584\ttotal: 1.26s\tremaining: 25.7ms\n",
      "196:\tlearn: 0.1519591\ttotal: 1.26s\tremaining: 19.2ms\n",
      "197:\tlearn: 0.1513487\ttotal: 1.27s\tremaining: 12.8ms\n",
      "198:\tlearn: 0.1508775\ttotal: 1.27s\tremaining: 6.41ms\n",
      "199:\tlearn: 0.1496718\ttotal: 1.28s\tremaining: 0us\n"
     ]
    }
   ],
   "source": [
    "catb_cv_model=GridSearchCV(catb,catb_params,cv=5,n_jobs=-1,verbose=2).fit(X_train,y_train)"
   ]
  },
  {
   "cell_type": "code",
   "execution_count": 14,
   "metadata": {},
   "outputs": [
    {
     "data": {
      "text/plain": [
       "{'depth': 8, 'iterations': 200, 'learning_rate': 0.03}"
      ]
     },
     "execution_count": 14,
     "metadata": {},
     "output_type": "execute_result"
    }
   ],
   "source": [
    "catb_cv_model.best_params_"
   ]
  },
  {
   "cell_type": "code",
   "execution_count": 15,
   "metadata": {
    "collapsed": true,
    "jupyter": {
     "outputs_hidden": true
    }
   },
   "outputs": [
    {
     "name": "stdout",
     "output_type": "stream",
     "text": [
      "0:\tlearn: 0.6730562\ttotal: 8.01ms\tremaining: 1.59s\n",
      "1:\tlearn: 0.6583303\ttotal: 14.4ms\tremaining: 1.43s\n",
      "2:\tlearn: 0.6413852\ttotal: 21.4ms\tremaining: 1.41s\n",
      "3:\tlearn: 0.6268405\ttotal: 28.6ms\tremaining: 1.4s\n",
      "4:\tlearn: 0.6150883\ttotal: 34.1ms\tremaining: 1.33s\n",
      "5:\tlearn: 0.5989093\ttotal: 39.8ms\tremaining: 1.29s\n",
      "6:\tlearn: 0.5861303\ttotal: 45.5ms\tremaining: 1.25s\n",
      "7:\tlearn: 0.5735117\ttotal: 51ms\tremaining: 1.22s\n",
      "8:\tlearn: 0.5616370\ttotal: 57ms\tremaining: 1.21s\n",
      "9:\tlearn: 0.5507706\ttotal: 62.5ms\tremaining: 1.19s\n",
      "10:\tlearn: 0.5388394\ttotal: 68.1ms\tremaining: 1.17s\n",
      "11:\tlearn: 0.5264516\ttotal: 72.8ms\tremaining: 1.14s\n",
      "12:\tlearn: 0.5191660\ttotal: 77.4ms\tremaining: 1.11s\n",
      "13:\tlearn: 0.5104459\ttotal: 82ms\tremaining: 1.09s\n",
      "14:\tlearn: 0.5017018\ttotal: 86.5ms\tremaining: 1.07s\n",
      "15:\tlearn: 0.4954928\ttotal: 91ms\tremaining: 1.05s\n",
      "16:\tlearn: 0.4896817\ttotal: 95.9ms\tremaining: 1.03s\n",
      "17:\tlearn: 0.4808546\ttotal: 101ms\tremaining: 1.02s\n",
      "18:\tlearn: 0.4724010\ttotal: 106ms\tremaining: 1.01s\n",
      "19:\tlearn: 0.4657244\ttotal: 111ms\tremaining: 996ms\n",
      "20:\tlearn: 0.4613432\ttotal: 116ms\tremaining: 991ms\n",
      "21:\tlearn: 0.4537068\ttotal: 121ms\tremaining: 979ms\n",
      "22:\tlearn: 0.4488883\ttotal: 126ms\tremaining: 967ms\n",
      "23:\tlearn: 0.4438466\ttotal: 131ms\tremaining: 958ms\n",
      "24:\tlearn: 0.4372028\ttotal: 135ms\tremaining: 947ms\n",
      "25:\tlearn: 0.4327993\ttotal: 140ms\tremaining: 937ms\n",
      "26:\tlearn: 0.4274812\ttotal: 145ms\tremaining: 928ms\n",
      "27:\tlearn: 0.4215002\ttotal: 149ms\tremaining: 918ms\n",
      "28:\tlearn: 0.4161126\ttotal: 154ms\tremaining: 908ms\n",
      "29:\tlearn: 0.4116830\ttotal: 159ms\tremaining: 899ms\n",
      "30:\tlearn: 0.4074000\ttotal: 163ms\tremaining: 890ms\n",
      "31:\tlearn: 0.4012367\ttotal: 168ms\tremaining: 881ms\n",
      "32:\tlearn: 0.3971203\ttotal: 172ms\tremaining: 873ms\n",
      "33:\tlearn: 0.3909248\ttotal: 177ms\tremaining: 864ms\n",
      "34:\tlearn: 0.3868997\ttotal: 183ms\tremaining: 861ms\n",
      "35:\tlearn: 0.3836984\ttotal: 190ms\tremaining: 866ms\n",
      "36:\tlearn: 0.3800295\ttotal: 200ms\tremaining: 880ms\n",
      "37:\tlearn: 0.3768893\ttotal: 210ms\tremaining: 897ms\n",
      "38:\tlearn: 0.3726886\ttotal: 215ms\tremaining: 888ms\n",
      "39:\tlearn: 0.3692111\ttotal: 220ms\tremaining: 878ms\n",
      "40:\tlearn: 0.3656284\ttotal: 230ms\tremaining: 892ms\n",
      "41:\tlearn: 0.3617278\ttotal: 242ms\tremaining: 911ms\n",
      "42:\tlearn: 0.3580843\ttotal: 256ms\tremaining: 934ms\n",
      "43:\tlearn: 0.3556401\ttotal: 273ms\tremaining: 967ms\n",
      "44:\tlearn: 0.3520825\ttotal: 287ms\tremaining: 987ms\n",
      "45:\tlearn: 0.3493779\ttotal: 299ms\tremaining: 1s\n",
      "46:\tlearn: 0.3456837\ttotal: 310ms\tremaining: 1.01s\n",
      "47:\tlearn: 0.3432794\ttotal: 321ms\tremaining: 1.02s\n",
      "48:\tlearn: 0.3401259\ttotal: 334ms\tremaining: 1.03s\n",
      "49:\tlearn: 0.3353722\ttotal: 345ms\tremaining: 1.03s\n",
      "50:\tlearn: 0.3334148\ttotal: 357ms\tremaining: 1.04s\n",
      "51:\tlearn: 0.3299847\ttotal: 372ms\tremaining: 1.06s\n",
      "52:\tlearn: 0.3280110\ttotal: 378ms\tremaining: 1.05s\n",
      "53:\tlearn: 0.3252961\ttotal: 385ms\tremaining: 1.04s\n",
      "54:\tlearn: 0.3233621\ttotal: 389ms\tremaining: 1.03s\n",
      "55:\tlearn: 0.3207172\ttotal: 395ms\tremaining: 1.01s\n",
      "56:\tlearn: 0.3181249\ttotal: 399ms\tremaining: 1s\n",
      "57:\tlearn: 0.3161254\ttotal: 404ms\tremaining: 989ms\n",
      "58:\tlearn: 0.3140861\ttotal: 408ms\tremaining: 976ms\n",
      "59:\tlearn: 0.3127501\ttotal: 413ms\tremaining: 964ms\n",
      "60:\tlearn: 0.3110175\ttotal: 418ms\tremaining: 952ms\n",
      "61:\tlearn: 0.3082383\ttotal: 422ms\tremaining: 940ms\n",
      "62:\tlearn: 0.3058924\ttotal: 427ms\tremaining: 929ms\n",
      "63:\tlearn: 0.3034503\ttotal: 432ms\tremaining: 918ms\n",
      "64:\tlearn: 0.3007585\ttotal: 437ms\tremaining: 907ms\n",
      "65:\tlearn: 0.2989303\ttotal: 441ms\tremaining: 896ms\n",
      "66:\tlearn: 0.2974695\ttotal: 446ms\tremaining: 885ms\n",
      "67:\tlearn: 0.2952234\ttotal: 450ms\tremaining: 874ms\n",
      "68:\tlearn: 0.2917672\ttotal: 455ms\tremaining: 864ms\n",
      "69:\tlearn: 0.2904015\ttotal: 457ms\tremaining: 849ms\n",
      "70:\tlearn: 0.2882877\ttotal: 462ms\tremaining: 839ms\n",
      "71:\tlearn: 0.2864031\ttotal: 466ms\tremaining: 829ms\n",
      "72:\tlearn: 0.2847410\ttotal: 471ms\tremaining: 820ms\n",
      "73:\tlearn: 0.2831286\ttotal: 476ms\tremaining: 810ms\n",
      "74:\tlearn: 0.2805571\ttotal: 480ms\tremaining: 800ms\n",
      "75:\tlearn: 0.2788848\ttotal: 485ms\tremaining: 791ms\n",
      "76:\tlearn: 0.2761907\ttotal: 490ms\tremaining: 782ms\n",
      "77:\tlearn: 0.2749625\ttotal: 494ms\tremaining: 773ms\n",
      "78:\tlearn: 0.2733984\ttotal: 499ms\tremaining: 764ms\n",
      "79:\tlearn: 0.2723307\ttotal: 503ms\tremaining: 755ms\n",
      "80:\tlearn: 0.2710214\ttotal: 508ms\tremaining: 746ms\n",
      "81:\tlearn: 0.2699080\ttotal: 513ms\tremaining: 739ms\n",
      "82:\tlearn: 0.2683451\ttotal: 519ms\tremaining: 731ms\n",
      "83:\tlearn: 0.2669487\ttotal: 523ms\tremaining: 723ms\n",
      "84:\tlearn: 0.2647716\ttotal: 529ms\tremaining: 715ms\n",
      "85:\tlearn: 0.2634680\ttotal: 536ms\tremaining: 711ms\n",
      "86:\tlearn: 0.2622303\ttotal: 542ms\tremaining: 704ms\n",
      "87:\tlearn: 0.2605533\ttotal: 548ms\tremaining: 698ms\n",
      "88:\tlearn: 0.2595138\ttotal: 554ms\tremaining: 691ms\n",
      "89:\tlearn: 0.2585753\ttotal: 560ms\tremaining: 684ms\n",
      "90:\tlearn: 0.2569455\ttotal: 566ms\tremaining: 678ms\n",
      "91:\tlearn: 0.2560611\ttotal: 571ms\tremaining: 670ms\n",
      "92:\tlearn: 0.2544070\ttotal: 576ms\tremaining: 662ms\n",
      "93:\tlearn: 0.2517868\ttotal: 581ms\tremaining: 656ms\n",
      "94:\tlearn: 0.2507386\ttotal: 586ms\tremaining: 648ms\n",
      "95:\tlearn: 0.2495004\ttotal: 591ms\tremaining: 641ms\n",
      "96:\tlearn: 0.2474200\ttotal: 597ms\tremaining: 634ms\n",
      "97:\tlearn: 0.2461638\ttotal: 602ms\tremaining: 626ms\n",
      "98:\tlearn: 0.2450345\ttotal: 606ms\tremaining: 619ms\n",
      "99:\tlearn: 0.2444111\ttotal: 612ms\tremaining: 612ms\n",
      "100:\tlearn: 0.2437353\ttotal: 617ms\tremaining: 604ms\n",
      "101:\tlearn: 0.2431478\ttotal: 622ms\tremaining: 597ms\n",
      "102:\tlearn: 0.2418609\ttotal: 627ms\tremaining: 590ms\n",
      "103:\tlearn: 0.2410050\ttotal: 635ms\tremaining: 586ms\n",
      "104:\tlearn: 0.2404146\ttotal: 644ms\tremaining: 583ms\n",
      "105:\tlearn: 0.2383649\ttotal: 650ms\tremaining: 576ms\n",
      "106:\tlearn: 0.2375381\ttotal: 655ms\tremaining: 569ms\n",
      "107:\tlearn: 0.2356240\ttotal: 663ms\tremaining: 565ms\n",
      "108:\tlearn: 0.2348428\ttotal: 667ms\tremaining: 557ms\n",
      "109:\tlearn: 0.2339522\ttotal: 670ms\tremaining: 548ms\n",
      "110:\tlearn: 0.2323986\ttotal: 676ms\tremaining: 542ms\n",
      "111:\tlearn: 0.2311732\ttotal: 680ms\tremaining: 535ms\n",
      "112:\tlearn: 0.2300730\ttotal: 685ms\tremaining: 527ms\n",
      "113:\tlearn: 0.2292724\ttotal: 690ms\tremaining: 521ms\n",
      "114:\tlearn: 0.2286512\ttotal: 695ms\tremaining: 513ms\n",
      "115:\tlearn: 0.2267089\ttotal: 699ms\tremaining: 506ms\n",
      "116:\tlearn: 0.2256888\ttotal: 704ms\tremaining: 499ms\n",
      "117:\tlearn: 0.2250617\ttotal: 710ms\tremaining: 493ms\n",
      "118:\tlearn: 0.2242462\ttotal: 715ms\tremaining: 487ms\n",
      "119:\tlearn: 0.2233604\ttotal: 721ms\tremaining: 481ms\n",
      "120:\tlearn: 0.2222975\ttotal: 728ms\tremaining: 475ms\n",
      "121:\tlearn: 0.2217859\ttotal: 733ms\tremaining: 468ms\n",
      "122:\tlearn: 0.2206889\ttotal: 738ms\tremaining: 462ms\n",
      "123:\tlearn: 0.2184409\ttotal: 742ms\tremaining: 455ms\n",
      "124:\tlearn: 0.2175196\ttotal: 747ms\tremaining: 448ms\n",
      "125:\tlearn: 0.2156052\ttotal: 752ms\tremaining: 442ms\n",
      "126:\tlearn: 0.2149540\ttotal: 756ms\tremaining: 435ms\n",
      "127:\tlearn: 0.2133339\ttotal: 762ms\tremaining: 428ms\n",
      "128:\tlearn: 0.2120956\ttotal: 766ms\tremaining: 422ms\n",
      "129:\tlearn: 0.2102807\ttotal: 771ms\tremaining: 415ms\n",
      "130:\tlearn: 0.2091413\ttotal: 776ms\tremaining: 409ms\n",
      "131:\tlearn: 0.2083858\ttotal: 780ms\tremaining: 402ms\n",
      "132:\tlearn: 0.2082139\ttotal: 782ms\tremaining: 394ms\n",
      "133:\tlearn: 0.2075806\ttotal: 786ms\tremaining: 387ms\n",
      "134:\tlearn: 0.2065749\ttotal: 791ms\tremaining: 381ms\n",
      "135:\tlearn: 0.2056529\ttotal: 796ms\tremaining: 375ms\n",
      "136:\tlearn: 0.2050428\ttotal: 801ms\tremaining: 368ms\n",
      "137:\tlearn: 0.2044387\ttotal: 805ms\tremaining: 362ms\n",
      "138:\tlearn: 0.2039460\ttotal: 810ms\tremaining: 356ms\n",
      "139:\tlearn: 0.2023206\ttotal: 815ms\tremaining: 349ms\n",
      "140:\tlearn: 0.2013544\ttotal: 820ms\tremaining: 343ms\n",
      "141:\tlearn: 0.2001691\ttotal: 825ms\tremaining: 337ms\n",
      "142:\tlearn: 0.1991756\ttotal: 831ms\tremaining: 331ms\n",
      "143:\tlearn: 0.1982775\ttotal: 836ms\tremaining: 325ms\n",
      "144:\tlearn: 0.1972000\ttotal: 840ms\tremaining: 319ms\n",
      "145:\tlearn: 0.1954370\ttotal: 846ms\tremaining: 313ms\n",
      "146:\tlearn: 0.1943625\ttotal: 851ms\tremaining: 307ms\n",
      "147:\tlearn: 0.1933603\ttotal: 856ms\tremaining: 301ms\n",
      "148:\tlearn: 0.1923451\ttotal: 861ms\tremaining: 295ms\n",
      "149:\tlearn: 0.1909043\ttotal: 866ms\tremaining: 289ms\n",
      "150:\tlearn: 0.1900798\ttotal: 871ms\tremaining: 283ms\n",
      "151:\tlearn: 0.1896075\ttotal: 876ms\tremaining: 277ms\n",
      "152:\tlearn: 0.1886362\ttotal: 882ms\tremaining: 271ms\n",
      "153:\tlearn: 0.1879743\ttotal: 887ms\tremaining: 265ms\n",
      "154:\tlearn: 0.1872903\ttotal: 895ms\tremaining: 260ms\n",
      "155:\tlearn: 0.1858487\ttotal: 904ms\tremaining: 255ms\n",
      "156:\tlearn: 0.1847557\ttotal: 912ms\tremaining: 250ms\n",
      "157:\tlearn: 0.1834748\ttotal: 922ms\tremaining: 245ms\n",
      "158:\tlearn: 0.1827393\ttotal: 927ms\tremaining: 239ms\n",
      "159:\tlearn: 0.1820029\ttotal: 933ms\tremaining: 233ms\n",
      "160:\tlearn: 0.1814870\ttotal: 940ms\tremaining: 228ms\n",
      "161:\tlearn: 0.1807143\ttotal: 946ms\tremaining: 222ms\n",
      "162:\tlearn: 0.1788792\ttotal: 953ms\tremaining: 216ms\n",
      "163:\tlearn: 0.1781223\ttotal: 958ms\tremaining: 210ms\n",
      "164:\tlearn: 0.1778573\ttotal: 964ms\tremaining: 204ms\n",
      "165:\tlearn: 0.1774994\ttotal: 968ms\tremaining: 198ms\n",
      "166:\tlearn: 0.1766472\ttotal: 973ms\tremaining: 192ms\n",
      "167:\tlearn: 0.1753854\ttotal: 978ms\tremaining: 186ms\n",
      "168:\tlearn: 0.1740620\ttotal: 982ms\tremaining: 180ms\n",
      "169:\tlearn: 0.1731421\ttotal: 987ms\tremaining: 174ms\n",
      "170:\tlearn: 0.1723542\ttotal: 991ms\tremaining: 168ms\n",
      "171:\tlearn: 0.1716360\ttotal: 997ms\tremaining: 162ms\n",
      "172:\tlearn: 0.1705085\ttotal: 1s\tremaining: 156ms\n",
      "173:\tlearn: 0.1694723\ttotal: 1s\tremaining: 150ms\n",
      "174:\tlearn: 0.1688626\ttotal: 1.01s\tremaining: 144ms\n",
      "175:\tlearn: 0.1682950\ttotal: 1.01s\tremaining: 138ms\n",
      "176:\tlearn: 0.1674069\ttotal: 1.02s\tremaining: 132ms\n",
      "177:\tlearn: 0.1672303\ttotal: 1.02s\tremaining: 127ms\n",
      "178:\tlearn: 0.1666822\ttotal: 1.03s\tremaining: 121ms\n",
      "179:\tlearn: 0.1660508\ttotal: 1.03s\tremaining: 115ms\n",
      "180:\tlearn: 0.1653085\ttotal: 1.04s\tremaining: 109ms\n",
      "181:\tlearn: 0.1643963\ttotal: 1.04s\tremaining: 103ms\n",
      "182:\tlearn: 0.1635574\ttotal: 1.05s\tremaining: 97.4ms\n",
      "183:\tlearn: 0.1627505\ttotal: 1.05s\tremaining: 91.7ms\n",
      "184:\tlearn: 0.1620530\ttotal: 1.06s\tremaining: 86ms\n",
      "185:\tlearn: 0.1616087\ttotal: 1.07s\tremaining: 80.3ms\n",
      "186:\tlearn: 0.1606996\ttotal: 1.07s\tremaining: 74.6ms\n",
      "187:\tlearn: 0.1597629\ttotal: 1.08s\tremaining: 68.9ms\n",
      "188:\tlearn: 0.1590408\ttotal: 1.08s\tremaining: 63.1ms\n",
      "189:\tlearn: 0.1586038\ttotal: 1.09s\tremaining: 57.4ms\n",
      "190:\tlearn: 0.1578480\ttotal: 1.09s\tremaining: 51.6ms\n",
      "191:\tlearn: 0.1571188\ttotal: 1.1s\tremaining: 45.8ms\n",
      "192:\tlearn: 0.1561423\ttotal: 1.1s\tremaining: 40.1ms\n",
      "193:\tlearn: 0.1555195\ttotal: 1.11s\tremaining: 34.3ms\n",
      "194:\tlearn: 0.1541191\ttotal: 1.11s\tremaining: 28.6ms\n",
      "195:\tlearn: 0.1528584\ttotal: 1.12s\tremaining: 22.9ms\n",
      "196:\tlearn: 0.1519591\ttotal: 1.12s\tremaining: 17.1ms\n",
      "197:\tlearn: 0.1513487\ttotal: 1.13s\tremaining: 11.4ms\n",
      "198:\tlearn: 0.1508775\ttotal: 1.13s\tremaining: 5.7ms\n",
      "199:\tlearn: 0.1496718\ttotal: 1.14s\tremaining: 0us\n"
     ]
    }
   ],
   "source": [
    "catb_tuned=CatBoostClassifier(iterations=200,learning_rate=0.03,depth=8).fit(X_train,y_train)"
   ]
  },
  {
   "cell_type": "code",
   "execution_count": 16,
   "metadata": {},
   "outputs": [],
   "source": [
    "y_pred=catb_tuned.predict(X_test)"
   ]
  },
  {
   "cell_type": "code",
   "execution_count": 18,
   "metadata": {},
   "outputs": [
    {
     "data": {
      "text/plain": [
       "0.7489177489177489"
      ]
     },
     "execution_count": 18,
     "metadata": {},
     "output_type": "execute_result"
    }
   ],
   "source": [
    "accuracy_score(y_test,y_pred)"
   ]
  },
  {
   "cell_type": "markdown",
   "metadata": {},
   "source": [
    "# Değişken Önem Düzeyi"
   ]
  },
  {
   "cell_type": "code",
   "execution_count": 19,
   "metadata": {},
   "outputs": [
    {
     "data": {
      "image/png": "[encoded data removed]",
      "text/plain": [
       "<Figure size 432x288 with 1 Axes>"
      ]
     },
     "metadata": {
      "needs_background": "light"
     },
     "output_type": "display_data"
    }
   ],
   "source": [
    "features_imp=pd.Series(catb_tuned.feature_importances_,\n",
    "                      index=X_train.columns).sort_values(ascending=False)\n",
    "\n",
    "sns.barplot(x=features_imp,y=features_imp.index)\n",
    "plt.xlabel('Değişken önem düzeyleri')\n",
    "plt.ylabel('Değişkenler')\n",
    "plt.title('Değişken Önem düzeyleri')\n",
    "plt.show()"
   ]
  },
  {
   "cell_type": "code",
   "execution_count": null,
   "metadata": {},
   "outputs": [],
   "source": []
  }
 ],
 "metadata": {
  "kernelspec": {
   "display_name": "machinelearning",
   "language": "python",
   "name": "machinelearning"
  },
  "language_info": {
   "codemirror_mode": {
    "name": "ipython",
    "version": 3
   },
   "file_extension": ".py",
   "mimetype": "text/x-python",
   "name": "python",
   "nbconvert_exporter": "python",
   "pygments_lexer": "ipython3",
   "version": "3.8.3"
  }
 },
 "nbformat": 4,
 "nbformat_minor": 4
}
